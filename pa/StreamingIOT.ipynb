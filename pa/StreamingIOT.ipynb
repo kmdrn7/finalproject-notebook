{
 "cells": [
  {
   "cell_type": "code",
   "execution_count": 1,
   "id": "e2029c54-5854-445a-be1e-e0be644f8ae5",
   "metadata": {},
   "outputs": [],
   "source": [
    "from datetime import datetime \n",
    "from decimal import Decimal\n",
    "\n",
    "import findspark\n",
    "import json\n",
    "import pyspark\n",
    "import pyspark.sql.functions as F\n",
    "\n",
    "from pyspark.sql import SparkSession\n",
    "from pyspark.sql.types import *\n",
    "from pyspark.ml.linalg import Vectors, VectorUDT\n",
    "from pyspark.ml.feature import VectorAssembler, StandardScaler \n",
    "from pyspark.sql.functions import from_utc_timestamp\n",
    "\n",
    "from pyspark.sql.types import *\n",
    "from pyspark.ml.linalg import Vectors, VectorUDT\n",
    "from pyspark.ml.feature import VectorAssembler, StandardScaler\n",
    "from pyspark.ml.evaluation import MulticlassClassificationEvaluator\n",
    "from pyspark.ml.classification import DecisionTreeClassifier\n",
    "from pyspark.ml.feature import StringIndexer"
   ]
  },
  {
   "cell_type": "code",
   "execution_count": 2,
   "id": "929a322e-7750-46e2-9930-d83955941e8e",
   "metadata": {},
   "outputs": [],
   "source": [
    "findspark.init()"
   ]
  },
  {
   "cell_type": "code",
   "execution_count": 3,
   "id": "b44db3ef-3f8e-4db5-95ef-9765978d84d1",
   "metadata": {},
   "outputs": [],
   "source": [
    "# data diflatkan biar ga bercabang --> pada extract feature\n",
    "def flatten_df(nested_df):\n",
    "    flat_cols = [c[0] for c in nested_df.dtypes if c[1][:6] != 'struct']\n",
    "    nested_cols = [c[0] for c in nested_df.dtypes if c[1][:6] == 'struct']\n",
    "    flat_df = nested_df.select(flat_cols +\n",
    "                               [F.col(nc+'.'+c).alias(nc+'_'+c)\n",
    "                                for nc in nested_cols\n",
    "                                for c in nested_df.select(nc+'.*').columns])\n",
    "    return flat_df"
   ]
  },
  {
   "cell_type": "code",
   "execution_count": 4,
   "id": "e7d8ac79-7d7d-42d5-b0e6-8f4c8bb57573",
   "metadata": {},
   "outputs": [],
   "source": [
    "def date_udf(x):\n",
    "    dec = Decimal(x)\n",
    "    c = datetime.fromtimestamp(int(dec)/1000).strftime(\"%Y-%m-%d %H:%M:%S\")\n",
    "    return c"
   ]
  },
  {
   "cell_type": "code",
   "execution_count": 5,
   "id": "e1108745-8cb2-4138-8088-ac7b86ae80e3",
   "metadata": {},
   "outputs": [],
   "source": [
    "def write_mongo_row(df, epoch_id):\n",
    "    df.write.format(\"mongo\").mode(\"append\").option(\"database\",\"IoTMalwareDetection\").option(\"collection\",\"results\").save()\n",
    "    pass"
   ]
  },
  {
   "cell_type": "code",
   "execution_count": 6,
   "id": "79aabb27-5d7d-4cdb-a282-d723f80767a3",
   "metadata": {},
   "outputs": [],
   "source": [
    "spark = (SparkSession\n",
    "         .builder\n",
    "         .master('local')\n",
    "         .appName('IoTMalwareDetection')\n",
    "         .config(\"spark.jars.packages\", \"org.mongodb.spark:mongo-spark-connector_2.12:3.0.1,org.apache.spark:spark-sql-kafka-0-10_2.12:3.1.1\")\n",
    "         .config(\"spark.mongodb.input.uri\",\"mongodb://ta:ta@192.168.100.29:27018/IoTMalwareDetection.results?authSource=admin\")\n",
    "         .config(\"spark.mongodb.output.uri\",\"mongodb://ta:ta@192.168.100.29:27018/IoTMalwareDetection.results?authSource=admin\")\n",
    "         .getOrCreate())\n",
    "\n",
    "spark.conf.set(\"spark.sql.caseSensitive\", \"true\")\n",
    "\n",
    "sc = spark.sparkContext"
   ]
  },
  {
   "cell_type": "code",
   "execution_count": 7,
   "id": "3cb86b5d-ccd2-47d9-a674-30e29ee19daa",
   "metadata": {},
   "outputs": [],
   "source": [
    "df_train = spark.read.csv('/media/kmdr7/Seagate/TA/DATASETS/DatasetSampled.csv', header=\"true\", inferSchema=True)"
   ]
  },
  {
   "cell_type": "code",
   "execution_count": 8,
   "id": "3a536e08-d53b-4240-ac90-fd6cf09633d1",
   "metadata": {},
   "outputs": [],
   "source": [
    "df_train = df_train.select([F.col(column).cast('double') for column in df_train.columns[:-1]] + ['Label'])"
   ]
  },
  {
   "cell_type": "code",
   "execution_count": 9,
   "id": "db26e2e3-4607-47be-9d31-c114c9fdf97b",
   "metadata": {},
   "outputs": [],
   "source": [
    "featureImp = ['FWD Init Win Bytes','Idle Max','Fwd Header Length','Bwd Packets/s','Flow Bytes/s','Bwd Init Win Bytes','Flow IAT Max']\n",
    "dfImp = df_train.select(F.col('FWD Init Win Bytes'), F.col('Idle Max'), F.col('Fwd Header Length'),F.col('Bwd Packets/s'), F.col('Flow Bytes/s'), F.col('Bwd Init Win Bytes'), F.col('Flow IAT Max'),F.col('Label'))"
   ]
  },
  {
   "cell_type": "code",
   "execution_count": 10,
   "id": "f59c1a46-f948-46f1-b360-c3bc6e635e5d",
   "metadata": {},
   "outputs": [],
   "source": [
    "vector_assembler = VectorAssembler(inputCols=featureImp, outputCol=\"features\")\n",
    "dfImp = vector_assembler.transform(dfImp)\n",
    "scaler = StandardScaler(inputCol=\"features\", outputCol=\"s_features\", withStd=True, withMean=True)"
   ]
  },
  {
   "cell_type": "code",
   "execution_count": 11,
   "id": "d5784dec-a4ed-4090-9a64-efbfbce52d8c",
   "metadata": {},
   "outputs": [],
   "source": [
    "train = scaler.fit(dfImp).transform(dfImp)"
   ]
  },
  {
   "cell_type": "code",
   "execution_count": 12,
   "id": "79a292c2-0ce8-43dd-84c8-31f10f7994cd",
   "metadata": {},
   "outputs": [],
   "source": [
    "train = train.drop('FWD Init Win Bytes','Idle Max','Fwd Header Length','Bwd Packets/s','Flow Bytes/s','Bwd Init Win Bytes','Flow IAT Max')"
   ]
  },
  {
   "cell_type": "code",
   "execution_count": 13,
   "id": "2e5aa67f-1264-4870-8370-84fc605eb8ec",
   "metadata": {},
   "outputs": [
    {
     "name": "stdout",
     "output_type": "stream",
     "text": [
      "+---------+--------------------+--------------------+-----+\n",
      "|    Label|            features|          s_features|label|\n",
      "+---------+--------------------+--------------------+-----+\n",
      "|Malicious|[35766.0,1.551387...|[1.71228477974615...|  1.0|\n",
      "|Malicious|[35766.0,1.551389...|[1.71228477974615...|  1.0|\n",
      "|Malicious|[35766.0,1.551388...|[1.71228477974615...|  1.0|\n",
      "+---------+--------------------+--------------------+-----+\n",
      "only showing top 3 rows\n",
      "\n"
     ]
    }
   ],
   "source": [
    "l_indexer = StringIndexer(inputCol=\"Label\", outputCol=\"label\")\n",
    "train = l_indexer.fit(train).transform(train)\n",
    "train.show(3)"
   ]
  },
  {
   "cell_type": "code",
   "execution_count": 14,
   "id": "6e7d939a-e01d-46df-bb60-b1bf9f8f63c0",
   "metadata": {},
   "outputs": [
    {
     "data": {
      "text/plain": [
       "DataFrame[features: vector, s_features: vector, label: double]"
      ]
     },
     "execution_count": 14,
     "metadata": {},
     "output_type": "execute_result"
    }
   ],
   "source": [
    "train = train.drop('Label')\n",
    "train"
   ]
  },
  {
   "cell_type": "code",
   "execution_count": 15,
   "id": "14dc0dcb-b927-4575-b082-4d6dd2819114",
   "metadata": {},
   "outputs": [
    {
     "name": "stdout",
     "output_type": "stream",
     "text": [
      "Training Dataset Count: 190360\n",
      "Test Dataset Count: 47587\n"
     ]
    }
   ],
   "source": [
    "# Split the data\n",
    "(training_data, test_data) = train.randomSplit([0.8,0.2], seed =2020)\n",
    "print(\"Training Dataset Count: \" + str(training_data.count()))\n",
    "print(\"Test Dataset Count: \" + str(test_data.count()))"
   ]
  },
  {
   "cell_type": "code",
   "execution_count": 16,
   "id": "b9a668c3-d4e9-4809-ab54-8464191e4037",
   "metadata": {},
   "outputs": [
    {
     "name": "stdout",
     "output_type": "stream",
     "text": [
      "root\n",
      " |-- features: vector (nullable = true)\n",
      " |-- s_features: vector (nullable = true)\n",
      " |-- label: double (nullable = false)\n",
      "\n"
     ]
    }
   ],
   "source": [
    "training_data.printSchema()"
   ]
  },
  {
   "cell_type": "code",
   "execution_count": 17,
   "id": "0a1fac72-f938-4135-abbe-230e83abb0f1",
   "metadata": {},
   "outputs": [],
   "source": [
    "dt = DecisionTreeClassifier(featuresCol='s_features', labelCol='label', maxDepth=20)"
   ]
  },
  {
   "cell_type": "code",
   "execution_count": 18,
   "id": "c13506ed-cef4-4fe1-ad63-947ff02d370d",
   "metadata": {},
   "outputs": [],
   "source": [
    "dtModel = dt.fit(training_data)\n",
    "dt_predictions = dtModel.transform(test_data)"
   ]
  },
  {
   "cell_type": "code",
   "execution_count": 19,
   "id": "ca4f65d6-941e-44db-9ab5-42f16c679cf0",
   "metadata": {},
   "outputs": [
    {
     "name": "stdout",
     "output_type": "stream",
     "text": [
      "Decision Tree Accuracy: 0.9997058020047492\n"
     ]
    }
   ],
   "source": [
    "multi_evaluator = MulticlassClassificationEvaluator(labelCol = 'label', metricName = 'accuracy')\n",
    "print('Decision Tree Accuracy:', multi_evaluator.evaluate(dt_predictions))"
   ]
  },
  {
   "cell_type": "code",
   "execution_count": 20,
   "id": "36ecbc39-a6f7-40a3-982e-440aaa75fc4a",
   "metadata": {},
   "outputs": [],
   "source": [
    "jsonFormatSchema = spark.read.json(\"schema/schema.json\")"
   ]
  },
  {
   "cell_type": "code",
   "execution_count": 21,
   "id": "cb700b77-99f4-4eec-a367-b7ff8c966bdc",
   "metadata": {},
   "outputs": [],
   "source": [
    "rawData = (spark\n",
    "  .readStream\n",
    "  .format(\"kafka\")\n",
    "  .option(\"kafka.bootstrap.servers\", \"192.168.100.29:29092\") # kafka server\n",
    "  .option(\"subscribe\", \"iot23_34_1\") # topic\n",
    "  .option(\"startingOffsets\", \"latest\") \n",
    "  .load())"
   ]
  },
  {
   "cell_type": "code",
   "execution_count": 22,
   "id": "63880de8-55d8-48b1-9663-be79fafd97d6",
   "metadata": {},
   "outputs": [],
   "source": [
    "parsedData = rawData.selectExpr(\"cast (value as string) as json\").select(F.from_json(\"json\",jsonFormatSchema.schema).alias(\"data\")).select(\"data.*\")\n",
    "featureExtraction = parsedData.select(F.col('flow_id'), F.col('src_ip'), F.col('src_port'), F.col('dst_ip'), F.col('dst_port'), F.col('protocol'), F.col('timestamp'),F.col(\"extractFeature.*\"))"
   ]
  },
  {
   "cell_type": "code",
   "execution_count": 23,
   "id": "ff87a679-6781-4d09-bf4f-226d2327c586",
   "metadata": {},
   "outputs": [],
   "source": [
    "data_flat = flatten_df(featureExtraction)\n",
    "duplicate_columns = ['ActivePacket_max', 'ActivePacket_mean', 'ActivePacket_min', 'ActivePacket_std', 'IdlePacket_max', 'IdlePacket_mean', 'IdlePacket_min','IdlePacket_std']\n",
    "data_flat = data_flat.drop(*duplicate_columns)"
   ]
  },
  {
   "cell_type": "code",
   "execution_count": 24,
   "id": "0ecf918c-523c-446b-b3f3-ffbc74ced8db",
   "metadata": {},
   "outputs": [
    {
     "data": {
      "text/plain": [
       "DataFrame[flow_id: string, src_ip: string, src_port: bigint, dst_ip: string, dst_port: bigint, protocol: bigint, timestamp: string, average_packet_size: double, bwd_IAT_total: double, bwd_PSH_flags: double, bwd_URG_flags: double, bwd_header_length: double, bwd_packets_per_second: double, bwd_segment_size_avg: double, bwd_win_bytes: bigint, download_upload_ratio: double, flow_bytes_per_second: double, flow_duration: bigint, flow_pkts_per_second: double, fwd_IAT_total: double, fwd_PSH_flags: double, fwd_URG_flags: double, fwd_act_data_pkts: bigint, fwd_header_length: double, fwd_packets_per_second: double, fwd_seg_size_min: bigint, fwd_segment_size_avg: double, fwd_win_bytes: bigint, packet_length_variance: double, activePacket_max: double, activePacket_mean: double, activePacket_min: double, activePacket_std: double, bwd_IAT_max: double, bwd_IAT_mean: double, bwd_IAT_min: double, bwd_IAT_std: double, bwd_bulk_bulk_rate: bigint, bwd_bulk_bytes_per_bulk: bigint, bwd_bulk_packet_per_bulk: bigint, bwd_packet_length_max: double, bwd_packet_length_mean: double, bwd_packet_length_min: double, bwd_packet_length_std: double, bwd_subflow_subflow_bytes: bigint, bwd_subflow_subflow_packets: bigint, flagCount_ack: bigint, flagCount_cwr: bigint, flagCount_ece: bigint, flagCount_fin: bigint, flagCount_psh: bigint, flagCount_rst: bigint, flagCount_syn: bigint, flagCount_ugr: bigint, flow_IAT_max: double, flow_IAT_mean: double, flow_IAT_min: double, flow_IAT_std: double, fwd_IAT_max: double, fwd_IAT_mean: double, fwd_IAT_min: double, fwd_IAT_std: double, fwd_bulk_bulk_rate: bigint, fwd_bulk_bytes_per_bulk: bigint, fwd_bulk_packet_per_bulk: bigint, fwd_packet_length_max: double, fwd_packet_length_mean: double, fwd_packet_length_min: double, fwd_packet_length_std: double, fwd_subflow_subflow_bytes: bigint, fwd_subflow_subflow_packets: bigint, idlePacket_max: double, idlePacket_mean: double, idlePacket_min: double, idlePacket_std: double, packet_lenght_max: double, packet_lenght_mean: double, packet_lenght_min: double, packet_lenght_std: double, totalPacketFeature_backward: bigint, totalPacketFeature_forward: bigint, totalPacketFeature_length_of_backward: double, totalPacketFeature_length_of_forward: double]"
      ]
     },
     "execution_count": 24,
     "metadata": {},
     "output_type": "execute_result"
    }
   ],
   "source": [
    "data_flat"
   ]
  },
  {
   "cell_type": "code",
   "execution_count": 25,
   "id": "6cec0103-3f49-4ae3-bdf7-88143d995163",
   "metadata": {},
   "outputs": [],
   "source": [
    "dataSelect =  data_flat.select(F.col('flow_id'), F.col('src_ip'), F.col('src_port'), F.col('dst_ip'), F.col('dst_port'), F.col('protocol'), F.col('timestamp'),F.col('fwd_win_bytes'), F.col('idlePacket_max'), F.col('fwd_header_length'),F.col('bwd_packets_per_second'), F.col('flow_bytes_per_second'), F.col('bwd_win_bytes'), F.col('flow_IAT_max'))"
   ]
  },
  {
   "cell_type": "code",
   "execution_count": 26,
   "id": "9bcf99f6-3750-492f-a500-3fed2c599e9a",
   "metadata": {},
   "outputs": [
    {
     "data": {
      "text/plain": [
       "DataFrame[flow_id: string, src_ip: string, src_port: bigint, dst_ip: string, dst_port: bigint, protocol: bigint, timestamp: string, fwd_win_bytes: bigint, idlePacket_max: double, fwd_header_length: double, bwd_packets_per_second: double, flow_bytes_per_second: double, bwd_win_bytes: bigint, flow_IAT_max: double]"
      ]
     },
     "execution_count": 26,
     "metadata": {},
     "output_type": "execute_result"
    }
   ],
   "source": [
    "dataSelect"
   ]
  },
  {
   "cell_type": "code",
   "execution_count": 27,
   "id": "1687e3f6-3fbe-4305-a8dc-b5bf0bf2513e",
   "metadata": {},
   "outputs": [
    {
     "data": {
      "text/plain": [
       "DataFrame[flow_id: string, src_ip: string, src_port: bigint, dst_ip: string, dst_port: bigint, protocol: bigint, timestamp: string, fwd_win_bytes: bigint, idlePacket_max: double, fwd_header_length: double, bwd_packets_per_second: double, flow_bytes_per_second: double, bwd_win_bytes: bigint, flow_IAT_max: double, features: vector]"
      ]
     },
     "execution_count": 27,
     "metadata": {},
     "output_type": "execute_result"
    }
   ],
   "source": [
    "featureImpo = ['fwd_win_bytes','idlePacket_max','fwd_header_length','bwd_packets_per_second','flow_bytes_per_second','bwd_win_bytes','flow_IAT_max']\n",
    "vector_assembler = VectorAssembler(inputCols=featureImpo, outputCol=\"features\")\n",
    "dataSelect = vector_assembler.transform(dataSelect)\n",
    "dataSelect"
   ]
  },
  {
   "cell_type": "code",
   "execution_count": 28,
   "id": "c91c188a-34a7-4958-bcaa-3406cd9b90a1",
   "metadata": {},
   "outputs": [
    {
     "data": {
      "text/plain": [
       "DataFrame[flow_id: string, src_ip: string, src_port: bigint, dst_ip: string, dst_port: bigint, protocol: bigint, timestamp: string, fwd_win_bytes: bigint, idlePacket_max: double, fwd_header_length: double, bwd_packets_per_second: double, flow_bytes_per_second: double, bwd_win_bytes: bigint, flow_IAT_max: double, features: vector]"
      ]
     },
     "execution_count": 28,
     "metadata": {},
     "output_type": "execute_result"
    }
   ],
   "source": [
    "dataSelect"
   ]
  },
  {
   "cell_type": "code",
   "execution_count": 29,
   "id": "ed9177f9-b3e6-4c19-9ad5-fe1e948d3abf",
   "metadata": {},
   "outputs": [],
   "source": [
    "#normalisasi data seleksi fitur\n",
    "dataSelect = scaler.fit(dfImp).transform(dataSelect)\n",
    "pred_df = dtModel.transform(dataSelect)"
   ]
  },
  {
   "cell_type": "code",
   "execution_count": 30,
   "id": "8b6712cd-120d-45eb-98d8-20e16fd90b27",
   "metadata": {},
   "outputs": [],
   "source": [
    "datetime_udf = F.udf(date_udf, StringType())\n",
    "pred_df = pred_df.withColumn('datetime', datetime_udf(pred_df['timestamp']))\n",
    "pred_df_1 = pred_df.select(F.col('flow_id'), F.col('src_ip'), F.col('src_port'), F.col('dst_ip'), F.col('dst_port'), F.col('protocol'), F.col('datetime'), F.col('prediction'))"
   ]
  },
  {
   "cell_type": "code",
   "execution_count": 31,
   "id": "dc0297b0-9c90-4929-87dd-94cfd1cfdaa1",
   "metadata": {},
   "outputs": [
    {
     "ename": "KeyboardInterrupt",
     "evalue": "",
     "output_type": "error",
     "traceback": [
      "\u001b[0;31m---------------------------------------------------------------------------\u001b[0m",
      "\u001b[0;31mKeyboardInterrupt\u001b[0m                         Traceback (most recent call last)",
      "\u001b[0;32m<ipython-input-31-0c59baa82f61>\u001b[0m in \u001b[0;36m<module>\u001b[0;34m\u001b[0m\n\u001b[1;32m      1\u001b[0m \u001b[0mquery\u001b[0m\u001b[0;34m=\u001b[0m\u001b[0mpred_df_1\u001b[0m\u001b[0;34m.\u001b[0m\u001b[0mwriteStream\u001b[0m\u001b[0;34m.\u001b[0m\u001b[0mforeachBatch\u001b[0m\u001b[0;34m(\u001b[0m\u001b[0mwrite_mongo_row\u001b[0m\u001b[0;34m)\u001b[0m\u001b[0;34m.\u001b[0m\u001b[0mstart\u001b[0m\u001b[0;34m(\u001b[0m\u001b[0;34m)\u001b[0m\u001b[0;34m\u001b[0m\u001b[0;34m\u001b[0m\u001b[0m\n\u001b[0;32m----> 2\u001b[0;31m \u001b[0mquery\u001b[0m\u001b[0;34m.\u001b[0m\u001b[0mawaitTermination\u001b[0m\u001b[0;34m(\u001b[0m\u001b[0;34m)\u001b[0m\u001b[0;34m\u001b[0m\u001b[0;34m\u001b[0m\u001b[0m\n\u001b[0m",
      "\u001b[0;32m/work/code/Env/lib/python3.8/site-packages/pyspark/sql/streaming.py\u001b[0m in \u001b[0;36mawaitTermination\u001b[0;34m(self, timeout)\u001b[0m\n\u001b[1;32m     99\u001b[0m             \u001b[0;32mreturn\u001b[0m \u001b[0mself\u001b[0m\u001b[0;34m.\u001b[0m\u001b[0m_jsq\u001b[0m\u001b[0;34m.\u001b[0m\u001b[0mawaitTermination\u001b[0m\u001b[0;34m(\u001b[0m\u001b[0mint\u001b[0m\u001b[0;34m(\u001b[0m\u001b[0mtimeout\u001b[0m \u001b[0;34m*\u001b[0m \u001b[0;36m1000\u001b[0m\u001b[0;34m)\u001b[0m\u001b[0;34m)\u001b[0m\u001b[0;34m\u001b[0m\u001b[0;34m\u001b[0m\u001b[0m\n\u001b[1;32m    100\u001b[0m         \u001b[0;32melse\u001b[0m\u001b[0;34m:\u001b[0m\u001b[0;34m\u001b[0m\u001b[0;34m\u001b[0m\u001b[0m\n\u001b[0;32m--> 101\u001b[0;31m             \u001b[0;32mreturn\u001b[0m \u001b[0mself\u001b[0m\u001b[0;34m.\u001b[0m\u001b[0m_jsq\u001b[0m\u001b[0;34m.\u001b[0m\u001b[0mawaitTermination\u001b[0m\u001b[0;34m(\u001b[0m\u001b[0;34m)\u001b[0m\u001b[0;34m\u001b[0m\u001b[0;34m\u001b[0m\u001b[0m\n\u001b[0m\u001b[1;32m    102\u001b[0m \u001b[0;34m\u001b[0m\u001b[0m\n\u001b[1;32m    103\u001b[0m     \u001b[0;34m@\u001b[0m\u001b[0mproperty\u001b[0m\u001b[0;34m\u001b[0m\u001b[0;34m\u001b[0m\u001b[0m\n",
      "\u001b[0;32m/work/code/Env/lib/python3.8/site-packages/py4j/java_gateway.py\u001b[0m in \u001b[0;36m__call__\u001b[0;34m(self, *args)\u001b[0m\n\u001b[1;32m   1301\u001b[0m             \u001b[0mproto\u001b[0m\u001b[0;34m.\u001b[0m\u001b[0mEND_COMMAND_PART\u001b[0m\u001b[0;34m\u001b[0m\u001b[0;34m\u001b[0m\u001b[0m\n\u001b[1;32m   1302\u001b[0m \u001b[0;34m\u001b[0m\u001b[0m\n\u001b[0;32m-> 1303\u001b[0;31m         \u001b[0manswer\u001b[0m \u001b[0;34m=\u001b[0m \u001b[0mself\u001b[0m\u001b[0;34m.\u001b[0m\u001b[0mgateway_client\u001b[0m\u001b[0;34m.\u001b[0m\u001b[0msend_command\u001b[0m\u001b[0;34m(\u001b[0m\u001b[0mcommand\u001b[0m\u001b[0;34m)\u001b[0m\u001b[0;34m\u001b[0m\u001b[0;34m\u001b[0m\u001b[0m\n\u001b[0m\u001b[1;32m   1304\u001b[0m         return_value = get_return_value(\n\u001b[1;32m   1305\u001b[0m             answer, self.gateway_client, self.target_id, self.name)\n",
      "\u001b[0;32m/work/code/Env/lib/python3.8/site-packages/py4j/java_gateway.py\u001b[0m in \u001b[0;36msend_command\u001b[0;34m(self, command, retry, binary)\u001b[0m\n\u001b[1;32m   1031\u001b[0m         \u001b[0mconnection\u001b[0m \u001b[0;34m=\u001b[0m \u001b[0mself\u001b[0m\u001b[0;34m.\u001b[0m\u001b[0m_get_connection\u001b[0m\u001b[0;34m(\u001b[0m\u001b[0;34m)\u001b[0m\u001b[0;34m\u001b[0m\u001b[0;34m\u001b[0m\u001b[0m\n\u001b[1;32m   1032\u001b[0m         \u001b[0;32mtry\u001b[0m\u001b[0;34m:\u001b[0m\u001b[0;34m\u001b[0m\u001b[0;34m\u001b[0m\u001b[0m\n\u001b[0;32m-> 1033\u001b[0;31m             \u001b[0mresponse\u001b[0m \u001b[0;34m=\u001b[0m \u001b[0mconnection\u001b[0m\u001b[0;34m.\u001b[0m\u001b[0msend_command\u001b[0m\u001b[0;34m(\u001b[0m\u001b[0mcommand\u001b[0m\u001b[0;34m)\u001b[0m\u001b[0;34m\u001b[0m\u001b[0;34m\u001b[0m\u001b[0m\n\u001b[0m\u001b[1;32m   1034\u001b[0m             \u001b[0;32mif\u001b[0m \u001b[0mbinary\u001b[0m\u001b[0;34m:\u001b[0m\u001b[0;34m\u001b[0m\u001b[0;34m\u001b[0m\u001b[0m\n\u001b[1;32m   1035\u001b[0m                 \u001b[0;32mreturn\u001b[0m \u001b[0mresponse\u001b[0m\u001b[0;34m,\u001b[0m \u001b[0mself\u001b[0m\u001b[0;34m.\u001b[0m\u001b[0m_create_connection_guard\u001b[0m\u001b[0;34m(\u001b[0m\u001b[0mconnection\u001b[0m\u001b[0;34m)\u001b[0m\u001b[0;34m\u001b[0m\u001b[0;34m\u001b[0m\u001b[0m\n",
      "\u001b[0;32m/work/code/Env/lib/python3.8/site-packages/py4j/java_gateway.py\u001b[0m in \u001b[0;36msend_command\u001b[0;34m(self, command)\u001b[0m\n\u001b[1;32m   1198\u001b[0m \u001b[0;34m\u001b[0m\u001b[0m\n\u001b[1;32m   1199\u001b[0m         \u001b[0;32mtry\u001b[0m\u001b[0;34m:\u001b[0m\u001b[0;34m\u001b[0m\u001b[0;34m\u001b[0m\u001b[0m\n\u001b[0;32m-> 1200\u001b[0;31m             \u001b[0manswer\u001b[0m \u001b[0;34m=\u001b[0m \u001b[0msmart_decode\u001b[0m\u001b[0;34m(\u001b[0m\u001b[0mself\u001b[0m\u001b[0;34m.\u001b[0m\u001b[0mstream\u001b[0m\u001b[0;34m.\u001b[0m\u001b[0mreadline\u001b[0m\u001b[0;34m(\u001b[0m\u001b[0;34m)\u001b[0m\u001b[0;34m[\u001b[0m\u001b[0;34m:\u001b[0m\u001b[0;34m-\u001b[0m\u001b[0;36m1\u001b[0m\u001b[0;34m]\u001b[0m\u001b[0;34m)\u001b[0m\u001b[0;34m\u001b[0m\u001b[0;34m\u001b[0m\u001b[0m\n\u001b[0m\u001b[1;32m   1201\u001b[0m             \u001b[0mlogger\u001b[0m\u001b[0;34m.\u001b[0m\u001b[0mdebug\u001b[0m\u001b[0;34m(\u001b[0m\u001b[0;34m\"Answer received: {0}\"\u001b[0m\u001b[0;34m.\u001b[0m\u001b[0mformat\u001b[0m\u001b[0;34m(\u001b[0m\u001b[0manswer\u001b[0m\u001b[0;34m)\u001b[0m\u001b[0;34m)\u001b[0m\u001b[0;34m\u001b[0m\u001b[0;34m\u001b[0m\u001b[0m\n\u001b[1;32m   1202\u001b[0m             \u001b[0;32mif\u001b[0m \u001b[0manswer\u001b[0m\u001b[0;34m.\u001b[0m\u001b[0mstartswith\u001b[0m\u001b[0;34m(\u001b[0m\u001b[0mproto\u001b[0m\u001b[0;34m.\u001b[0m\u001b[0mRETURN_MESSAGE\u001b[0m\u001b[0;34m)\u001b[0m\u001b[0;34m:\u001b[0m\u001b[0;34m\u001b[0m\u001b[0;34m\u001b[0m\u001b[0m\n",
      "\u001b[0;32m/usr/lib/python3.8/socket.py\u001b[0m in \u001b[0;36mreadinto\u001b[0;34m(self, b)\u001b[0m\n\u001b[1;32m    667\u001b[0m         \u001b[0;32mwhile\u001b[0m \u001b[0;32mTrue\u001b[0m\u001b[0;34m:\u001b[0m\u001b[0;34m\u001b[0m\u001b[0;34m\u001b[0m\u001b[0m\n\u001b[1;32m    668\u001b[0m             \u001b[0;32mtry\u001b[0m\u001b[0;34m:\u001b[0m\u001b[0;34m\u001b[0m\u001b[0;34m\u001b[0m\u001b[0m\n\u001b[0;32m--> 669\u001b[0;31m                 \u001b[0;32mreturn\u001b[0m \u001b[0mself\u001b[0m\u001b[0;34m.\u001b[0m\u001b[0m_sock\u001b[0m\u001b[0;34m.\u001b[0m\u001b[0mrecv_into\u001b[0m\u001b[0;34m(\u001b[0m\u001b[0mb\u001b[0m\u001b[0;34m)\u001b[0m\u001b[0;34m\u001b[0m\u001b[0;34m\u001b[0m\u001b[0m\n\u001b[0m\u001b[1;32m    670\u001b[0m             \u001b[0;32mexcept\u001b[0m \u001b[0mtimeout\u001b[0m\u001b[0;34m:\u001b[0m\u001b[0;34m\u001b[0m\u001b[0;34m\u001b[0m\u001b[0m\n\u001b[1;32m    671\u001b[0m                 \u001b[0mself\u001b[0m\u001b[0;34m.\u001b[0m\u001b[0m_timeout_occurred\u001b[0m \u001b[0;34m=\u001b[0m \u001b[0;32mTrue\u001b[0m\u001b[0;34m\u001b[0m\u001b[0;34m\u001b[0m\u001b[0m\n",
      "\u001b[0;31mKeyboardInterrupt\u001b[0m: "
     ]
    }
   ],
   "source": [
    "query=pred_df_1.writeStream.foreachBatch(write_mongo_row).start()\n",
    "query.awaitTermination()"
   ]
  },
  {
   "cell_type": "code",
   "execution_count": null,
   "id": "d1179f58-6c38-400f-88b1-69f4364ae5cb",
   "metadata": {},
   "outputs": [],
   "source": []
  }
 ],
 "metadata": {
  "kernelspec": {
   "display_name": "Python 3",
   "language": "python",
   "name": "python3"
  },
  "language_info": {
   "codemirror_mode": {
    "name": "ipython",
    "version": 3
   },
   "file_extension": ".py",
   "mimetype": "text/x-python",
   "name": "python",
   "nbconvert_exporter": "python",
   "pygments_lexer": "ipython3",
   "version": "3.8.5"
  }
 },
 "nbformat": 4,
 "nbformat_minor": 5
}
