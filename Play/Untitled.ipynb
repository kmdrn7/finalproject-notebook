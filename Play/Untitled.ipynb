{
 "cells": [
  {
   "cell_type": "code",
   "execution_count": 1,
   "id": "17ccb3c2-1a11-440f-92af-e43523fe0fa1",
   "metadata": {},
   "outputs": [],
   "source": [
    "from joblib import load\n",
    "import pandas as pd\n",
    "import numpy as np\n",
    "from sklearn.preprocessing import MinMaxScaler\n",
    "from sklearn.preprocessing import StandardScaler"
   ]
  },
  {
   "cell_type": "code",
   "execution_count": 2,
   "id": "12720ab7-6122-420f-977a-43d16e3a4989",
   "metadata": {},
   "outputs": [],
   "source": [
    "scaler = MinMaxScaler()"
   ]
  },
  {
   "cell_type": "code",
   "execution_count": 3,
   "id": "fb940e05-6dd0-45c7-954c-ea17b5b662e6",
   "metadata": {},
   "outputs": [],
   "source": [
    "clf = load(\"/media/kmdr7/Seagate/TA/MODELS/AdaBoost.joblib\")"
   ]
  },
  {
   "cell_type": "code",
   "execution_count": 4,
   "id": "8bae8577-bbec-4e90-926a-216a87c52a93",
   "metadata": {},
   "outputs": [],
   "source": [
    "data = [{'Flow ID': '192.168.1.132-104.155.18.91-37653-443-6', 'Src IP': '192.168.1.132', 'Src Port': 37653, 'Dst IP': '104.155.18.91', 'Dst Port': '104.155.18.91', 'Protocol': 6, 'Timestamp': '1540469198477.000000', 'Flow Duration': 90112519, 'Total Fwd Packet': 5, 'Total Bwd packets': 4, 'Total Length of Fwd Packet': 39.0, 'Total Length of Bwd Packet': 35.0, 'Fwd Packet Length Max': 39.0, 'Fwd Packet Length Min': 0.0, 'Fwd Packet Length Mean': 7.8, 'Fwd Packet Length Std': 17.44133022449836, 'Bwd Packet Length Max': 35.0, 'Bwd Packet Length Min': 0.0, 'Bwd Packet Length Mean': 8.75, 'Bwd Packet Length Std': 17.5, 'Flow Bytes/s': 0.8211955544156966, 'Flow Packets/s': 0.09987513499650365, 'Flow IAT Mean': 11264064.874999998, 'Flow IAT Std': 15526783.071593303, 'Flow IAT Max': 30062909.0, 'Flow IAT Min': 249.0, 'Fwd IAT Total': 90112519.0, 'Fwd IAT Mean': 22528129.75, 'Fwd IAT Std': 15007088.117434472, 'Fwd IAT Max': 30080149.0, 'Fwd IAT Min': 17732.0, 'Bwd IAT Total': 90095034.0, 'Bwd IAT Mean': 30031678.0, 'Bwd IAT Std': 83741.28131334031, 'Bwd IAT Max': 30080148.0, 'Bwd IAT Min': 29934982.0, 'Fwd PSH Flags': 0.0, 'Bwd PSH Flags': 0.0, 'Fwd URG Flags': 0.0, 'Bwd URG Flags': 0.0, 'Fwd Header Length': 100.0, 'Bwd Header Length': 80.0, 'Fwd Packets/s': 0.05548618610916869, 'Bwd Packets/s': 0.04438894888733495, 'Packet Length Min': 0.0, 'Packet Length Max': 39.0, 'Packet Length Mean': 7.3999999999999995, 'Packet Length Std': 15.629032812898778, 'Packet Length Variance': 244.26666666666668, 'FIN Flag Count': 0, 'SYN Flag Count': 0, 'RST Flag Count': 0, 'PSH Flag Count': 2, 'ACK Flag Count': 9, 'URG Flag Count': 0, 'CWR Flag Count': 0, 'ECE Flag Count': 0, 'Down/Up Ratio': 0.0, 'Average Packet Size': 8.222222222222221, 'Fwd Segment Size Avg': 7.8, 'Bwd Segment Size Avg': 8.75, 'Fwd Bytes/Bulk Avg': 0, 'Fwd Packet/Bulk Avg': 0, 'Fwd Bulk Rate Avg': 0, 'Bwd Bytes/Bulk Avg': 0, 'Bwd Packet/Bulk Avg': 0, 'Bwd Bulk Rate Avg': 0, 'Subflow Fwd Packets': 1, 'Subflow Fwd Bytes': 13, 'Subflow Bwd Packets': 1, 'Subflow Bwd Bytes': 11, 'FWD Init Win Bytes': 4015, 'Bwd Init Win Bytes': 258, 'Fwd Act Data Pkts': 1, 'Fwd Seg Size Min': 20, 'Active Mean': 17238.333333333332, 'Active Std': 2.0816659994661326, 'Active Max': 17240.0, 'Active Min': 17236.0, 'Idle Mean': 30014357.333333332, 'Idle Std': 83881.86668364822, 'Idle Max': 30062909.0, 'Idle Min': 29917499.0, 'Label': 'NeedManualLabel'}]"
   ]
  },
  {
   "cell_type": "code",
   "execution_count": 5,
   "id": "3f787934-471e-48d9-a9c3-d22b017f46cd",
   "metadata": {},
   "outputs": [],
   "source": [
    "features = ['Protocol', 'Fwd Packet Length Max', 'Bwd Packet Length Max',\n",
    "'Bwd Packet Length Mean', 'Flow Packets/s', 'Fwd Packets/s',\n",
    "'Packet Length Max', 'Packet Length Mean', 'Packet Length Std',\n",
    "'FIN Flag Count', 'SYN Flag Count', 'Down/Up Ratio',\n",
    "'Bwd Segment Size Avg', 'Subflow Fwd Packets', 'FWD Init Win Bytes',\n",
    "'Fwd Seg Size Min', 'Idle Mean', 'Idle Max', 'Idle Min']"
   ]
  },
  {
   "cell_type": "code",
   "execution_count": 6,
   "id": "d4e13bed-6e35-4ef0-b2ab-e57a1d899c79",
   "metadata": {},
   "outputs": [
    {
     "data": {
      "text/plain": [
       "array([6.00000000e+00, 3.90000000e+01, 3.50000000e+01, 8.75000000e+00,\n",
       "       9.98751350e-02, 5.54861861e-02, 3.90000000e+01, 7.40000000e+00,\n",
       "       1.56290328e+01, 0.00000000e+00, 0.00000000e+00, 0.00000000e+00,\n",
       "       8.75000000e+00, 1.00000000e+00, 4.01500000e+03, 2.00000000e+01,\n",
       "       3.00143573e+07, 3.00629090e+07, 2.99174990e+07])"
      ]
     },
     "execution_count": 6,
     "metadata": {},
     "output_type": "execute_result"
    }
   ],
   "source": [
    "df = pd.DataFrame(data)[features].to_numpy()[0]\n",
    "df"
   ]
  },
  {
   "cell_type": "code",
   "execution_count": 21,
   "id": "4793fdce-36c9-4c09-afe9-f01c380468ce",
   "metadata": {},
   "outputs": [
    {
     "data": {
      "text/plain": [
       "[[1.9958148428018063e-07,\n",
       "  1.2972796478211741e-06,\n",
       "  1.1642253249677203e-06,\n",
       "  2.9105633124193007e-07,\n",
       "  3.3222046142142685e-09,\n",
       "  1.8456692301190379e-09,\n",
       "  1.2972796478211741e-06,\n",
       "  2.4615049727888943e-07,\n",
       "  5.198775944436641e-07,\n",
       "  0.0,\n",
       "  0.0,\n",
       "  0.0,\n",
       "  2.9105633124193007e-07,\n",
       "  3.3263580713363437e-08,\n",
       "  0.0001335532765641542,\n",
       "  6.652716142672687e-07,\n",
       "  0.998384997717065,\n",
       "  1.0,\n",
       "  0.99516314272847]]"
      ]
     },
     "execution_count": 21,
     "metadata": {},
     "output_type": "execute_result"
    }
   ],
   "source": [
    "np.transpose(scaler.fit_transform(df[:,np.newaxis])).tolist()"
   ]
  },
  {
   "cell_type": "code",
   "execution_count": null,
   "id": "92b48243-5179-42fc-96af-118eb5b5cc24",
   "metadata": {},
   "outputs": [],
   "source": []
  }
 ],
 "metadata": {
  "kernelspec": {
   "display_name": "Python 3",
   "language": "python",
   "name": "python3"
  },
  "language_info": {
   "codemirror_mode": {
    "name": "ipython",
    "version": 3
   },
   "file_extension": ".py",
   "mimetype": "text/x-python",
   "name": "python",
   "nbconvert_exporter": "python",
   "pygments_lexer": "ipython3",
   "version": "3.8.5"
  }
 },
 "nbformat": 4,
 "nbformat_minor": 5
}
