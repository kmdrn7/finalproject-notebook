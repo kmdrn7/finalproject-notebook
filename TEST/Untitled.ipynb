{
 "cells": [
  {
   "cell_type": "code",
   "execution_count": 1,
   "id": "fea1281b-2402-4571-aa1a-88c6c8e37e7b",
   "metadata": {},
   "outputs": [],
   "source": [
    "import pandas as pd\n",
    "from sklearn import linear_model"
   ]
  },
  {
   "cell_type": "code",
   "execution_count": 2,
   "id": "dce775e8-6a2e-4cc9-8a79-434751eb08c1",
   "metadata": {},
   "outputs": [],
   "source": [
    "dataset = pd.read_csv(\"/home/kmdr7/Downloads/data_prediksi.csv\", \";\")"
   ]
  },
  {
   "cell_type": "code",
   "execution_count": 3,
   "id": "ed166023-5345-4322-b8ce-3c3f7f29d7cc",
   "metadata": {},
   "outputs": [],
   "source": [
    "reg = linear_model.LinearRegression()"
   ]
  },
  {
   "cell_type": "code",
   "execution_count": 4,
   "id": "99efa9a3-3633-4bda-8d53-8ead710ff2df",
   "metadata": {},
   "outputs": [],
   "source": [
    "aceh = dataset[dataset[\"provinsi\"] == \"Aceh\"]"
   ]
  },
  {
   "cell_type": "code",
   "execution_count": 17,
   "id": "a8286976-81ee-49ed-bab8-b36b1b688a5c",
   "metadata": {},
   "outputs": [
    {
     "data": {
      "text/html": [
       "<div>\n",
       "<style scoped>\n",
       "    .dataframe tbody tr th:only-of-type {\n",
       "        vertical-align: middle;\n",
       "    }\n",
       "\n",
       "    .dataframe tbody tr th {\n",
       "        vertical-align: top;\n",
       "    }\n",
       "\n",
       "    .dataframe thead th {\n",
       "        text-align: right;\n",
       "    }\n",
       "</style>\n",
       "<table border=\"1\" class=\"dataframe\">\n",
       "  <thead>\n",
       "    <tr style=\"text-align: right;\">\n",
       "      <th></th>\n",
       "      <th>data_prediksi_id</th>\n",
       "      <th>provinsi</th>\n",
       "      <th>jumlah</th>\n",
       "      <th>bulan</th>\n",
       "      <th>tahun</th>\n",
       "      <th>tanaman</th>\n",
       "    </tr>\n",
       "  </thead>\n",
       "  <tbody>\n",
       "    <tr>\n",
       "      <th>0</th>\n",
       "      <td>2379</td>\n",
       "      <td>Aceh</td>\n",
       "      <td>2444.25</td>\n",
       "      <td>januari</td>\n",
       "      <td>2018</td>\n",
       "      <td>padi</td>\n",
       "    </tr>\n",
       "    <tr>\n",
       "      <th>1</th>\n",
       "      <td>2380</td>\n",
       "      <td>Aceh</td>\n",
       "      <td>1993.70</td>\n",
       "      <td>februari</td>\n",
       "      <td>2018</td>\n",
       "      <td>padi</td>\n",
       "    </tr>\n",
       "    <tr>\n",
       "      <th>2</th>\n",
       "      <td>2381</td>\n",
       "      <td>Aceh</td>\n",
       "      <td>1816.75</td>\n",
       "      <td>maret</td>\n",
       "      <td>2018</td>\n",
       "      <td>padi</td>\n",
       "    </tr>\n",
       "    <tr>\n",
       "      <th>3</th>\n",
       "      <td>2382</td>\n",
       "      <td>Aceh</td>\n",
       "      <td>506.45</td>\n",
       "      <td>april</td>\n",
       "      <td>2018</td>\n",
       "      <td>padi</td>\n",
       "    </tr>\n",
       "    <tr>\n",
       "      <th>4</th>\n",
       "      <td>2383</td>\n",
       "      <td>Aceh</td>\n",
       "      <td>184.50</td>\n",
       "      <td>mei</td>\n",
       "      <td>2018</td>\n",
       "      <td>padi</td>\n",
       "    </tr>\n",
       "  </tbody>\n",
       "</table>\n",
       "</div>"
      ],
      "text/plain": [
       "   data_prediksi_id provinsi   jumlah     bulan  tahun tanaman\n",
       "0              2379     Aceh  2444.25   januari   2018    padi\n",
       "1              2380     Aceh  1993.70  februari   2018    padi\n",
       "2              2381     Aceh  1816.75     maret   2018    padi\n",
       "3              2382     Aceh   506.45     april   2018    padi\n",
       "4              2383     Aceh   184.50       mei   2018    padi"
      ]
     },
     "execution_count": 17,
     "metadata": {},
     "output_type": "execute_result"
    }
   ],
   "source": [
    "aceh.head(5)"
   ]
  },
  {
   "cell_type": "code",
   "execution_count": 15,
   "id": "8c2bcc8e-722a-48c8-bff4-cae741c2d6ca",
   "metadata": {},
   "outputs": [
    {
     "data": {
      "text/plain": [
       "0             NaN\n",
       "1             NaN\n",
       "2             NaN\n",
       "3             NaN\n",
       "4             NaN\n",
       "5             NaN\n",
       "6             NaN\n",
       "7             NaN\n",
       "8             NaN\n",
       "9             NaN\n",
       "10            NaN\n",
       "11            NaN\n",
       "397           NaN\n",
       "398           NaN\n",
       "399           NaN\n",
       "400           NaN\n",
       "401           NaN\n",
       "402           NaN\n",
       "403           NaN\n",
       "404           NaN\n",
       "405           NaN\n",
       "406           NaN\n",
       "407           NaN\n",
       "408           NaN\n",
       "792           NaN\n",
       "793           NaN\n",
       "794           NaN\n",
       "795           NaN\n",
       "796           NaN\n",
       "797           NaN\n",
       "798           NaN\n",
       "799           NaN\n",
       "800           NaN\n",
       "801           NaN\n",
       "802           NaN\n",
       "803    932.108333\n",
       "Name: jumlah, dtype: float64"
      ]
     },
     "execution_count": 15,
     "metadata": {},
     "output_type": "execute_result"
    }
   ],
   "source": [
    "aceh.jumlah.rolling(36).mean()"
   ]
  }
 ],
 "metadata": {
  "kernelspec": {
   "display_name": "Python 3",
   "language": "python",
   "name": "python3"
  },
  "language_info": {
   "codemirror_mode": {
    "name": "ipython",
    "version": 3
   },
   "file_extension": ".py",
   "mimetype": "text/x-python",
   "name": "python",
   "nbconvert_exporter": "python",
   "pygments_lexer": "ipython3",
   "version": "3.8.5"
  }
 },
 "nbformat": 4,
 "nbformat_minor": 5
}
