{
 "cells": [
  {
   "cell_type": "code",
   "execution_count": 1,
   "id": "ccf26fac-80b2-42e8-966b-bc1aaf52e2e6",
   "metadata": {},
   "outputs": [],
   "source": [
    "import pandas as pd\n",
    "import numpy as np\n",
    "import matplotlib.pyplot as plt\n",
    "import seaborn as sns\n",
    "from joblib import dump, load\n",
    "from numpy import mean\n",
    "from numpy import std\n",
    "from sklearn.datasets import make_classification\n",
    "from sklearn.feature_selection import VarianceThreshold\n",
    "from sklearn.model_selection import RepeatedStratifiedKFold\n",
    "from sklearn.ensemble import AdaBoostClassifier, RandomForestClassifier\n",
    "from sklearn.tree import DecisionTreeClassifier\n",
    "from sklearn.preprocessing import MinMaxScaler, StandardScaler\n",
    "from sklearn.metrics import accuracy_score, recall_score, f1_score, precision_score, balanced_accuracy_score, roc_auc_score, confusion_matrix\n",
    "from sklearn.model_selection import train_test_split, cross_val_score, cross_validate, RandomizedSearchCV, RepeatedStratifiedKFold"
   ]
  },
  {
   "cell_type": "code",
   "execution_count": 2,
   "id": "6b2866ff-0116-4f74-9d7c-78497f2b87eb",
   "metadata": {},
   "outputs": [],
   "source": [
    "datasets = [\n",
    "    {'name': \"Dataset.csv\", \"path\": \"/media/kmdr7/Seagate/FP/PREPROCESSED/Dataset.csv\"},\n",
    "    {'name': \"UnseenDataset.csv\", \"path\": \"/media/kmdr7/Seagate/FP/PREPROCESSED/UnseenDataset.csv\"},\n",
    "]\n",
    "\n",
    "features = [\n",
    "    {'count': 7, 'f': \"'Flow Duration', 'Fwd IAT Total', 'Packet Length Max', 'Packet Length Mean', 'Average Packet Size', 'FWD Init Win Bytes', 'Fwd Seg Size Min'\"},\n",
    "    {'count': 12, 'f': \"'Protocol', 'Flow Duration', 'Fwd Packet Length Max', 'Fwd Packet Length Mean', 'Fwd IAT Total', 'Bwd IAT Total', 'Packet Length Max', 'Packet Length Mean', 'Average Packet Size', 'Fwd Segment Size Avg', 'FWD Init Win Bytes', 'Fwd Seg Size Min'\"},\n",
    "    {'count': 15, 'f': \"'Protocol', 'Flow Duration', 'Fwd Packet Length Max', 'Fwd Packet Length Mean', 'Bwd Packet Length Mean', 'Fwd IAT Total', 'Bwd IAT Total', 'Packet Length Max', 'Packet Length Mean', 'Packet Length Std', 'Average Packet Size', 'Fwd Segment Size Avg', 'Bwd Segment Size Avg', 'FWD Init Win Bytes', 'Fwd Seg Size Min'\"},\n",
    "]"
   ]
  },
  {
   "cell_type": "code",
   "execution_count": 3,
   "id": "83743891-4a79-4be5-adcf-749ba29681d4",
   "metadata": {},
   "outputs": [],
   "source": [
    "for dataset in datasets:\n",
    "    data = pd.read_csv(dataset['path'])\n",
    "    for feature in features:\n",
    "        feat = feature['f'].replace(\"'\", '').split(', ')\n",
    "        feat.append('Label')\n",
    "        feat.append('Detailed Label')\n",
    "        data[feat].to_csv(\"/media/kmdr7/Seagate/FP/PROCESSED/\"+str(feature['count'])+\"/\"+dataset['name'], index=False)"
   ]
  }
 ],
 "metadata": {
  "kernelspec": {
   "display_name": "Python 3",
   "language": "python",
   "name": "python3"
  },
  "language_info": {
   "codemirror_mode": {
    "name": "ipython",
    "version": 3
   },
   "file_extension": ".py",
   "mimetype": "text/x-python",
   "name": "python",
   "nbconvert_exporter": "python",
   "pygments_lexer": "ipython3",
   "version": "3.8.10"
  }
 },
 "nbformat": 4,
 "nbformat_minor": 5
}
