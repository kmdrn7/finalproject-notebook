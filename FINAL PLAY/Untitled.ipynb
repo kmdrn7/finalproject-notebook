{
 "cells": [
  {
   "cell_type": "code",
   "execution_count": 1,
   "id": "dbbf9d4b-fb61-448d-aae8-b5b617f02eed",
   "metadata": {},
   "outputs": [],
   "source": [
    "import pandas as pd\n",
    "import matplotlib.pyplot as plt\n",
    "import seaborn as sns\n",
    "import numpy as np\n",
    "from glob import glob\n",
    "import plotly.express as px\n",
    "\n",
    "from sklearn.manifold import TSNE\n",
    "from sklearn.preprocessing import StandardScaler, MinMaxScaler\n",
    "from sklearn.decomposition import PCA"
   ]
  },
  {
   "cell_type": "code",
   "execution_count": 2,
   "id": "158ffcb4-7d57-45aa-811e-7e90f6610497",
   "metadata": {},
   "outputs": [],
   "source": [
    "def get_csv(uri):\n",
    "    csvs = []\n",
    "    if \"*\" in uri:\n",
    "        all_csv = glob(uri)\n",
    "        [ csvs.append(pd.read_csv(uri)) for uri in all_csv ]\n",
    "        return pd.concat(csvs)\n",
    "    return pd.read_csv(uri)"
   ]
  },
  {
   "cell_type": "code",
   "execution_count": 3,
   "id": "427f0ef4-9fac-4056-8ed8-1a0bb77e8ddc",
   "metadata": {},
   "outputs": [],
   "source": [
    "dropped_features = [\n",
    "    \"Flow ID\", \"Src IP\", \"Src Port\",\n",
    "    \"Dst IP\", \"Dst Port\", \"Timestamp\"\n",
    "]\n",
    "\n",
    "def remove_string(ds):\n",
    "    print(\"Jumlah fitur sebelum didrop: \" + str(ds.shape[1]))\n",
    "    ds.drop(columns=dropped_features, inplace=True)\n",
    "    print(\"Jumlah fitur setelah didrop: \" + str(ds.shape[1]))"
   ]
  },
  {
   "cell_type": "code",
   "execution_count": 4,
   "id": "65751213-e01c-40ad-855c-99bdc4bc51c0",
   "metadata": {},
   "outputs": [
    {
     "name": "stdout",
     "output_type": "stream",
     "text": [
      "Jumlah fitur sebelum didrop: 84\n",
      "Jumlah fitur setelah didrop: 78\n"
     ]
    }
   ],
   "source": [
    "dataset = get_csv(\"/media/kmdr7/Seagate/FP/MENTAH/Benign/*.csv\")\n",
    "remove_string(dataset)\n",
    "dataset.replace([np.inf, -np.inf], np.nan, inplace=True)"
   ]
  },
  {
   "cell_type": "code",
   "execution_count": 8,
   "id": "2bbd24d0-b3dd-4357-836a-f8a8bf492981",
   "metadata": {},
   "outputs": [
    {
     "data": {
      "text/plain": [
       "Protocol                      1\n",
       "Flow Duration                 1\n",
       "Total Fwd Packet              1\n",
       "Total Bwd packets             1\n",
       "Total Length of Fwd Packet    1\n",
       "                             ..\n",
       "Idle Mean                     1\n",
       "Idle Std                      1\n",
       "Idle Max                      1\n",
       "Idle Min                      1\n",
       "Label                         1\n",
       "Length: 78, dtype: int64"
      ]
     },
     "execution_count": 8,
     "metadata": {},
     "output_type": "execute_result"
    }
   ],
   "source": [
    "dataset.isna().sum()"
   ]
  },
  {
   "cell_type": "code",
   "execution_count": 7,
   "id": "4b17e6fe-fc98-4cea-a02b-3e3713449111",
   "metadata": {},
   "outputs": [
    {
     "data": {
      "text/plain": [
       "78"
      ]
     },
     "execution_count": 7,
     "metadata": {},
     "output_type": "execute_result"
    }
   ],
   "source": [
    "dataset.isna().sum().sum()"
   ]
  },
  {
   "cell_type": "code",
   "execution_count": null,
   "id": "29b30005-df46-4dff-a196-ec5d7ba26243",
   "metadata": {},
   "outputs": [],
   "source": []
  },
  {
   "cell_type": "code",
   "execution_count": null,
   "id": "f7b176f3-2f44-4a2c-bc96-ccecfe73b0a0",
   "metadata": {},
   "outputs": [],
   "source": []
  },
  {
   "cell_type": "code",
   "execution_count": null,
   "id": "ac1983d6-f6e1-49b4-9db0-937da9f4ac9d",
   "metadata": {},
   "outputs": [],
   "source": []
  },
  {
   "cell_type": "code",
   "execution_count": null,
   "id": "230d49f0-4c5b-492b-8322-ec89d903793b",
   "metadata": {},
   "outputs": [],
   "source": []
  }
 ],
 "metadata": {
  "kernelspec": {
   "display_name": "Python 3",
   "language": "python",
   "name": "python3"
  },
  "language_info": {
   "codemirror_mode": {
    "name": "ipython",
    "version": 3
   },
   "file_extension": ".py",
   "mimetype": "text/x-python",
   "name": "python",
   "nbconvert_exporter": "python",
   "pygments_lexer": "ipython3",
   "version": "3.8.10"
  }
 },
 "nbformat": 4,
 "nbformat_minor": 5
}
