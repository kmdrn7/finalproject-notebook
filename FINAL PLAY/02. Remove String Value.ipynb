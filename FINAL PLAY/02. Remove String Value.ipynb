{
 "cells": [
  {
   "cell_type": "code",
   "execution_count": 1,
   "metadata": {},
   "outputs": [],
   "source": [
    "import pandas as pd\n",
    "import numpy as np\n",
    "from glob import glob\n",
    "from sklearn import preprocessing\n",
    "from imblearn.under_sampling import RandomUnderSampler"
   ]
  },
  {
   "cell_type": "code",
   "execution_count": 2,
   "metadata": {},
   "outputs": [],
   "source": [
    "def get_csv(uri):\n",
    "    csvs = []\n",
    "    if \"*\" in uri:\n",
    "        all_csv = glob(uri)\n",
    "        [ csvs.append(pd.read_csv(uri)) for uri in all_csv ]\n",
    "        return pd.concat(csvs)\n",
    "    return pd.read_csv(uri)"
   ]
  },
  {
   "cell_type": "code",
   "execution_count": 3,
   "metadata": {},
   "outputs": [],
   "source": [
    "dropped_features = [\n",
    "    \"Flow ID\", \"Src IP\", \"Src Port\",\n",
    "    \"Dst IP\", \"Dst Port\", \"Timestamp\"\n",
    "]\n",
    "\n",
    "def label_dataset(ds, label, detailed_label):\n",
    "    dataset = ds.copy()\n",
    "    dataset[[\"Label\"]] = label\n",
    "    dataset[[\"Detailed Label\"]] = detailed_label\n",
    "    return dataset\n",
    "\n",
    "def remove_string(ds):\n",
    "    # Hapus fitur yang memiliki string --------------------------------\n",
    "    print(\"Jumlah fitur sebelum didrop: \" + str(ds.shape[1]))\n",
    "    ds.drop(columns=dropped_features, inplace=True)\n",
    "    print(\"Jumlah fitur setelah didrop: \" + str(ds.shape[1]))"
   ]
  },
  {
   "cell_type": "markdown",
   "metadata": {},
   "source": [
    "### Dataset"
   ]
  },
  {
   "cell_type": "code",
   "execution_count": 4,
   "metadata": {},
   "outputs": [
    {
     "name": "stdout",
     "output_type": "stream",
     "text": [
      "jumlah index 48957\n",
      "Jumlah fitur sebelum didrop: 85\n",
      "Jumlah fitur setelah didrop: 79\n"
     ]
    },
    {
     "data": {
      "text/plain": [
       "(380965, 79)"
      ]
     },
     "execution_count": 4,
     "metadata": {},
     "output_type": "execute_result"
    }
   ],
   "source": [
    "dataset = get_csv('/media/kmdr7/Seagate/FP/MENTAH/Benign/new/*')\n",
    "print(\"jumlah index \" + str(dataset.index.max()))\n",
    "dataset = label_dataset(dataset, 0, 0)\n",
    "remove_string(dataset)\n",
    "dataset.replace([np.inf, -np.inf], np.nan, inplace=True)\n",
    "dataset.dropna(inplace=True)\n",
    "dataset.drop_duplicates(inplace=True)\n",
    "dataset.shape"
   ]
  },
  {
   "cell_type": "code",
   "execution_count": 5,
   "metadata": {},
   "outputs": [],
   "source": [
    "dataset.to_csv(\"/media/kmdr7/Seagate/FP/PREPROCESSED/Benign/new.csv\", index=False)"
   ]
  },
  {
   "cell_type": "markdown",
   "metadata": {},
   "source": [
    "### Dataset Sampled"
   ]
  },
  {
   "cell_type": "code",
   "execution_count": 6,
   "metadata": {},
   "outputs": [],
   "source": [
    "training_validation = dataset.sample(frac=0.8, random_state=1)"
   ]
  },
  {
   "cell_type": "code",
   "execution_count": 7,
   "metadata": {},
   "outputs": [],
   "source": [
    "unseen_data = pd.concat([dataset, training_validation]).drop_duplicates(keep=False)"
   ]
  },
  {
   "cell_type": "code",
   "execution_count": 8,
   "metadata": {},
   "outputs": [],
   "source": [
    "print(training_validation.shape)\n",
    "print(unseen_data.shape)\n",
    "print(\"Total Dataset \" + str(training_validation.shape[0] + unseen_data.shape[0]))"
   ]
  },
  {
   "cell_type": "markdown",
   "metadata": {},
   "source": [
    "### Store Sampled Dataset"
   ]
  },
  {
   "cell_type": "code",
   "execution_count": 9,
   "metadata": {},
   "outputs": [],
   "source": [
    "training_validation.to_csv(\"/media/kmdr7/Seagate/FP/PREPROCESSED/Malware/Gafgyt-TrainingValidationDataset.csv\", index=False)"
   ]
  },
  {
   "cell_type": "code",
   "execution_count": 10,
   "metadata": {},
   "outputs": [],
   "source": [
    "unseen_data.to_csv(\"/media/kmdr7/Seagate/FP/PREPROCESSED/Malware/Gafgyt-UnseenData.csv\", index=False)"
   ]
  },
  {
   "cell_type": "code",
   "execution_count": 11,
   "metadata": {},
   "outputs": [],
   "source": [
    "unseen_data"
   ]
  }
 ],
 "metadata": {
  "celltoolbar": "Raw Cell Format",
  "kernelspec": {
   "display_name": "Python 3",
   "language": "python",
   "name": "python3"
  },
  "language_info": {
   "codemirror_mode": {
    "name": "ipython",
    "version": 3
   },
   "file_extension": ".py",
   "mimetype": "text/x-python",
   "name": "python",
   "nbconvert_exporter": "python",
   "pygments_lexer": "ipython3",
   "version": "3.8.10"
  }
 },
 "nbformat": 4,
 "nbformat_minor": 4
}
