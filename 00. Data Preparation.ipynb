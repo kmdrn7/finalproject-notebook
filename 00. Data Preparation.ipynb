{
 "cells": [
  {
   "cell_type": "code",
   "execution_count": 37,
   "metadata": {},
   "outputs": [],
   "source": [
    "import pandas as pd\n",
    "from glob import glob"
   ]
  },
  {
   "cell_type": "code",
   "execution_count": 38,
   "metadata": {},
   "outputs": [],
   "source": [
    "def get_csv(uri):\n",
    "    csvs = []\n",
    "    if \"*\" in uri:\n",
    "        all_csv = glob(uri)\n",
    "        [ csvs.append(pd.read_csv(uri)) for uri in all_csv ]\n",
    "        return pd.concat(csvs)\n",
    "    return pd.read_csv(uri)"
   ]
  },
  {
   "cell_type": "code",
   "execution_count": 174,
   "metadata": {},
   "outputs": [],
   "source": [
    "dropped_features = [ ### List fitur yang akan didrop\n",
    "    \"Flow ID\",\n",
    "    \"Src IP\",\n",
    "    \"Src Port\",\n",
    "    \"Dst IP\",\n",
    "    \"Dst Port\",\n",
    "    \"Timestamp\"\n",
    "]\n",
    "\n",
    "def drop_feature(ds):\n",
    "    print(\"Jumlah fitur sebelum didrop: \" + str(ds.shape[1]))\n",
    "    ds.drop(columns=dropped_features, inplace=True)\n",
    "    print(\"Jumlah fitur setelah didrop: \" + str(ds.shape[1]))\n",
    "    print(ds.shape)\n",
    "\n",
    "def process_dataset(ds, srcIP):\n",
    "    # Pisahkan data traffict benign -----------------------------------\n",
    "    benign = ds[ds[\"Src IP\"] != srcIP].copy()\n",
    "    benign[[\"Label\"]] = \"Benign\"\n",
    "    # Pisahkan data traffict malware ----------------------------------\n",
    "    malware = ds[ds[\"Src IP\"] == srcIP].copy()\n",
    "    malware[[\"Label\"]] = \"Malware\"\n",
    "    # Gabungkan data benign dan malware -------------------------------\n",
    "    newds = pd.concat([malware, benign])\n",
    "    # Hapus fitur yang memiliki string --------------------------------\n",
    "    print(\"Jumlah fitur sebelum didrop: \" + str(newds.shape[1]))\n",
    "    newds.drop(columns=dropped_features, inplace=True)\n",
    "    print(\"Jumlah fitur setelah didrop: \" + str(newds.shape[1]))\n",
    "    return newds"
   ]
  },
  {
   "cell_type": "markdown",
   "metadata": {},
   "source": [
    "### Mirai 34-1"
   ]
  },
  {
   "cell_type": "code",
   "execution_count": 175,
   "metadata": {},
   "outputs": [
    {
     "name": "stdout",
     "output_type": "stream",
     "text": [
      "Jumlah fitur sebelum didrop: 84\n",
      "Jumlah fitur setelah didrop: 78\n"
     ]
    }
   ],
   "source": [
    "mirai_34 = get_csv('/media/kmdr7/Seagate/DATASETS/IOT-23/CTU-IoT-Malware-Capture-34-1/out/2018-12-21-15-50-14-192.168.1.195.pcap_Flow.csv')\n",
    "mirai_34 = process_dataset(mirai_34, \"192.168.1.195\")"
   ]
  },
  {
   "cell_type": "markdown",
   "metadata": {},
   "source": [
    "### Mirai 43-1"
   ]
  },
  {
   "cell_type": "code",
   "execution_count": 3,
   "metadata": {},
   "outputs": [],
   "source": [
    "mirai_43 = get_csv('/media/kmdr7/Seagate/DATASETS/IOT-23/CTU-IoT-Malware-Capture-43-1/out/*.csv')"
   ]
  },
  {
   "cell_type": "markdown",
   "metadata": {},
   "source": [
    "### Mirai 44-1"
   ]
  },
  {
   "cell_type": "code",
   "execution_count": 176,
   "metadata": {},
   "outputs": [
    {
     "name": "stdout",
     "output_type": "stream",
     "text": [
      "Jumlah fitur sebelum didrop: 84\n",
      "Jumlah fitur setelah didrop: 78\n"
     ]
    }
   ],
   "source": [
    "mirai_44 = get_csv('/media/kmdr7/Seagate/DATASETS/IOT-23/CTU-IoT-Malware-Capture-44-1/out/2019-01-10-21-06-26-192.168.1.199.pcap_Flow.csv')\n",
    "mirai_44 = process_dataset(mirai_44, \"192.168.1.199\")"
   ]
  },
  {
   "cell_type": "markdown",
   "metadata": {},
   "source": [
    "### Mirai 49-1"
   ]
  },
  {
   "cell_type": "code",
   "execution_count": 17,
   "metadata": {},
   "outputs": [],
   "source": [
    "mirai_49 = get_csv('/media/kmdr7/Seagate/DATASETS/IOT-23/CTU-IoT-Malware-Capture-49-1/out/')"
   ]
  },
  {
   "cell_type": "markdown",
   "metadata": {},
   "source": [
    "### Mirai 52-1"
   ]
  },
  {
   "cell_type": "code",
   "execution_count": null,
   "metadata": {},
   "outputs": [],
   "source": [
    "mirai_52 = get_csv()"
   ]
  },
  {
   "cell_type": "markdown",
   "metadata": {},
   "source": [
    "### Torii 20-1"
   ]
  },
  {
   "cell_type": "code",
   "execution_count": 5,
   "metadata": {},
   "outputs": [],
   "source": [
    "torii_20 = get_csv()"
   ]
  },
  {
   "cell_type": "markdown",
   "metadata": {},
   "source": [
    "### Torii 21-1"
   ]
  },
  {
   "cell_type": "code",
   "execution_count": 6,
   "metadata": {},
   "outputs": [],
   "source": [
    "torii_21 = get_csv()"
   ]
  },
  {
   "cell_type": "markdown",
   "metadata": {},
   "source": [
    "### Trojan 42-1"
   ]
  },
  {
   "cell_type": "code",
   "execution_count": 7,
   "metadata": {},
   "outputs": [],
   "source": [
    "trojan_42 = get_csv()"
   ]
  },
  {
   "cell_type": "markdown",
   "metadata": {},
   "source": [
    "### Gagfyt 60-1"
   ]
  },
  {
   "cell_type": "code",
   "execution_count": null,
   "metadata": {},
   "outputs": [],
   "source": [
    "gagfyt_60 = get_csv()"
   ]
  },
  {
   "cell_type": "markdown",
   "metadata": {},
   "source": [
    "### Kenjiro 17-1"
   ]
  },
  {
   "cell_type": "code",
   "execution_count": null,
   "metadata": {},
   "outputs": [],
   "source": [
    "kenjiro_17 = get_csv()"
   ]
  },
  {
   "cell_type": "markdown",
   "metadata": {},
   "source": [
    "### Okiru 36-1"
   ]
  },
  {
   "cell_type": "code",
   "execution_count": 8,
   "metadata": {},
   "outputs": [],
   "source": [
    "okiru_36 = get_csv()"
   ]
  },
  {
   "cell_type": "markdown",
   "metadata": {},
   "source": [
    "### Kenjiro 33-1"
   ]
  },
  {
   "cell_type": "code",
   "execution_count": 9,
   "metadata": {},
   "outputs": [],
   "source": [
    "kenjiro_33 = get_csv()"
   ]
  },
  {
   "cell_type": "markdown",
   "metadata": {},
   "source": [
    "### Hakai 8-1"
   ]
  },
  {
   "cell_type": "code",
   "execution_count": 10,
   "metadata": {},
   "outputs": [],
   "source": [
    "hakai_8 = get_csv()"
   ]
  },
  {
   "cell_type": "markdown",
   "metadata": {},
   "source": [
    "### Mirai 35-1"
   ]
  },
  {
   "cell_type": "code",
   "execution_count": null,
   "metadata": {},
   "outputs": [],
   "source": [
    "mirai_35 = get_csv()"
   ]
  },
  {
   "cell_type": "markdown",
   "metadata": {},
   "source": [
    "### Mirai 48-1"
   ]
  },
  {
   "cell_type": "code",
   "execution_count": 11,
   "metadata": {},
   "outputs": [],
   "source": [
    "mirai_48 = get_csv()"
   ]
  },
  {
   "cell_type": "markdown",
   "metadata": {},
   "source": [
    "### IRCBot 39-1"
   ]
  },
  {
   "cell_type": "code",
   "execution_count": 12,
   "metadata": {},
   "outputs": [],
   "source": [
    "irc_39 = get_csv()"
   ]
  },
  {
   "cell_type": "markdown",
   "metadata": {},
   "source": [
    "### Linux Mirai 7-1"
   ]
  },
  {
   "cell_type": "code",
   "execution_count": 13,
   "metadata": {},
   "outputs": [],
   "source": [
    "mirai_7 = get_csv()"
   ]
  },
  {
   "cell_type": "markdown",
   "metadata": {},
   "source": [
    "### Linux Hajime 9-1"
   ]
  },
  {
   "cell_type": "code",
   "execution_count": 14,
   "metadata": {},
   "outputs": [],
   "source": [
    "hajime_9 = get_csv()"
   ]
  },
  {
   "cell_type": "markdown",
   "metadata": {},
   "source": [
    "### Muhstik 3-1"
   ]
  },
  {
   "cell_type": "code",
   "execution_count": 15,
   "metadata": {},
   "outputs": [],
   "source": [
    "muhstik_3 = get_csv()"
   ]
  },
  {
   "cell_type": "markdown",
   "metadata": {},
   "source": [
    "### Hide and Seek 1-1"
   ]
  },
  {
   "cell_type": "code",
   "execution_count": 16,
   "metadata": {},
   "outputs": [],
   "source": [
    "hideandseek_1 = get_csv()"
   ]
  },
  {
   "cell_type": "markdown",
   "metadata": {},
   "source": [
    "## Gabungkan Malware Dataset"
   ]
  },
  {
   "cell_type": "code",
   "execution_count": 178,
   "metadata": {},
   "outputs": [
    {
     "data": {
      "text/plain": [
       "(6908, 78)"
      ]
     },
     "execution_count": 178,
     "metadata": {},
     "output_type": "execute_result"
    }
   ],
   "source": [
    "malware = [\n",
    "#     mirai_43,\n",
    "    mirai_34,\n",
    "    mirai_44,\n",
    "#     torii_20,\n",
    "#     torii_21,\n",
    "#     trojan_42,\n",
    "#     okiru_36,\n",
    "#     kenjiro_33,\n",
    "#     hakai_8,\n",
    "#     mirai_48,\n",
    "#     irc_39,\n",
    "#     mirai_7,\n",
    "#     hajime_9,\n",
    "#     muhstik_3,\n",
    "#     hideandseek_1\n",
    "]\n",
    "dataset_malware = pd.concat(malware)\n",
    "dataset_malware.to_csv('/media/kmdr7/Seagate/DATASETS/IOT-23/Merged/miraii.csv', index=False)\n",
    "dataset_malware.shape"
   ]
  },
  {
   "cell_type": "markdown",
   "metadata": {},
   "source": [
    "### Benigng - Somfy Door Lock 7-1"
   ]
  },
  {
   "cell_type": "code",
   "execution_count": 164,
   "metadata": {},
   "outputs": [
    {
     "name": "stdout",
     "output_type": "stream",
     "text": [
      "Jumlah fitur sebelum didrop: 84\n",
      "Jumlah fitur setelah didrop: 78\n",
      "(6240, 78)\n"
     ]
    }
   ],
   "source": [
    "benign_7 = get_csv('/media/kmdr7/Seagate/DATASETS/IOT-23/CTU-Honeypot-Capture-7-1/out/*.csv')\n",
    "drop_feature(benign_7)"
   ]
  },
  {
   "cell_type": "markdown",
   "metadata": {},
   "source": [
    "### Benign - Philips Hue 4-1"
   ]
  },
  {
   "cell_type": "code",
   "execution_count": 165,
   "metadata": {},
   "outputs": [
    {
     "name": "stdout",
     "output_type": "stream",
     "text": [
      "Jumlah fitur sebelum didrop: 84\n",
      "Jumlah fitur setelah didrop: 78\n",
      "(3037, 78)\n"
     ]
    }
   ],
   "source": [
    "benign_4 = get_csv('/media/kmdr7/Seagate/DATASETS/IOT-23/CTU-Honeypot-Capture-4-1/out/*.csv')\n",
    "drop_feature(benign_4)"
   ]
  },
  {
   "cell_type": "markdown",
   "metadata": {},
   "source": [
    "### Benign - Amazon Echo 5-1"
   ]
  },
  {
   "cell_type": "code",
   "execution_count": 166,
   "metadata": {},
   "outputs": [
    {
     "name": "stdout",
     "output_type": "stream",
     "text": [
      "Jumlah fitur sebelum didrop: 84\n",
      "Jumlah fitur setelah didrop: 78\n",
      "(1729, 78)\n"
     ]
    }
   ],
   "source": [
    "benign_5 = get_csv('/media/kmdr7/Seagate/DATASETS/IOT-23/CTU-Honeypot-Capture-5-1/out/*.csv')\n",
    "drop_feature(benign_5)"
   ]
  },
  {
   "cell_type": "markdown",
   "metadata": {},
   "source": [
    "## Gabungkan Benign Dataset"
   ]
  },
  {
   "cell_type": "code",
   "execution_count": 167,
   "metadata": {},
   "outputs": [
    {
     "data": {
      "text/plain": [
       "(11006, 78)"
      ]
     },
     "execution_count": 167,
     "metadata": {},
     "output_type": "execute_result"
    }
   ],
   "source": [
    "benign = [\n",
    "    benign_7,\n",
    "    benign_4,\n",
    "    benign_5\n",
    "]\n",
    "\n",
    "dataset_benign = pd.concat(benign)\n",
    "dataset_benign[\"Label\"] = \"Benign\"\n",
    "dataset_benign.to_csv('/media/kmdr7/Seagate/DATASETS/IOT-23/Merged/benign.csv', index=False)\n",
    "dataset_benign.shape"
   ]
  }
 ],
 "metadata": {
  "celltoolbar": "Raw Cell Format",
  "kernelspec": {
   "display_name": "Python 3",
   "language": "python",
   "name": "python3"
  },
  "language_info": {
   "codemirror_mode": {
    "name": "ipython",
    "version": 3
   },
   "file_extension": ".py",
   "mimetype": "text/x-python",
   "name": "python",
   "nbconvert_exporter": "python",
   "pygments_lexer": "ipython3",
   "version": "3.8.10"
  }
 },
 "nbformat": 4,
 "nbformat_minor": 4
}
