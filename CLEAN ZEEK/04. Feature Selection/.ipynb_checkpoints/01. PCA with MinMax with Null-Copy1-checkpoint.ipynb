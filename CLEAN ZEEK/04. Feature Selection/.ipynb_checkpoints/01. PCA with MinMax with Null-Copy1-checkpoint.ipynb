{
 "cells": [
  {
   "cell_type": "code",
   "execution_count": 1,
   "metadata": {},
   "outputs": [
    {
     "name": "stderr",
     "output_type": "stream",
     "text": [
      "2021-01-25 08:43:48,139\tINFO worker.py:656 -- Connecting to existing Ray cluster at address: 192.168.100.35:6379\n"
     ]
    }
   ],
   "source": [
    "import ray\n",
    "ray.init(address='auto', _redis_password='5241590000000000', ignore_reinit_error=True)\n",
    "\n",
    "import modin.pandas as pd\n",
    "import numpy as np\n",
    "import matplotlib.pyplot as plt\n",
    "import seaborn as sns\n",
    "\n",
    "from sklearn.decomposition import PCA"
   ]
  },
  {
   "cell_type": "code",
   "execution_count": 2,
   "metadata": {},
   "outputs": [],
   "source": [
    "dataset = pd.read_csv(\"/media/kmdr7/Seagate/DATASETS/Processed-Dataset/03-MinMax-02-Null.csv\")\n",
    "\n",
    "x = dataset.drop(columns=[\"label\", \"detailed-label\"])\n",
    "y = dataset.label"
   ]
  },
  {
   "cell_type": "markdown",
   "metadata": {},
   "source": [
    "# Principal Component Analysis (PCA)"
   ]
  },
  {
   "cell_type": "code",
   "execution_count": 11,
   "metadata": {},
   "outputs": [
    {
     "name": "stderr",
     "output_type": "stream",
     "text": [
      "UserWarning: Distributing <class 'numpy.ndarray'> object. This may take some time.\n"
     ]
    },
    {
     "data": {
      "text/html": [
       "<div>\n",
       "<style scoped>\n",
       "    .dataframe tbody tr th:only-of-type {\n",
       "        vertical-align: middle;\n",
       "    }\n",
       "\n",
       "    .dataframe tbody tr th {\n",
       "        vertical-align: top;\n",
       "    }\n",
       "\n",
       "    .dataframe thead th {\n",
       "        text-align: right;\n",
       "    }\n",
       "</style>\n",
       "<table border=\"1\" class=\"dataframe\">\n",
       "  <thead>\n",
       "    <tr style=\"text-align: right;\">\n",
       "      <th></th>\n",
       "      <th>0</th>\n",
       "      <th>1</th>\n",
       "      <th>2</th>\n",
       "      <th>3</th>\n",
       "      <th>4</th>\n",
       "      <th>5</th>\n",
       "      <th>label</th>\n",
       "    </tr>\n",
       "  </thead>\n",
       "  <tbody>\n",
       "    <tr>\n",
       "      <th>0</th>\n",
       "      <td>0.516394</td>\n",
       "      <td>-0.124214</td>\n",
       "      <td>-0.097132</td>\n",
       "      <td>-0.033829</td>\n",
       "      <td>0.012580</td>\n",
       "      <td>0.006988</td>\n",
       "      <td>Malicious</td>\n",
       "    </tr>\n",
       "    <tr>\n",
       "      <th>1</th>\n",
       "      <td>0.516346</td>\n",
       "      <td>-0.124470</td>\n",
       "      <td>-0.097239</td>\n",
       "      <td>-0.034316</td>\n",
       "      <td>0.012586</td>\n",
       "      <td>-0.000069</td>\n",
       "      <td>Malicious</td>\n",
       "    </tr>\n",
       "    <tr>\n",
       "      <th>2</th>\n",
       "      <td>0.516394</td>\n",
       "      <td>-0.124214</td>\n",
       "      <td>-0.097132</td>\n",
       "      <td>-0.033828</td>\n",
       "      <td>0.012580</td>\n",
       "      <td>0.006988</td>\n",
       "      <td>Malicious</td>\n",
       "    </tr>\n",
       "    <tr>\n",
       "      <th>3</th>\n",
       "      <td>0.516346</td>\n",
       "      <td>-0.124470</td>\n",
       "      <td>-0.097239</td>\n",
       "      <td>-0.034316</td>\n",
       "      <td>0.012586</td>\n",
       "      <td>-0.000069</td>\n",
       "      <td>Malicious</td>\n",
       "    </tr>\n",
       "    <tr>\n",
       "      <th>4</th>\n",
       "      <td>0.516394</td>\n",
       "      <td>-0.124214</td>\n",
       "      <td>-0.097132</td>\n",
       "      <td>-0.033828</td>\n",
       "      <td>0.012580</td>\n",
       "      <td>0.006989</td>\n",
       "      <td>Malicious</td>\n",
       "    </tr>\n",
       "    <tr>\n",
       "      <th>...</th>\n",
       "      <td>...</td>\n",
       "      <td>...</td>\n",
       "      <td>...</td>\n",
       "      <td>...</td>\n",
       "      <td>...</td>\n",
       "      <td>...</td>\n",
       "      <td>...</td>\n",
       "    </tr>\n",
       "    <tr>\n",
       "      <th>376824</th>\n",
       "      <td>-0.567632</td>\n",
       "      <td>-0.266311</td>\n",
       "      <td>-0.028617</td>\n",
       "      <td>-0.018719</td>\n",
       "      <td>-0.085449</td>\n",
       "      <td>0.006266</td>\n",
       "      <td>Benign</td>\n",
       "    </tr>\n",
       "    <tr>\n",
       "      <th>376825</th>\n",
       "      <td>-0.567632</td>\n",
       "      <td>-0.266311</td>\n",
       "      <td>-0.028617</td>\n",
       "      <td>-0.018719</td>\n",
       "      <td>-0.085449</td>\n",
       "      <td>0.006266</td>\n",
       "      <td>Benign</td>\n",
       "    </tr>\n",
       "    <tr>\n",
       "      <th>376826</th>\n",
       "      <td>-0.567632</td>\n",
       "      <td>-0.266311</td>\n",
       "      <td>-0.028617</td>\n",
       "      <td>-0.018719</td>\n",
       "      <td>-0.085449</td>\n",
       "      <td>0.006266</td>\n",
       "      <td>Benign</td>\n",
       "    </tr>\n",
       "    <tr>\n",
       "      <th>376827</th>\n",
       "      <td>-0.567632</td>\n",
       "      <td>-0.266311</td>\n",
       "      <td>-0.028617</td>\n",
       "      <td>-0.018719</td>\n",
       "      <td>-0.085449</td>\n",
       "      <td>0.006266</td>\n",
       "      <td>Benign</td>\n",
       "    </tr>\n",
       "    <tr>\n",
       "      <th>376828</th>\n",
       "      <td>-0.567632</td>\n",
       "      <td>-0.266311</td>\n",
       "      <td>-0.028617</td>\n",
       "      <td>-0.018719</td>\n",
       "      <td>-0.085449</td>\n",
       "      <td>0.006266</td>\n",
       "      <td>Benign</td>\n",
       "    </tr>\n",
       "  </tbody>\n",
       "</table>\n",
       "<p>376829 rows x 7 columns</p>\n",
       "</div>"
      ],
      "text/plain": [
       "               0         1         2         3         4         5      label\n",
       "0       0.516394 -0.124214 -0.097132 -0.033829  0.012580  0.006988  Malicious\n",
       "1       0.516346 -0.124470 -0.097239 -0.034316  0.012586 -0.000069  Malicious\n",
       "2       0.516394 -0.124214 -0.097132 -0.033828  0.012580  0.006988  Malicious\n",
       "3       0.516346 -0.124470 -0.097239 -0.034316  0.012586 -0.000069  Malicious\n",
       "4       0.516394 -0.124214 -0.097132 -0.033828  0.012580  0.006989  Malicious\n",
       "...          ...       ...       ...       ...       ...       ...        ...\n",
       "376824 -0.567632 -0.266311 -0.028617 -0.018719 -0.085449  0.006266     Benign\n",
       "376825 -0.567632 -0.266311 -0.028617 -0.018719 -0.085449  0.006266     Benign\n",
       "376826 -0.567632 -0.266311 -0.028617 -0.018719 -0.085449  0.006266     Benign\n",
       "376827 -0.567632 -0.266311 -0.028617 -0.018719 -0.085449  0.006266     Benign\n",
       "376828 -0.567632 -0.266311 -0.028617 -0.018719 -0.085449  0.006266     Benign\n",
       "\n",
       "[376829 rows x 7 columns]"
      ]
     },
     "execution_count": 11,
     "metadata": {},
     "output_type": "execute_result"
    }
   ],
   "source": [
    "pca = PCA(.95)\n",
    "pca_dataset = pd.DataFrame(pca.fit_transform(x))\n",
    "pca_dataset[\"label\"] = dataset[\"label\"]\n",
    "pca_dataset"
   ]
  },
  {
   "cell_type": "code",
   "execution_count": 12,
   "metadata": {},
   "outputs": [
    {
     "name": "stderr",
     "output_type": "stream",
     "text": [
      "UserWarning: `DataFrame.to_csv` defaulting to pandas implementation.\n",
      "To request implementation, send an email to feature_requests@modin.org.\n",
      "UserWarning: Distributing <class 'pandas.core.frame.DataFrame'> object. This may take some time.\n"
     ]
    }
   ],
   "source": [
    "pca_dataset.to_csv(\"/media/kmdr7/Seagate/DATASETS/Processed-Dataset/04-PCA-03-MinMax-02-Null.csv\", index=False)"
   ]
  }
 ],
 "metadata": {
  "kernelspec": {
   "display_name": "Python 3.8.2 64-bit ('FinalProjectEnv': venv)",
   "language": "python",
   "name": "python38264bitfinalprojectenvvenveda54e4f40e84a6f9e770ddeca258537"
  },
  "language_info": {
   "codemirror_mode": {
    "name": "ipython",
    "version": 3
   },
   "file_extension": ".py",
   "mimetype": "text/x-python",
   "name": "python",
   "nbconvert_exporter": "python",
   "pygments_lexer": "ipython3",
   "version": "3.8.5"
  }
 },
 "nbformat": 4,
 "nbformat_minor": 4
}
