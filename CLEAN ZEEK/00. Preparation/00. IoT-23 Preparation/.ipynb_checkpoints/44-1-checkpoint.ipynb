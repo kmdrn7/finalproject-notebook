{
 "cells": [
  {
   "cell_type": "code",
   "execution_count": 8,
   "metadata": {},
   "outputs": [],
   "source": [
    "import pandas as pd\n",
    "from glob import glob"
   ]
  },
  {
   "cell_type": "code",
   "execution_count": 9,
   "metadata": {},
   "outputs": [],
   "source": [
    "scenario_id = \"44-1\"\n",
    "scenario_path = \"/media/kmdr7/Seagate/DATASETS/IOT-23/CTU-IoT-Malware-Capture-\"+scenario_id+\"/\""
   ]
  },
  {
   "cell_type": "code",
   "execution_count": 11,
   "metadata": {},
   "outputs": [],
   "source": [
    "!cd {scenario_path}bro && unexpand -t 4 conn.log.labeled > conn.log && sed -i '1,8d' conn.log && sed 's/ //g' -i conn.log && <<< $(cat ../../../base.log) < conn.log | sponge conn.log\n",
    "!cd {scenario_path}zeek && sed -i '1,8d' flowmeter.log && sed 's/ //g' -i flowmeter.log && <<< $(cat ../../../base_zeek.log) < flowmeter.log | sponge flowmeter.log"
   ]
  },
  {
   "cell_type": "code",
   "execution_count": 12,
   "metadata": {},
   "outputs": [
    {
     "data": {
      "text/html": [
       "<div>\n",
       "<style scoped>\n",
       "    .dataframe tbody tr th:only-of-type {\n",
       "        vertical-align: middle;\n",
       "    }\n",
       "\n",
       "    .dataframe tbody tr th {\n",
       "        vertical-align: top;\n",
       "    }\n",
       "\n",
       "    .dataframe thead th {\n",
       "        text-align: right;\n",
       "    }\n",
       "</style>\n",
       "<table border=\"1\" class=\"dataframe\">\n",
       "  <thead>\n",
       "    <tr style=\"text-align: right;\">\n",
       "      <th></th>\n",
       "      <th>ts</th>\n",
       "      <th>uid</th>\n",
       "      <th>id.orig_h</th>\n",
       "      <th>id.resp_h</th>\n",
       "      <th>id.resp_p</th>\n",
       "      <th>proto</th>\n",
       "      <th>service</th>\n",
       "      <th>conn_state</th>\n",
       "      <th>label</th>\n",
       "      <th>detailed-label</th>\n",
       "    </tr>\n",
       "  </thead>\n",
       "  <tbody>\n",
       "    <tr>\n",
       "      <th>0</th>\n",
       "      <td>1547150789.067208</td>\n",
       "      <td>CzsY0D4B96NTr8m7ld</td>\n",
       "      <td>192.168.1.199</td>\n",
       "      <td>46.101.251.172</td>\n",
       "      <td>80.0</td>\n",
       "      <td>tcp</td>\n",
       "      <td>http</td>\n",
       "      <td>SF</td>\n",
       "      <td>Malicious</td>\n",
       "      <td>C&amp;C-FileDownload</td>\n",
       "    </tr>\n",
       "  </tbody>\n",
       "</table>\n",
       "</div>"
      ],
      "text/plain": [
       "                  ts                 uid      id.orig_h       id.resp_h  \\\n",
       "0  1547150789.067208  CzsY0D4B96NTr8m7ld  192.168.1.199  46.101.251.172   \n",
       "\n",
       "   id.resp_p proto service conn_state      label    detailed-label  \n",
       "0       80.0   tcp    http         SF  Malicious  C&C-FileDownload  "
      ]
     },
     "execution_count": 12,
     "metadata": {},
     "output_type": "execute_result"
    }
   ],
   "source": [
    "conn = pd.read_csv(scenario_path + 'bro/conn.log', sep=\"\\t\", header=0)\n",
    "conn.drop(conn.shape[0]-1, inplace=True)\n",
    "conn = conn[[\"ts\", \"uid\", \"id.orig_h\", \"id.resp_h\", \"id.resp_p\", \"proto\", \"service\", \"conn_state\", \"label\", \"detailed-label\"]]\n",
    "conn.head(1)"
   ]
  },
  {
   "cell_type": "code",
   "execution_count": 13,
   "metadata": {},
   "outputs": [
    {
     "data": {
      "text/html": [
       "<div>\n",
       "<style scoped>\n",
       "    .dataframe tbody tr th:only-of-type {\n",
       "        vertical-align: middle;\n",
       "    }\n",
       "\n",
       "    .dataframe tbody tr th {\n",
       "        vertical-align: top;\n",
       "    }\n",
       "\n",
       "    .dataframe thead th {\n",
       "        text-align: right;\n",
       "    }\n",
       "</style>\n",
       "<table border=\"1\" class=\"dataframe\">\n",
       "  <thead>\n",
       "    <tr style=\"text-align: right;\">\n",
       "      <th></th>\n",
       "      <th>flow_duration</th>\n",
       "      <th>fwd_pkts_tot</th>\n",
       "      <th>bwd_pkts_tot</th>\n",
       "      <th>fwd_data_pkts_tot</th>\n",
       "      <th>bwd_data_pkts_tot</th>\n",
       "      <th>fwd_pkts_per_sec</th>\n",
       "      <th>bwd_pkts_per_sec</th>\n",
       "      <th>flow_pkts_per_sec</th>\n",
       "      <th>down_up_ratio</th>\n",
       "      <th>fwd_header_size_tot</th>\n",
       "      <th>...</th>\n",
       "      <th>active.std</th>\n",
       "      <th>idle.min</th>\n",
       "      <th>idle.max</th>\n",
       "      <th>idle.tot</th>\n",
       "      <th>idle.avg</th>\n",
       "      <th>idle.std</th>\n",
       "      <th>fwd_init_window_size</th>\n",
       "      <th>bwd_init_window_size</th>\n",
       "      <th>fwd_last_window_size</th>\n",
       "      <th>bwd_last_window_size</th>\n",
       "    </tr>\n",
       "  </thead>\n",
       "  <tbody>\n",
       "    <tr>\n",
       "      <th>0</th>\n",
       "      <td>1.686784</td>\n",
       "      <td>122.0</td>\n",
       "      <td>122.0</td>\n",
       "      <td>1.0</td>\n",
       "      <td>119.0</td>\n",
       "      <td>72.326983</td>\n",
       "      <td>72.326983</td>\n",
       "      <td>144.653966</td>\n",
       "      <td>1.0</td>\n",
       "      <td>5152.0</td>\n",
       "      <td>...</td>\n",
       "      <td>1.721267e+06</td>\n",
       "      <td>0.0</td>\n",
       "      <td>0.0</td>\n",
       "      <td>0.0</td>\n",
       "      <td>0.0</td>\n",
       "      <td>0.0</td>\n",
       "      <td>0.0</td>\n",
       "      <td>29200.0</td>\n",
       "      <td>14480.0</td>\n",
       "      <td>1810.0</td>\n",
       "    </tr>\n",
       "  </tbody>\n",
       "</table>\n",
       "<p>1 rows × 79 columns</p>\n",
       "</div>"
      ],
      "text/plain": [
       "  flow_duration  fwd_pkts_tot  bwd_pkts_tot  fwd_data_pkts_tot  \\\n",
       "0      1.686784         122.0         122.0                1.0   \n",
       "\n",
       "   bwd_data_pkts_tot  fwd_pkts_per_sec  bwd_pkts_per_sec  flow_pkts_per_sec  \\\n",
       "0              119.0         72.326983         72.326983         144.653966   \n",
       "\n",
       "   down_up_ratio  fwd_header_size_tot  ...    active.std  idle.min  idle.max  \\\n",
       "0            1.0               5152.0  ...  1.721267e+06       0.0       0.0   \n",
       "\n",
       "   idle.tot  idle.avg  idle.std  fwd_init_window_size  bwd_init_window_size  \\\n",
       "0       0.0       0.0       0.0                   0.0               29200.0   \n",
       "\n",
       "   fwd_last_window_size  bwd_last_window_size  \n",
       "0               14480.0                1810.0  \n",
       "\n",
       "[1 rows x 79 columns]"
      ]
     },
     "execution_count": 13,
     "metadata": {},
     "output_type": "execute_result"
    }
   ],
   "source": [
    "flow = pd.read_csv(scenario_path + 'zeek/flowmeter.log', sep=\"\\t\", header=0, low_memory=False, index_col=False)\n",
    "flow.drop(flow.shape[0]-1, inplace=True)\n",
    "flow.drop(\"uid\", axis=1, inplace=True)\n",
    "flow.head(1)"
   ]
  },
  {
   "cell_type": "code",
   "execution_count": 14,
   "metadata": {},
   "outputs": [
    {
     "data": {
      "text/html": [
       "<div>\n",
       "<style scoped>\n",
       "    .dataframe tbody tr th:only-of-type {\n",
       "        vertical-align: middle;\n",
       "    }\n",
       "\n",
       "    .dataframe tbody tr th {\n",
       "        vertical-align: top;\n",
       "    }\n",
       "\n",
       "    .dataframe thead th {\n",
       "        text-align: right;\n",
       "    }\n",
       "</style>\n",
       "<table border=\"1\" class=\"dataframe\">\n",
       "  <thead>\n",
       "    <tr style=\"text-align: right;\">\n",
       "      <th></th>\n",
       "      <th>label</th>\n",
       "      <th>detailed-label</th>\n",
       "      <th>flow_duration</th>\n",
       "      <th>fwd_pkts_tot</th>\n",
       "      <th>bwd_pkts_tot</th>\n",
       "      <th>fwd_data_pkts_tot</th>\n",
       "      <th>bwd_data_pkts_tot</th>\n",
       "      <th>fwd_pkts_per_sec</th>\n",
       "      <th>bwd_pkts_per_sec</th>\n",
       "      <th>flow_pkts_per_sec</th>\n",
       "      <th>...</th>\n",
       "      <th>active.std</th>\n",
       "      <th>idle.min</th>\n",
       "      <th>idle.max</th>\n",
       "      <th>idle.tot</th>\n",
       "      <th>idle.avg</th>\n",
       "      <th>idle.std</th>\n",
       "      <th>fwd_init_window_size</th>\n",
       "      <th>bwd_init_window_size</th>\n",
       "      <th>fwd_last_window_size</th>\n",
       "      <th>bwd_last_window_size</th>\n",
       "    </tr>\n",
       "  </thead>\n",
       "  <tbody>\n",
       "    <tr>\n",
       "      <th>0</th>\n",
       "      <td>Malicious</td>\n",
       "      <td>C&amp;C-FileDownload</td>\n",
       "      <td>1.686784</td>\n",
       "      <td>122.0</td>\n",
       "      <td>122.0</td>\n",
       "      <td>1.0</td>\n",
       "      <td>119.0</td>\n",
       "      <td>72.326983</td>\n",
       "      <td>72.326983</td>\n",
       "      <td>144.653966</td>\n",
       "      <td>...</td>\n",
       "      <td>1.721267e+06</td>\n",
       "      <td>0.0</td>\n",
       "      <td>0.0</td>\n",
       "      <td>0.0</td>\n",
       "      <td>0.0</td>\n",
       "      <td>0.0</td>\n",
       "      <td>0.0</td>\n",
       "      <td>29200.0</td>\n",
       "      <td>14480.0</td>\n",
       "      <td>1810.0</td>\n",
       "    </tr>\n",
       "  </tbody>\n",
       "</table>\n",
       "<p>1 rows × 81 columns</p>\n",
       "</div>"
      ],
      "text/plain": [
       "       label    detailed-label flow_duration  fwd_pkts_tot  bwd_pkts_tot  \\\n",
       "0  Malicious  C&C-FileDownload      1.686784         122.0         122.0   \n",
       "\n",
       "   fwd_data_pkts_tot  bwd_data_pkts_tot  fwd_pkts_per_sec  bwd_pkts_per_sec  \\\n",
       "0                1.0              119.0         72.326983         72.326983   \n",
       "\n",
       "   flow_pkts_per_sec  ...    active.std  idle.min  idle.max  idle.tot  \\\n",
       "0         144.653966  ...  1.721267e+06       0.0       0.0       0.0   \n",
       "\n",
       "   idle.avg  idle.std  fwd_init_window_size  bwd_init_window_size  \\\n",
       "0       0.0       0.0                   0.0               29200.0   \n",
       "\n",
       "   fwd_last_window_size  bwd_last_window_size  \n",
       "0               14480.0                1810.0  \n",
       "\n",
       "[1 rows x 81 columns]"
      ]
     },
     "execution_count": 14,
     "metadata": {},
     "output_type": "execute_result"
    }
   ],
   "source": [
    "dataset = pd.concat([conn, flow], axis=1)\n",
    "dataset.drop([\"ts\", \"uid\", \"id.orig_h\", \"id.resp_h\", \"id.resp_p\", \"proto\", \"service\", \"conn_state\"], axis=1, inplace=True)\n",
    "dataset.head(1)"
   ]
  },
  {
   "cell_type": "code",
   "execution_count": 15,
   "metadata": {},
   "outputs": [
    {
     "data": {
      "text/plain": [
       "(211, 81)"
      ]
     },
     "execution_count": 15,
     "metadata": {},
     "output_type": "execute_result"
    }
   ],
   "source": [
    "benign = dataset[dataset[\"label\"] == \"Benign\"]\n",
    "benign.to_csv('/media/kmdr7/Seagate/DATASETS/IOT-23/CTU-IoT-Benign/'+scenario_id+'.csv', index=False)\n",
    "benign.shape"
   ]
  },
  {
   "cell_type": "code",
   "execution_count": 16,
   "metadata": {},
   "outputs": [
    {
     "data": {
      "text/plain": [
       "(26, 81)"
      ]
     },
     "execution_count": 16,
     "metadata": {},
     "output_type": "execute_result"
    }
   ],
   "source": [
    "malware = dataset[dataset[\"label\"] != \"Benign\"]\n",
    "malware.to_csv('/media/kmdr7/Seagate/DATASETS/IOT-23/CTU-IoT-Malware/'+scenario_id+'.csv', index=False)\n",
    "malware.shape"
   ]
  }
 ],
 "metadata": {
  "kernelspec": {
   "display_name": "Python 3.8.2 64-bit ('FinalProjectEnv': venv)",
   "language": "python",
   "name": "python38264bitfinalprojectenvvenveda54e4f40e84a6f9e770ddeca258537"
  },
  "language_info": {
   "codemirror_mode": {
    "name": "ipython",
    "version": 3
   },
   "file_extension": ".py",
   "mimetype": "text/x-python",
   "name": "python",
   "nbconvert_exporter": "python",
   "pygments_lexer": "ipython3",
   "version": "3.8.5"
  }
 },
 "nbformat": 4,
 "nbformat_minor": 4
}
