{
 "cells": [
  {
   "cell_type": "code",
   "execution_count": 1,
   "metadata": {},
   "outputs": [
    {
     "name": "stderr",
     "output_type": "stream",
     "text": [
      "2021-01-24 09:26:17,889\tINFO services.py:1171 -- View the Ray dashboard at \u001b[1m\u001b[32mhttp://127.0.0.1:8265\u001b[39m\u001b[22m\n",
      "2021-01-24 09:26:17,893\tINFO services.py:1651 -- object_store_memory is not verified when plasma_directory is set.\n",
      "UserWarning: Modin Ray engine was started with 5 GB free space avaliable, if it is not enough for your application, please set environment variable MODIN_ON_RAY_PLASMA_DIR=/directory/without/space/limiting\n"
     ]
    }
   ],
   "source": [
    "import os\n",
    "os.environ[\"MODIN_ENGINE\"] = \"ray\"\n",
    "\n",
    "import ray\n",
    "ray.init(_plasma_directory=\"/media/kmdr7/Seagate/MODIN\", object_store_memory=10**10)\n",
    "\n",
    "import modin.pandas as pd\n",
    "from glob import glob"
   ]
  },
  {
   "cell_type": "code",
   "execution_count": 2,
   "metadata": {},
   "outputs": [],
   "source": [
    "scenario_id = \"36-1\"\n",
    "scenario_path = \"/media/kmdr7/Seagate/DATASETS/IOT-23/CTU-IoT-Malware-Capture-\"+scenario_id+\"/\""
   ]
  },
  {
   "cell_type": "code",
   "execution_count": 4,
   "metadata": {},
   "outputs": [],
   "source": [
    "!cd {scenario_path}bro && unexpand -t 4 conn.log.labeled > conn.log && sed -i '1,8d' conn.log && sed 's/ //g' -i conn.log && <<< $(cat ../../../base.log) < conn.log | sponge conn.log\n",
    "!cd {scenario_path}zeek && sed -i '1,8d' flowmeter.log && sed 's/ //g' -i flowmeter.log && <<< $(cat ../../../base_zeek.log) < flowmeter.log | sponge flowmeter.log"
   ]
  },
  {
   "cell_type": "code",
   "execution_count": 3,
   "metadata": {},
   "outputs": [
    {
     "data": {
      "text/html": [
       "<div>\n",
       "<style scoped>\n",
       "    .dataframe tbody tr th:only-of-type {\n",
       "        vertical-align: middle;\n",
       "    }\n",
       "\n",
       "    .dataframe tbody tr th {\n",
       "        vertical-align: top;\n",
       "    }\n",
       "\n",
       "    .dataframe thead th {\n",
       "        text-align: right;\n",
       "    }\n",
       "</style>\n",
       "<table border=\"1\" class=\"dataframe\">\n",
       "  <thead>\n",
       "    <tr style=\"text-align: right;\">\n",
       "      <th></th>\n",
       "      <th>ts</th>\n",
       "      <th>uid</th>\n",
       "      <th>id.orig_h</th>\n",
       "      <th>id.resp_h</th>\n",
       "      <th>id.resp_p</th>\n",
       "      <th>proto</th>\n",
       "      <th>service</th>\n",
       "      <th>conn_state</th>\n",
       "      <th>label</th>\n",
       "      <th>detailed-label</th>\n",
       "    </tr>\n",
       "  </thead>\n",
       "  <tbody>\n",
       "    <tr>\n",
       "      <th>0</th>\n",
       "      <td>1.545396e+09</td>\n",
       "      <td>CNsbYd1o5m4QJW88Rj</td>\n",
       "      <td>192.168.1.198</td>\n",
       "      <td>185.130.215.13</td>\n",
       "      <td>57722</td>\n",
       "      <td>tcp</td>\n",
       "      <td>-</td>\n",
       "      <td>S0</td>\n",
       "      <td>Malicious</td>\n",
       "      <td>C&amp;C-HeartBeat</td>\n",
       "    </tr>\n",
       "  </tbody>\n",
       "</table>\n",
       "</div>"
      ],
      "text/plain": [
       "             ts                 uid      id.orig_h       id.resp_h  id.resp_p  \\\n",
       "0  1.545396e+09  CNsbYd1o5m4QJW88Rj  192.168.1.198  185.130.215.13      57722   \n",
       "\n",
       "  proto service conn_state      label detailed-label  \n",
       "0   tcp       -         S0  Malicious  C&C-HeartBeat  "
      ]
     },
     "execution_count": 3,
     "metadata": {},
     "output_type": "execute_result"
    }
   ],
   "source": [
    "conn = pd.read_csv(scenario_path + 'bro/conn.log', sep=\"\\t\", header=0)\n",
    "conn.drop(conn.shape[0]-1, inplace=True)\n",
    "conn = conn[[\"ts\", \"uid\", \"id.orig_h\", \"id.resp_h\", \"id.resp_p\", \"proto\", \"service\", \"conn_state\", \"label\", \"detailed-label\"]]\n",
    "conn.head(1)"
   ]
  },
  {
   "cell_type": "code",
   "execution_count": null,
   "metadata": {},
   "outputs": [],
   "source": [
    "flow = pd.read_csv(scenario_path + 'zeek/flowmeter.log', sep=\"\\t\", header=0, index_col=False)\n",
    "flow.drop(flow.shape[0]-1, inplace=True)\n",
    "flow.drop(\"uid\", axis=1, inplace=True)\n",
    "flow.head(1)"
   ]
  },
  {
   "cell_type": "code",
   "execution_count": null,
   "metadata": {},
   "outputs": [],
   "source": [
    "dataset = pd.concat([conn, flow], axis=1)\n",
    "dataset.drop([\"ts\", \"uid\", \"id.orig_h\", \"id.resp_h\", \"id.resp_p\", \"proto\", \"service\", \"conn_state\"], axis=1, inplace=True)\n",
    "dataset.head(1)"
   ]
  },
  {
   "cell_type": "code",
   "execution_count": null,
   "metadata": {},
   "outputs": [],
   "source": [
    "benign = dataset[dataset[\"label\"] == \"Benign\"]\n",
    "benign.to_csv('/media/kmdr7/Seagate/DATASETS/IOT-23/CTU-IoT-Benign/'+scenario_id+'.csv', index=False)\n",
    "benign.shape"
   ]
  },
  {
   "cell_type": "code",
   "execution_count": null,
   "metadata": {},
   "outputs": [],
   "source": [
    "malware = dataset[dataset[\"label\"] != \"Benign\"]\n",
    "malware.to_csv('/media/kmdr7/Seagate/DATASETS/IOT-23/CTU-IoT-Malware/'+scenario_id+'.csv', index=False)\n",
    "malware.shape"
   ]
  }
 ],
 "metadata": {
  "kernelspec": {
   "display_name": "Python 3.8.2 64-bit ('FinalProjectEnv': venv)",
   "language": "python",
   "name": "python38264bitfinalprojectenvvenveda54e4f40e84a6f9e770ddeca258537"
  },
  "language_info": {
   "codemirror_mode": {
    "name": "ipython",
    "version": 3
   },
   "file_extension": ".py",
   "mimetype": "text/x-python",
   "name": "python",
   "nbconvert_exporter": "python",
   "pygments_lexer": "ipython3",
   "version": "3.8.5"
  }
 },
 "nbformat": 4,
 "nbformat_minor": 4
}
