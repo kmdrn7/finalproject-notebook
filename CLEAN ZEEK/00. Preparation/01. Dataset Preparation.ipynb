{
 "cells": [
  {
   "cell_type": "code",
   "execution_count": 1,
   "metadata": {},
   "outputs": [],
   "source": [
    "import pandas as pd\n",
    "from glob import glob"
   ]
  },
  {
   "cell_type": "code",
   "execution_count": 2,
   "metadata": {},
   "outputs": [],
   "source": [
    "def get_csv(path, csvs):\n",
    "    csv_path = []\n",
    "    [ csv_path.append(pd.read_csv(path + csv)) for csv in csvs ]\n",
    "    return pd.concat(csv_path, axis=0)"
   ]
  },
  {
   "cell_type": "code",
   "execution_count": 3,
   "metadata": {},
   "outputs": [],
   "source": [
    "malware_path = \"/media/kmdr7/Seagate/DATASETS/Merged-IoT-Dataset/Malware/\"\n",
    "benign_path = \"/media/kmdr7/Seagate/DATASETS/Merged-IoT-Dataset/Benign/\""
   ]
  },
  {
   "cell_type": "code",
   "execution_count": 4,
   "metadata": {},
   "outputs": [],
   "source": [
    "malware = get_csv(malware_path, [\n",
    "    \"3-1.csv\",\n",
    "    \"8-1.csv\",\n",
    "    \"20-1.csv\",\n",
    "    \"21-1.csv\",\n",
    "    \"34-1.csv\",\n",
    "])"
   ]
  },
  {
   "cell_type": "code",
   "execution_count": 5,
   "metadata": {},
   "outputs": [],
   "source": [
    "benign = get_csv(benign_path, [\n",
    "    \"3-1.csv\",\n",
    "    \"8-1.csv\",\n",
    "    \"20-1.csv\",\n",
    "    \"21-1.csv\",\n",
    "    \"34-1.csv\",\n",
    "    \"16-09-23.csv\",\n",
    "    \"16-09-24.csv\",\n",
    "    \"16-09-25.csv\",\n",
    "    \"16-09-26.csv\",\n",
    "    \"16-09-27.csv\",\n",
    "])"
   ]
  },
  {
   "cell_type": "code",
   "execution_count": 6,
   "metadata": {},
   "outputs": [
    {
     "data": {
      "text/plain": [
       "(181041, 82)"
      ]
     },
     "execution_count": 6,
     "metadata": {},
     "output_type": "execute_result"
    }
   ],
   "source": [
    "malware.to_csv('/media/kmdr7/Seagate/DATASETS/Merged-IoT-Dataset/Malware.csv', index=False)\n",
    "malware.shape"
   ]
  },
  {
   "cell_type": "code",
   "execution_count": 7,
   "metadata": {},
   "outputs": [
    {
     "data": {
      "text/plain": [
       "(195788, 82)"
      ]
     },
     "execution_count": 7,
     "metadata": {},
     "output_type": "execute_result"
    }
   ],
   "source": [
    "benign.to_csv('/media/kmdr7/Seagate/DATASETS/Merged-IoT-Dataset/Benign.csv', index=False)\n",
    "benign.shape"
   ]
  },
  {
   "cell_type": "code",
   "execution_count": 8,
   "metadata": {},
   "outputs": [
    {
     "data": {
      "text/plain": [
       "(376829, 82)"
      ]
     },
     "execution_count": 8,
     "metadata": {},
     "output_type": "execute_result"
    }
   ],
   "source": [
    "dataset = pd.concat([malware, benign])\n",
    "dataset.to_csv('/media/kmdr7/Seagate/DATASETS/Merged-IoT-Dataset/Dataset.csv', index=False)\n",
    "dataset.shape"
   ]
  }
 ],
 "metadata": {
  "kernelspec": {
   "display_name": "Python 3",
   "language": "python",
   "name": "python3"
  },
  "language_info": {
   "codemirror_mode": {
    "name": "ipython",
    "version": 3
   },
   "file_extension": ".py",
   "mimetype": "text/x-python",
   "name": "python",
   "nbconvert_exporter": "python",
   "pygments_lexer": "ipython3",
   "version": "3.8.5"
  }
 },
 "nbformat": 4,
 "nbformat_minor": 4
}
