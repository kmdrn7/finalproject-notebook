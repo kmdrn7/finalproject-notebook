{
 "cells": [
  {
   "cell_type": "code",
   "execution_count": 3,
   "metadata": {},
   "outputs": [],
   "source": [
    "import pandas as pd\n",
    "import numpy as np\n",
    "import seaborn\n",
    "import matplotlib.pyplot as plt\n",
    "\n",
    "from sklearn import svm\n",
    "from sklearn.tree import DecisionTreeClassifier\n",
    "from sklearn.model_selection import train_test_split, cross_val_score\n",
    "from sklearn import metrics"
   ]
  },
  {
   "cell_type": "markdown",
   "metadata": {},
   "source": [
    "# Dataset lowvariance + correlation filter"
   ]
  },
  {
   "cell_type": "code",
   "execution_count": 4,
   "metadata": {},
   "outputs": [
    {
     "data": {
      "text/html": [
       "<div>\n",
       "<style scoped>\n",
       "    .dataframe tbody tr th:only-of-type {\n",
       "        vertical-align: middle;\n",
       "    }\n",
       "\n",
       "    .dataframe tbody tr th {\n",
       "        vertical-align: top;\n",
       "    }\n",
       "\n",
       "    .dataframe thead th {\n",
       "        text-align: right;\n",
       "    }\n",
       "</style>\n",
       "<table border=\"1\" class=\"dataframe\">\n",
       "  <thead>\n",
       "    <tr style=\"text-align: right;\">\n",
       "      <th></th>\n",
       "      <th>Flow Duration</th>\n",
       "      <th>Fwd IAT Total</th>\n",
       "      <th>Bwd IAT Total</th>\n",
       "      <th>Fwd PSH Flags</th>\n",
       "      <th>Bwd Init Win Bytes</th>\n",
       "      <th>Fwd Seg Size Min</th>\n",
       "      <th>Idle Mean</th>\n",
       "      <th>Idle Std</th>\n",
       "      <th>Idle Max</th>\n",
       "      <th>Idle Min</th>\n",
       "      <th>Label</th>\n",
       "    </tr>\n",
       "  </thead>\n",
       "  <tbody>\n",
       "    <tr>\n",
       "      <th>0</th>\n",
       "      <td>0.278110</td>\n",
       "      <td>0.277967</td>\n",
       "      <td>0.011145</td>\n",
       "      <td>0.0</td>\n",
       "      <td>0.003708</td>\n",
       "      <td>0.727273</td>\n",
       "      <td>0.273822</td>\n",
       "      <td>0.807669</td>\n",
       "      <td>0.330272</td>\n",
       "      <td>2.022253e-09</td>\n",
       "      <td>Malware</td>\n",
       "    </tr>\n",
       "    <tr>\n",
       "      <th>1</th>\n",
       "      <td>0.001026</td>\n",
       "      <td>0.001027</td>\n",
       "      <td>0.000094</td>\n",
       "      <td>0.0</td>\n",
       "      <td>0.003708</td>\n",
       "      <td>0.727273</td>\n",
       "      <td>0.988083</td>\n",
       "      <td>0.000000</td>\n",
       "      <td>0.330273</td>\n",
       "      <td>9.889994e-01</td>\n",
       "      <td>Malware</td>\n",
       "    </tr>\n",
       "    <tr>\n",
       "      <th>2</th>\n",
       "      <td>0.070998</td>\n",
       "      <td>0.070903</td>\n",
       "      <td>0.010628</td>\n",
       "      <td>0.0</td>\n",
       "      <td>0.003708</td>\n",
       "      <td>0.727273</td>\n",
       "      <td>0.988083</td>\n",
       "      <td>0.000000</td>\n",
       "      <td>0.330273</td>\n",
       "      <td>9.889994e-01</td>\n",
       "      <td>Malware</td>\n",
       "    </tr>\n",
       "    <tr>\n",
       "      <th>3</th>\n",
       "      <td>0.008326</td>\n",
       "      <td>0.008232</td>\n",
       "      <td>0.008102</td>\n",
       "      <td>0.0</td>\n",
       "      <td>0.003708</td>\n",
       "      <td>0.727273</td>\n",
       "      <td>0.988083</td>\n",
       "      <td>0.000000</td>\n",
       "      <td>0.330273</td>\n",
       "      <td>9.889994e-01</td>\n",
       "      <td>Malware</td>\n",
       "    </tr>\n",
       "    <tr>\n",
       "      <th>4</th>\n",
       "      <td>0.034303</td>\n",
       "      <td>0.034210</td>\n",
       "      <td>0.008331</td>\n",
       "      <td>0.0</td>\n",
       "      <td>0.003708</td>\n",
       "      <td>0.727273</td>\n",
       "      <td>0.988083</td>\n",
       "      <td>0.000000</td>\n",
       "      <td>0.330273</td>\n",
       "      <td>9.889994e-01</td>\n",
       "      <td>Malware</td>\n",
       "    </tr>\n",
       "    <tr>\n",
       "      <th>...</th>\n",
       "      <td>...</td>\n",
       "      <td>...</td>\n",
       "      <td>...</td>\n",
       "      <td>...</td>\n",
       "      <td>...</td>\n",
       "      <td>...</td>\n",
       "      <td>...</td>\n",
       "      <td>...</td>\n",
       "      <td>...</td>\n",
       "      <td>...</td>\n",
       "      <td>...</td>\n",
       "    </tr>\n",
       "    <tr>\n",
       "      <th>17909</th>\n",
       "      <td>0.000009</td>\n",
       "      <td>0.000000</td>\n",
       "      <td>0.000000</td>\n",
       "      <td>0.0</td>\n",
       "      <td>0.020890</td>\n",
       "      <td>0.727273</td>\n",
       "      <td>0.982628</td>\n",
       "      <td>0.000000</td>\n",
       "      <td>0.023788</td>\n",
       "      <td>9.839642e-01</td>\n",
       "      <td>Benign</td>\n",
       "    </tr>\n",
       "    <tr>\n",
       "      <th>17910</th>\n",
       "      <td>0.000028</td>\n",
       "      <td>0.000000</td>\n",
       "      <td>0.000000</td>\n",
       "      <td>0.0</td>\n",
       "      <td>0.020890</td>\n",
       "      <td>0.727273</td>\n",
       "      <td>0.982623</td>\n",
       "      <td>0.000000</td>\n",
       "      <td>0.023494</td>\n",
       "      <td>9.839594e-01</td>\n",
       "      <td>Benign</td>\n",
       "    </tr>\n",
       "    <tr>\n",
       "      <th>17911</th>\n",
       "      <td>0.000095</td>\n",
       "      <td>0.000000</td>\n",
       "      <td>0.000000</td>\n",
       "      <td>0.0</td>\n",
       "      <td>0.000000</td>\n",
       "      <td>0.181818</td>\n",
       "      <td>0.982627</td>\n",
       "      <td>0.000000</td>\n",
       "      <td>0.023742</td>\n",
       "      <td>9.839634e-01</td>\n",
       "      <td>Benign</td>\n",
       "    </tr>\n",
       "    <tr>\n",
       "      <th>17912</th>\n",
       "      <td>0.000014</td>\n",
       "      <td>0.000000</td>\n",
       "      <td>0.000000</td>\n",
       "      <td>0.0</td>\n",
       "      <td>0.021149</td>\n",
       "      <td>0.727273</td>\n",
       "      <td>0.982624</td>\n",
       "      <td>0.000000</td>\n",
       "      <td>0.023557</td>\n",
       "      <td>9.839604e-01</td>\n",
       "      <td>Benign</td>\n",
       "    </tr>\n",
       "    <tr>\n",
       "      <th>17913</th>\n",
       "      <td>0.000104</td>\n",
       "      <td>0.000000</td>\n",
       "      <td>0.000000</td>\n",
       "      <td>0.0</td>\n",
       "      <td>0.000000</td>\n",
       "      <td>0.181818</td>\n",
       "      <td>0.982625</td>\n",
       "      <td>0.000000</td>\n",
       "      <td>0.023613</td>\n",
       "      <td>9.839613e-01</td>\n",
       "      <td>Benign</td>\n",
       "    </tr>\n",
       "  </tbody>\n",
       "</table>\n",
       "<p>17914 rows × 11 columns</p>\n",
       "</div>"
      ],
      "text/plain": [
       "       Flow Duration  Fwd IAT Total  Bwd IAT Total  Fwd PSH Flags  \\\n",
       "0           0.278110       0.277967       0.011145            0.0   \n",
       "1           0.001026       0.001027       0.000094            0.0   \n",
       "2           0.070998       0.070903       0.010628            0.0   \n",
       "3           0.008326       0.008232       0.008102            0.0   \n",
       "4           0.034303       0.034210       0.008331            0.0   \n",
       "...              ...            ...            ...            ...   \n",
       "17909       0.000009       0.000000       0.000000            0.0   \n",
       "17910       0.000028       0.000000       0.000000            0.0   \n",
       "17911       0.000095       0.000000       0.000000            0.0   \n",
       "17912       0.000014       0.000000       0.000000            0.0   \n",
       "17913       0.000104       0.000000       0.000000            0.0   \n",
       "\n",
       "       Bwd Init Win Bytes  Fwd Seg Size Min  Idle Mean  Idle Std  Idle Max  \\\n",
       "0                0.003708          0.727273   0.273822  0.807669  0.330272   \n",
       "1                0.003708          0.727273   0.988083  0.000000  0.330273   \n",
       "2                0.003708          0.727273   0.988083  0.000000  0.330273   \n",
       "3                0.003708          0.727273   0.988083  0.000000  0.330273   \n",
       "4                0.003708          0.727273   0.988083  0.000000  0.330273   \n",
       "...                   ...               ...        ...       ...       ...   \n",
       "17909            0.020890          0.727273   0.982628  0.000000  0.023788   \n",
       "17910            0.020890          0.727273   0.982623  0.000000  0.023494   \n",
       "17911            0.000000          0.181818   0.982627  0.000000  0.023742   \n",
       "17912            0.021149          0.727273   0.982624  0.000000  0.023557   \n",
       "17913            0.000000          0.181818   0.982625  0.000000  0.023613   \n",
       "\n",
       "           Idle Min    Label  \n",
       "0      2.022253e-09  Malware  \n",
       "1      9.889994e-01  Malware  \n",
       "2      9.889994e-01  Malware  \n",
       "3      9.889994e-01  Malware  \n",
       "4      9.889994e-01  Malware  \n",
       "...             ...      ...  \n",
       "17909  9.839642e-01   Benign  \n",
       "17910  9.839594e-01   Benign  \n",
       "17911  9.839634e-01   Benign  \n",
       "17912  9.839604e-01   Benign  \n",
       "17913  9.839613e-01   Benign  \n",
       "\n",
       "[17914 rows x 11 columns]"
      ]
     },
     "execution_count": 4,
     "metadata": {},
     "output_type": "execute_result"
    }
   ],
   "source": [
    "lc_dataset = pd.read_csv(\"/media/kmdr7/Seagate/DATASETS/IOT-23/Merged/04. Feature Selection/lowvariance_correlationfilter_dataset.csv\")\n",
    "lc_clean_dataset = lc_dataset.drop(columns=[\"Label\"])\n",
    "lc_label = lc_dataset[\"Label\"]\n",
    "lc_dataset"
   ]
  },
  {
   "cell_type": "markdown",
   "metadata": {},
   "source": [
    "# Dataset PCA"
   ]
  },
  {
   "cell_type": "code",
   "execution_count": 5,
   "metadata": {},
   "outputs": [
    {
     "data": {
      "text/html": [
       "<div>\n",
       "<style scoped>\n",
       "    .dataframe tbody tr th:only-of-type {\n",
       "        vertical-align: middle;\n",
       "    }\n",
       "\n",
       "    .dataframe tbody tr th {\n",
       "        vertical-align: top;\n",
       "    }\n",
       "\n",
       "    .dataframe thead th {\n",
       "        text-align: right;\n",
       "    }\n",
       "</style>\n",
       "<table border=\"1\" class=\"dataframe\">\n",
       "  <thead>\n",
       "    <tr style=\"text-align: right;\">\n",
       "      <th></th>\n",
       "      <th>Feature 1</th>\n",
       "      <th>Feature 2</th>\n",
       "      <th>Feature 3</th>\n",
       "      <th>Feature 4</th>\n",
       "      <th>Feature 5</th>\n",
       "      <th>Feature 6</th>\n",
       "      <th>Feature 7</th>\n",
       "      <th>Feature 8</th>\n",
       "      <th>Feature 9</th>\n",
       "      <th>Label</th>\n",
       "    </tr>\n",
       "  </thead>\n",
       "  <tbody>\n",
       "    <tr>\n",
       "      <th>0</th>\n",
       "      <td>0.147808</td>\n",
       "      <td>-0.514771</td>\n",
       "      <td>0.286697</td>\n",
       "      <td>-0.137553</td>\n",
       "      <td>0.913494</td>\n",
       "      <td>0.855905</td>\n",
       "      <td>0.273484</td>\n",
       "      <td>-0.479864</td>\n",
       "      <td>0.440577</td>\n",
       "      <td>Malware</td>\n",
       "    </tr>\n",
       "    <tr>\n",
       "      <th>1</th>\n",
       "      <td>-1.022914</td>\n",
       "      <td>-0.885687</td>\n",
       "      <td>0.002199</td>\n",
       "      <td>-0.213661</td>\n",
       "      <td>0.404288</td>\n",
       "      <td>-0.050455</td>\n",
       "      <td>-0.015976</td>\n",
       "      <td>-0.223345</td>\n",
       "      <td>0.395839</td>\n",
       "      <td>Malware</td>\n",
       "    </tr>\n",
       "    <tr>\n",
       "      <th>2</th>\n",
       "      <td>-0.906647</td>\n",
       "      <td>-1.049279</td>\n",
       "      <td>-0.090859</td>\n",
       "      <td>-0.119511</td>\n",
       "      <td>0.527799</td>\n",
       "      <td>0.251826</td>\n",
       "      <td>0.079525</td>\n",
       "      <td>-0.229274</td>\n",
       "      <td>0.820235</td>\n",
       "      <td>Malware</td>\n",
       "    </tr>\n",
       "    <tr>\n",
       "      <th>3</th>\n",
       "      <td>-0.961825</td>\n",
       "      <td>-1.072027</td>\n",
       "      <td>-0.092086</td>\n",
       "      <td>-0.123172</td>\n",
       "      <td>0.547419</td>\n",
       "      <td>0.261675</td>\n",
       "      <td>0.097636</td>\n",
       "      <td>-0.246404</td>\n",
       "      <td>0.766521</td>\n",
       "      <td>Malware</td>\n",
       "    </tr>\n",
       "    <tr>\n",
       "      <th>4</th>\n",
       "      <td>-0.932441</td>\n",
       "      <td>-1.071461</td>\n",
       "      <td>-0.095981</td>\n",
       "      <td>-0.121096</td>\n",
       "      <td>0.543819</td>\n",
       "      <td>0.264623</td>\n",
       "      <td>0.091478</td>\n",
       "      <td>-0.242332</td>\n",
       "      <td>0.799116</td>\n",
       "      <td>Malware</td>\n",
       "    </tr>\n",
       "    <tr>\n",
       "      <th>...</th>\n",
       "      <td>...</td>\n",
       "      <td>...</td>\n",
       "      <td>...</td>\n",
       "      <td>...</td>\n",
       "      <td>...</td>\n",
       "      <td>...</td>\n",
       "      <td>...</td>\n",
       "      <td>...</td>\n",
       "      <td>...</td>\n",
       "      <td>...</td>\n",
       "    </tr>\n",
       "    <tr>\n",
       "      <th>17909</th>\n",
       "      <td>-1.272618</td>\n",
       "      <td>-0.516196</td>\n",
       "      <td>0.256069</td>\n",
       "      <td>-0.001591</td>\n",
       "      <td>0.236656</td>\n",
       "      <td>-0.174635</td>\n",
       "      <td>-0.357812</td>\n",
       "      <td>-0.020789</td>\n",
       "      <td>-0.113106</td>\n",
       "      <td>Benign</td>\n",
       "    </tr>\n",
       "    <tr>\n",
       "      <th>17910</th>\n",
       "      <td>-1.272900</td>\n",
       "      <td>-0.516462</td>\n",
       "      <td>0.256063</td>\n",
       "      <td>-0.000838</td>\n",
       "      <td>0.237219</td>\n",
       "      <td>-0.173486</td>\n",
       "      <td>-0.357441</td>\n",
       "      <td>-0.020440</td>\n",
       "      <td>-0.111875</td>\n",
       "      <td>Benign</td>\n",
       "    </tr>\n",
       "    <tr>\n",
       "      <th>17911</th>\n",
       "      <td>-1.213357</td>\n",
       "      <td>-0.449642</td>\n",
       "      <td>0.418320</td>\n",
       "      <td>-0.699023</td>\n",
       "      <td>-0.120048</td>\n",
       "      <td>-0.258811</td>\n",
       "      <td>-0.109428</td>\n",
       "      <td>-0.053669</td>\n",
       "      <td>0.016398</td>\n",
       "      <td>Benign</td>\n",
       "    </tr>\n",
       "    <tr>\n",
       "      <th>17912</th>\n",
       "      <td>-1.272611</td>\n",
       "      <td>-0.516280</td>\n",
       "      <td>0.256100</td>\n",
       "      <td>-0.001601</td>\n",
       "      <td>0.236615</td>\n",
       "      <td>-0.174460</td>\n",
       "      <td>-0.357927</td>\n",
       "      <td>-0.020759</td>\n",
       "      <td>-0.113045</td>\n",
       "      <td>Benign</td>\n",
       "    </tr>\n",
       "    <tr>\n",
       "      <th>17913</th>\n",
       "      <td>-1.213381</td>\n",
       "      <td>-0.449635</td>\n",
       "      <td>0.418376</td>\n",
       "      <td>-0.699027</td>\n",
       "      <td>-0.120074</td>\n",
       "      <td>-0.258749</td>\n",
       "      <td>-0.109513</td>\n",
       "      <td>-0.053666</td>\n",
       "      <td>0.016407</td>\n",
       "      <td>Benign</td>\n",
       "    </tr>\n",
       "  </tbody>\n",
       "</table>\n",
       "<p>17914 rows × 10 columns</p>\n",
       "</div>"
      ],
      "text/plain": [
       "       Feature 1  Feature 2  Feature 3  Feature 4  Feature 5  Feature 6  \\\n",
       "0       0.147808  -0.514771   0.286697  -0.137553   0.913494   0.855905   \n",
       "1      -1.022914  -0.885687   0.002199  -0.213661   0.404288  -0.050455   \n",
       "2      -0.906647  -1.049279  -0.090859  -0.119511   0.527799   0.251826   \n",
       "3      -0.961825  -1.072027  -0.092086  -0.123172   0.547419   0.261675   \n",
       "4      -0.932441  -1.071461  -0.095981  -0.121096   0.543819   0.264623   \n",
       "...          ...        ...        ...        ...        ...        ...   \n",
       "17909  -1.272618  -0.516196   0.256069  -0.001591   0.236656  -0.174635   \n",
       "17910  -1.272900  -0.516462   0.256063  -0.000838   0.237219  -0.173486   \n",
       "17911  -1.213357  -0.449642   0.418320  -0.699023  -0.120048  -0.258811   \n",
       "17912  -1.272611  -0.516280   0.256100  -0.001601   0.236615  -0.174460   \n",
       "17913  -1.213381  -0.449635   0.418376  -0.699027  -0.120074  -0.258749   \n",
       "\n",
       "       Feature 7  Feature 8  Feature 9    Label  \n",
       "0       0.273484  -0.479864   0.440577  Malware  \n",
       "1      -0.015976  -0.223345   0.395839  Malware  \n",
       "2       0.079525  -0.229274   0.820235  Malware  \n",
       "3       0.097636  -0.246404   0.766521  Malware  \n",
       "4       0.091478  -0.242332   0.799116  Malware  \n",
       "...          ...        ...        ...      ...  \n",
       "17909  -0.357812  -0.020789  -0.113106   Benign  \n",
       "17910  -0.357441  -0.020440  -0.111875   Benign  \n",
       "17911  -0.109428  -0.053669   0.016398   Benign  \n",
       "17912  -0.357927  -0.020759  -0.113045   Benign  \n",
       "17913  -0.109513  -0.053666   0.016407   Benign  \n",
       "\n",
       "[17914 rows x 10 columns]"
      ]
     },
     "execution_count": 5,
     "metadata": {},
     "output_type": "execute_result"
    }
   ],
   "source": [
    "pca_dataset = pd.read_csv(\"/media/kmdr7/Seagate/DATASETS/IOT-23/Merged/04. Feature Selection/pca_dataset.csv\")\n",
    "pca_clean_dataset = pca_dataset.drop(columns=[\"Label\"])\n",
    "pca_label = pca_dataset[\"Label\"]\n",
    "pca_dataset"
   ]
  },
  {
   "cell_type": "markdown",
   "metadata": {},
   "source": [
    "## Decission Tree [lowvariance + correlation filter]"
   ]
  },
  {
   "cell_type": "code",
   "execution_count": 6,
   "metadata": {},
   "outputs": [],
   "source": [
    "## Bagi dataset menjadi train dan test\n",
    "x_train, x_test, y_train, y_test = train_test_split(\n",
    "    lc_clean_dataset, lc_label, test_size=1/7.0, random_state=0\n",
    ")"
   ]
  },
  {
   "cell_type": "code",
   "execution_count": 7,
   "metadata": {},
   "outputs": [
    {
     "name": "stdout",
     "output_type": "stream",
     "text": [
      "mean: 0.988 (std: 0.033)\n",
      "\n"
     ]
    }
   ],
   "source": [
    "dt_classifier = DecisionTreeClassifier(criterion=\"entropy\")\n",
    "dt_classifier.fit(x_train, y_train)\n",
    "scores = cross_val_score(estimator=dt_classifier, X=lc_clean_dataset, y=lc_label, cv=10, n_jobs=4)\n",
    "print(\"mean: {:.3f} (std: {:.3f})\".format(scores.mean(), scores.std()), end=\"\\n\\n\" )"
   ]
  },
  {
   "cell_type": "code",
   "execution_count": 8,
   "metadata": {},
   "outputs": [
    {
     "name": "stdout",
     "output_type": "stream",
     "text": [
      "Accuracy: 0.998828125\n"
     ]
    }
   ],
   "source": [
    "y_pred = dt_classifier.predict(x_test)\n",
    "print(\"Accuracy:\", metrics.accuracy_score(y_test, y_pred))"
   ]
  },
  {
   "cell_type": "code",
   "execution_count": 13,
   "metadata": {},
   "outputs": [
    {
     "data": {
      "text/plain": [
       "array([0.99882835, 0.99882767])"
      ]
     },
     "execution_count": 13,
     "metadata": {},
     "output_type": "execute_result"
    }
   ],
   "source": [
    "# Recall\n",
    "from sklearn.metrics import recall_score\n",
    "recall = recall_score(y_test, y_pred, average=None)\n",
    "recall"
   ]
  },
  {
   "cell_type": "code",
   "execution_count": 15,
   "metadata": {},
   "outputs": [
    {
     "data": {
      "text/plain": [
       "array([0.99912101, 0.99824253])"
      ]
     },
     "execution_count": 15,
     "metadata": {},
     "output_type": "execute_result"
    }
   ],
   "source": [
    "# F1 Score\n",
    "from sklearn.metrics import f1_score\n",
    "f1 = f1_score(y_test, y_pred, average=None)\n",
    "f1"
   ]
  },
  {
   "cell_type": "code",
   "execution_count": 16,
   "metadata": {},
   "outputs": [
    {
     "data": {
      "text/plain": [
       "array([99.94138335, 99.76580796])"
      ]
     },
     "execution_count": 16,
     "metadata": {},
     "output_type": "execute_result"
    }
   ],
   "source": [
    "# Precision\n",
    "from sklearn.metrics import precision_score\n",
    "precision = precision_score(y_test, y_pred, average=None) * 100\n",
    "precision"
   ]
  },
  {
   "cell_type": "code",
   "execution_count": 17,
   "metadata": {},
   "outputs": [
    {
     "data": {
      "text/plain": [
       "array([[1705,    2],\n",
       "       [   1,  852]])"
      ]
     },
     "execution_count": 17,
     "metadata": {},
     "output_type": "execute_result"
    }
   ],
   "source": [
    "conf = metrics.confusion_matrix(y_test, y_pred)\n",
    "conf"
   ]
  },
  {
   "cell_type": "code",
   "execution_count": 18,
   "metadata": {},
   "outputs": [],
   "source": [
    "def plot_confusion_matrix(data, labels, output_filename):\n",
    "    \"\"\"Plot confusion matrix using heatmap.\n",
    "    Args:\n",
    "        data (list of list): List of lists with confusion matrix data.\n",
    "        labels (list): Labels which will be plotted across x and y axis.\n",
    "        output_filename (str): Path to output file.\n",
    " \n",
    "    \"\"\"\n",
    "    seaborn.set(color_codes=True)\n",
    "    plt.figure(1, figsize=(9, 6))\n",
    " \n",
    "    plt.title(\"Confusion Matrix\")\n",
    " \n",
    "    seaborn.set(font_scale=1.4)\n",
    "    ax = seaborn.heatmap(data, annot=True, cmap=\"YlGnBu\", cbar_kws={'label': 'Scale'})\n",
    " \n",
    "    ax.set_xticklabels(labels)\n",
    "    ax.set_yticklabels(labels)\n",
    " \n",
    "    ax.set(ylabel=\"True Label\", xlabel=\"Predicted Label\")\n",
    "    plt.show()\n",
    "    # plt.savefig(output_filename, bbox_inches='tight', dpi=300)\n",
    "    # plt.close()"
   ]
  },
  {
   "cell_type": "code",
   "execution_count": 19,
   "metadata": {},
   "outputs": [
    {
     "data": {
      "image/png": "[encoded data removed]",
      "text/plain": [
       "<Figure size 648x432 with 2 Axes>"
      ]
     },
     "metadata": {},
     "output_type": "display_data"
    }
   ],
   "source": [
    "labels = [\"BENIGN\", \"MALWARE\"]\n",
    "plot_confusion_matrix(conf, labels, \"confusion_matrix.png\")"
   ]
  },
  {
   "cell_type": "markdown",
   "metadata": {},
   "source": [
    "## Decisstion Tree [pca]"
   ]
  },
  {
   "cell_type": "code",
   "execution_count": 20,
   "metadata": {},
   "outputs": [],
   "source": [
    "## Bagi dataset menjadi train dan test\n",
    "x_train, x_test, y_train, y_test = train_test_split(\n",
    "    pca_clean_dataset, pca_label, test_size=1/7.0, random_state=0\n",
    ")"
   ]
  },
  {
   "cell_type": "code",
   "execution_count": 23,
   "metadata": {},
   "outputs": [
    {
     "name": "stdout",
     "output_type": "stream",
     "text": [
      "mean: 0.977 (std: 0.043)\n",
      "\n"
     ]
    }
   ],
   "source": [
    "dt_classifier = DecisionTreeClassifier(criterion=\"entropy\")\n",
    "dt_classifier.fit(x_train, y_train)\n",
    "scores = cross_val_score(estimator=dt_classifier, X=pca_clean_dataset, y=pca_label, cv=10, n_jobs=4)\n",
    "print(\"mean: {:.3f} (std: {:.3f})\".format(scores.mean(), scores.std()), end=\"\\n\\n\" )"
   ]
  },
  {
   "cell_type": "code",
   "execution_count": 22,
   "metadata": {},
   "outputs": [
    {
     "name": "stdout",
     "output_type": "stream",
     "text": [
      "Accuracy: 0.99609375\n"
     ]
    }
   ],
   "source": [
    "y_pred = dt_classifier.predict(x_test)\n",
    "print(\"Accuracy:\", metrics.accuracy_score(y_test, y_pred))"
   ]
  }
 ],
 "metadata": {
  "kernelspec": {
   "display_name": "Python 3.8.2 64-bit ('FinalProjectEnv': venv)",
   "language": "python",
   "name": "python38264bitfinalprojectenvvenveda54e4f40e84a6f9e770ddeca258537"
  },
  "language_info": {
   "codemirror_mode": {
    "name": "ipython",
    "version": 3
   },
   "file_extension": ".py",
   "mimetype": "text/x-python",
   "name": "python",
   "nbconvert_exporter": "python",
   "pygments_lexer": "ipython3",
   "version": "3.8.5"
  }
 },
 "nbformat": 4,
 "nbformat_minor": 4
}
