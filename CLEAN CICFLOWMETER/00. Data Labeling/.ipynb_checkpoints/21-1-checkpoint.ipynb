{
 "cells": [
  {
   "cell_type": "code",
   "execution_count": 1,
   "metadata": {},
   "outputs": [],
   "source": [
    "import pandas as pd\n",
    "from glob import glob\n",
    "\n",
    "def get_csv(uri):\n",
    "    csvs = []\n",
    "    if \"*\" in uri:\n",
    "        all_csv = glob(uri)\n",
    "        [ csvs.append(pd.read_csv(uri)) for uri in all_csv ]\n",
    "        return pd.concat(csvs)\n",
    "    return pd.read_csv(uri)\n",
    "\n",
    "scenario = \"21-1\""
   ]
  },
  {
   "cell_type": "code",
   "execution_count": 2,
   "metadata": {},
   "outputs": [],
   "source": [
    "labels = get_csv('/media/kmdr7/Seagate/DATASETS/IOT-23/CTU-IoT-Malware-Capture-'+scenario+'/bro/labels.csv')"
   ]
  },
  {
   "cell_type": "code",
   "execution_count": 3,
   "metadata": {},
   "outputs": [],
   "source": [
    "datasets = get_csv('/media/kmdr7/Seagate/DATASETS/IOT-23/CTU-IoT-Malware-Capture-'+scenario+'/out/*')"
   ]
  },
  {
   "cell_type": "code",
   "execution_count": 4,
   "metadata": {},
   "outputs": [
    {
     "data": {
      "text/html": [
       "<div>\n",
       "<style scoped>\n",
       "    .dataframe tbody tr th:only-of-type {\n",
       "        vertical-align: middle;\n",
       "    }\n",
       "\n",
       "    .dataframe tbody tr th {\n",
       "        vertical-align: top;\n",
       "    }\n",
       "\n",
       "    .dataframe thead th {\n",
       "        text-align: right;\n",
       "    }\n",
       "</style>\n",
       "<table border=\"1\" class=\"dataframe\">\n",
       "  <thead>\n",
       "    <tr style=\"text-align: right;\">\n",
       "      <th></th>\n",
       "      <th>Id</th>\n",
       "      <th>Field</th>\n",
       "      <th>bro field number</th>\n",
       "      <th>Data</th>\n",
       "      <th>Comparator</th>\n",
       "      <th>Label</th>\n",
       "      <th>type</th>\n",
       "      <th>connector</th>\n",
       "    </tr>\n",
       "  </thead>\n",
       "  <tbody>\n",
       "    <tr>\n",
       "      <th>0</th>\n",
       "      <td>1</td>\n",
       "      <td>id.resp_h</td>\n",
       "      <td>3</td>\n",
       "      <td>66.85.157.90</td>\n",
       "      <td>eq</td>\n",
       "      <td>C&amp;C-Torii</td>\n",
       "      <td>Malicious</td>\n",
       "      <td>-</td>\n",
       "    </tr>\n",
       "  </tbody>\n",
       "</table>\n",
       "</div>"
      ],
      "text/plain": [
       "   Id      Field  bro field number          Data Comparator      Label  \\\n",
       "0   1  id.resp_h                 3  66.85.157.90         eq  C&C-Torii   \n",
       "\n",
       "        type connector  \n",
       "0  Malicious         -  "
      ]
     },
     "execution_count": 4,
     "metadata": {},
     "output_type": "execute_result"
    }
   ],
   "source": [
    "labels"
   ]
  },
  {
   "cell_type": "code",
   "execution_count": 5,
   "metadata": {},
   "outputs": [
    {
     "data": {
      "text/html": [
       "<div>\n",
       "<style scoped>\n",
       "    .dataframe tbody tr th:only-of-type {\n",
       "        vertical-align: middle;\n",
       "    }\n",
       "\n",
       "    .dataframe tbody tr th {\n",
       "        vertical-align: top;\n",
       "    }\n",
       "\n",
       "    .dataframe thead th {\n",
       "        text-align: right;\n",
       "    }\n",
       "</style>\n",
       "<table border=\"1\" class=\"dataframe\">\n",
       "  <thead>\n",
       "    <tr style=\"text-align: right;\">\n",
       "      <th></th>\n",
       "      <th>Flow ID</th>\n",
       "      <th>Src IP</th>\n",
       "      <th>Src Port</th>\n",
       "      <th>Dst IP</th>\n",
       "      <th>Dst Port</th>\n",
       "      <th>Protocol</th>\n",
       "      <th>Timestamp</th>\n",
       "      <th>Flow Duration</th>\n",
       "      <th>Total Fwd Packet</th>\n",
       "      <th>Total Bwd packets</th>\n",
       "      <th>...</th>\n",
       "      <th>Fwd Seg Size Min</th>\n",
       "      <th>Active Mean</th>\n",
       "      <th>Active Std</th>\n",
       "      <th>Active Max</th>\n",
       "      <th>Active Min</th>\n",
       "      <th>Idle Mean</th>\n",
       "      <th>Idle Std</th>\n",
       "      <th>Idle Max</th>\n",
       "      <th>Idle Min</th>\n",
       "      <th>Label</th>\n",
       "    </tr>\n",
       "  </thead>\n",
       "  <tbody>\n",
       "    <tr>\n",
       "      <th>0</th>\n",
       "      <td>8.6.0.1-8.0.6.4-0-0-0</td>\n",
       "      <td>8.6.0.1</td>\n",
       "      <td>0</td>\n",
       "      <td>8.0.6.4</td>\n",
       "      <td>0</td>\n",
       "      <td>0</td>\n",
       "      <td>03/10/2018 08:22:33 PM</td>\n",
       "      <td>110928499</td>\n",
       "      <td>10</td>\n",
       "      <td>0</td>\n",
       "      <td>...</td>\n",
       "      <td>0</td>\n",
       "      <td>501.75</td>\n",
       "      <td>682.094507</td>\n",
       "      <td>1511.0</td>\n",
       "      <td>7.0</td>\n",
       "      <td>3.077146e+14</td>\n",
       "      <td>6.880707e+14</td>\n",
       "      <td>1.538573e+15</td>\n",
       "      <td>5008656.0</td>\n",
       "      <td>NeedManualLabel</td>\n",
       "    </tr>\n",
       "  </tbody>\n",
       "</table>\n",
       "<p>1 rows × 84 columns</p>\n",
       "</div>"
      ],
      "text/plain": [
       "                 Flow ID   Src IP  Src Port   Dst IP  Dst Port  Protocol  \\\n",
       "0  8.6.0.1-8.0.6.4-0-0-0  8.6.0.1         0  8.0.6.4         0         0   \n",
       "\n",
       "                Timestamp  Flow Duration  Total Fwd Packet  Total Bwd packets  \\\n",
       "0  03/10/2018 08:22:33 PM      110928499                10                  0   \n",
       "\n",
       "   ...  Fwd Seg Size Min  Active Mean  Active Std  Active Max  Active Min  \\\n",
       "0  ...                 0       501.75  682.094507      1511.0         7.0   \n",
       "\n",
       "      Idle Mean      Idle Std      Idle Max   Idle Min            Label  \n",
       "0  3.077146e+14  6.880707e+14  1.538573e+15  5008656.0  NeedManualLabel  \n",
       "\n",
       "[1 rows x 84 columns]"
      ]
     },
     "execution_count": 5,
     "metadata": {},
     "output_type": "execute_result"
    }
   ],
   "source": [
    "datasets.head(1)"
   ]
  },
  {
   "cell_type": "code",
   "execution_count": 6,
   "metadata": {},
   "outputs": [
    {
     "data": {
      "text/plain": [
       "(730, 84)"
      ]
     },
     "execution_count": 6,
     "metadata": {},
     "output_type": "execute_result"
    }
   ],
   "source": [
    "malware = datasets[\n",
    "    (datasets[\"Dst IP\"] == \"66.85.157.90\") |\n",
    "    (datasets[\"Src IP\"] == \"66.85.157.90\")\n",
    "]\n",
    "malware.shape"
   ]
  },
  {
   "cell_type": "code",
   "execution_count": 7,
   "metadata": {},
   "outputs": [
    {
     "data": {
      "text/plain": [
       "(2870, 84)"
      ]
     },
     "execution_count": 7,
     "metadata": {},
     "output_type": "execute_result"
    }
   ],
   "source": [
    "benign = datasets.drop(malware.index)\n",
    "benign.shape"
   ]
  },
  {
   "cell_type": "code",
   "execution_count": 8,
   "metadata": {},
   "outputs": [],
   "source": [
    "malware.to_csv(\"/media/kmdr7/Seagate/FP/MENTAH/Malware/\"+scenario+\".csv\", index=False)\n",
    "benign.to_csv(\"/media/kmdr7/Seagate/FP/MENTAH/Benign/\"+scenario+\".csv\", index=False)"
   ]
  }
 ],
 "metadata": {
  "kernelspec": {
   "display_name": "Python 3",
   "language": "python",
   "name": "python3"
  },
  "language_info": {
   "codemirror_mode": {
    "name": "ipython",
    "version": 3
   },
   "file_extension": ".py",
   "mimetype": "text/x-python",
   "name": "python",
   "nbconvert_exporter": "python",
   "pygments_lexer": "ipython3",
   "version": "3.8.5"
  }
 },
 "nbformat": 4,
 "nbformat_minor": 4
}
