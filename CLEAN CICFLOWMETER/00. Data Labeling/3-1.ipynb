{
 "cells": [
  {
   "cell_type": "code",
   "execution_count": 1,
   "metadata": {},
   "outputs": [
    {
     "name": "stderr",
     "output_type": "stream",
     "text": [
      "2021-01-28 15:04:46,643\tINFO worker.py:656 -- Connecting to existing Ray cluster at address: 192.168.100.35:6379\n"
     ]
    }
   ],
   "source": [
    "import ray\n",
    "ray.init(address='auto', _redis_password='5241590000000000', ignore_reinit_error=True)\n",
    "\n",
    "import modin.pandas as pd\n",
    "from glob import glob\n",
    "\n",
    "def get_csv(uri):\n",
    "    csvs = []\n",
    "    if \"*\" in uri:\n",
    "        all_csv = glob(uri)\n",
    "        [ csvs.append(pd.read_csv(uri)) for uri in all_csv ]\n",
    "        return pd.concat(csvs)\n",
    "    return pd.read_csv(uri)\n",
    "\n",
    "scenario = \"3-1\""
   ]
  },
  {
   "cell_type": "code",
   "execution_count": 2,
   "metadata": {},
   "outputs": [],
   "source": [
    "labels = get_csv('/media/kmdr7/Seagate/DATASETS/IOT-23/CTU-IoT-Malware-Capture-'+scenario+'/bro/labels.csv')"
   ]
  },
  {
   "cell_type": "code",
   "execution_count": 6,
   "metadata": {},
   "outputs": [],
   "source": [
    "datasets = get_csv('/media/kmdr7/Seagate/DATASETS/IOT-23/CTU-IoT-Malware-Capture-'+scenario+'/out/*')"
   ]
  },
  {
   "cell_type": "code",
   "execution_count": 5,
   "metadata": {},
   "outputs": [
    {
     "data": {
      "text/html": [
       "<div>\n",
       "<style scoped>\n",
       "    .dataframe tbody tr th:only-of-type {\n",
       "        vertical-align: middle;\n",
       "    }\n",
       "\n",
       "    .dataframe tbody tr th {\n",
       "        vertical-align: top;\n",
       "    }\n",
       "\n",
       "    .dataframe thead th {\n",
       "        text-align: right;\n",
       "    }\n",
       "</style>\n",
       "<table border=\"1\" class=\"dataframe\">\n",
       "  <thead>\n",
       "    <tr style=\"text-align: right;\">\n",
       "      <th></th>\n",
       "      <th>Flow ID</th>\n",
       "      <th>Src IP</th>\n",
       "      <th>Src Port</th>\n",
       "      <th>Dst IP</th>\n",
       "      <th>Dst Port</th>\n",
       "      <th>Protocol</th>\n",
       "      <th>Timestamp</th>\n",
       "      <th>Flow Duration</th>\n",
       "      <th>Total Fwd Packet</th>\n",
       "      <th>Total Bwd packets</th>\n",
       "      <th>...</th>\n",
       "      <th>Fwd Seg Size Min</th>\n",
       "      <th>Active Mean</th>\n",
       "      <th>Active Std</th>\n",
       "      <th>Active Max</th>\n",
       "      <th>Active Min</th>\n",
       "      <th>Idle Mean</th>\n",
       "      <th>Idle Std</th>\n",
       "      <th>Idle Max</th>\n",
       "      <th>Idle Min</th>\n",
       "      <th>Label</th>\n",
       "    </tr>\n",
       "  </thead>\n",
       "  <tbody>\n",
       "    <tr>\n",
       "      <th>0</th>\n",
       "      <td>8.6.0.1-8.0.6.4-0-0-0</td>\n",
       "      <td>8.6.0.1</td>\n",
       "      <td>0</td>\n",
       "      <td>8.0.6.4</td>\n",
       "      <td>0</td>\n",
       "      <td>0</td>\n",
       "      <td>20/05/2018 01:57:24 AM</td>\n",
       "      <td>99980763</td>\n",
       "      <td>8</td>\n",
       "      <td>0</td>\n",
       "      <td>...</td>\n",
       "      <td>0</td>\n",
       "      <td>56.666667</td>\n",
       "      <td>28.431204</td>\n",
       "      <td>80.0</td>\n",
       "      <td>25.0</td>\n",
       "      <td>3.816891e+14</td>\n",
       "      <td>7.633781e+14</td>\n",
       "      <td>1.526756e+15</td>\n",
       "      <td>27020065.0</td>\n",
       "      <td>NeedManualLabel</td>\n",
       "    </tr>\n",
       "  </tbody>\n",
       "</table>\n",
       "<p>1 rows x 84 columns</p>\n",
       "</div>"
      ],
      "text/plain": [
       "                 Flow ID   Src IP  Src Port   Dst IP  Dst Port  Protocol  \\\n",
       "0  8.6.0.1-8.0.6.4-0-0-0  8.6.0.1         0  8.0.6.4         0         0   \n",
       "\n",
       "                Timestamp  Flow Duration  Total Fwd Packet  Total Bwd packets  \\\n",
       "0  20/05/2018 01:57:24 AM       99980763                 8                  0   \n",
       "\n",
       "   ...  Fwd Seg Size Min  Active Mean  Active Std  Active Max  Active Min  \\\n",
       "0  ...                 0    56.666667   28.431204        80.0        25.0   \n",
       "\n",
       "      Idle Mean      Idle Std      Idle Max    Idle Min            Label  \n",
       "0  3.816891e+14  7.633781e+14  1.526756e+15  27020065.0  NeedManualLabel  \n",
       "\n",
       "[1 rows x 84 columns]"
      ]
     },
     "execution_count": 5,
     "metadata": {},
     "output_type": "execute_result"
    }
   ],
   "source": [
    "datasets.head(1)"
   ]
  },
  {
   "cell_type": "code",
   "execution_count": 6,
   "metadata": {},
   "outputs": [
    {
     "data": {
      "text/plain": [
       "(82770, 84)"
      ]
     },
     "execution_count": 6,
     "metadata": {},
     "output_type": "execute_result"
    }
   ],
   "source": [
    "malware = datasets[\n",
    "    (datasets[\"Dst Port\"] == 2407) |\n",
    "    (datasets[\"Dst Port\"] == 59353) |\n",
    "    (datasets[\"Dst Port\"] == 22)\n",
    "]\n",
    "malware.shape"
   ]
  },
  {
   "cell_type": "code",
   "execution_count": 7,
   "metadata": {},
   "outputs": [
    {
     "data": {
      "text/plain": [
       "(7688, 84)"
      ]
     },
     "execution_count": 7,
     "metadata": {},
     "output_type": "execute_result"
    }
   ],
   "source": [
    "benign = datasets.drop(malware.index)\n",
    "benign.shape"
   ]
  },
  {
   "cell_type": "code",
   "execution_count": 8,
   "metadata": {},
   "outputs": [
    {
     "name": "stderr",
     "output_type": "stream",
     "text": [
      "UserWarning: `DataFrame.to_csv` defaulting to pandas implementation.\n",
      "To request implementation, send an email to feature_requests@modin.org.\n",
      "UserWarning: Distributing <class 'pandas.core.frame.DataFrame'> object. This may take some time.\n",
      "UserWarning: `DataFrame.to_csv` defaulting to pandas implementation.\n"
     ]
    }
   ],
   "source": [
    "malware.to_csv(\"/media/kmdr7/Seagate/DATASETS/IOT-23-CIC/Malware/\"+scenario+\".csv\", index=False)\n",
    "benign.to_csv(\"/media/kmdr7/Seagate/DATASETS/IOT-23-CIC/Benign/\"+scenario+\".csv\", index=False)"
   ]
  }
 ],
 "metadata": {
  "kernelspec": {
   "display_name": "Python 3",
   "language": "python",
   "name": "python3"
  },
  "language_info": {
   "codemirror_mode": {
    "name": "ipython",
    "version": 3
   },
   "file_extension": ".py",
   "mimetype": "text/x-python",
   "name": "python",
   "nbconvert_exporter": "python",
   "pygments_lexer": "ipython3",
   "version": "3.8.10"
  }
 },
 "nbformat": 4,
 "nbformat_minor": 4
}
