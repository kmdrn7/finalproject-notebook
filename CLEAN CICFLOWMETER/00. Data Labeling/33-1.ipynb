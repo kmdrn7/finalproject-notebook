{
 "cells": [
  {
   "cell_type": "code",
   "execution_count": 1,
   "metadata": {},
   "outputs": [],
   "source": [
    "import pandas as pd\n",
    "from glob import glob\n",
    "\n",
    "def get_csv(uri):\n",
    "    csvs = []\n",
    "    if \"*\" in uri:\n",
    "        all_csv = glob(uri)\n",
    "        [ csvs.append(pd.read_csv(uri)) for uri in all_csv ]\n",
    "        return pd.concat(csvs)\n",
    "    return pd.read_csv(uri)\n",
    "\n",
    "scenario = \"33-1\""
   ]
  },
  {
   "cell_type": "code",
   "execution_count": 2,
   "metadata": {},
   "outputs": [],
   "source": [
    "labels = get_csv('/media/kmdr7/Seagate/DATASETS/IOT-23/CTU-IoT-Malware-Capture-'+scenario+'/bro/labels.csv')"
   ]
  },
  {
   "cell_type": "code",
   "execution_count": 3,
   "metadata": {},
   "outputs": [],
   "source": [
    "datasets = get_csv('/media/kmdr7/Seagate/DATASETS/IOT-23/CTU-IoT-Malware-Capture-'+scenario+'/out/*')"
   ]
  },
  {
   "cell_type": "code",
   "execution_count": 4,
   "metadata": {},
   "outputs": [
    {
     "data": {
      "text/html": [
       "<div>\n",
       "<style scoped>\n",
       "    .dataframe tbody tr th:only-of-type {\n",
       "        vertical-align: middle;\n",
       "    }\n",
       "\n",
       "    .dataframe tbody tr th {\n",
       "        vertical-align: top;\n",
       "    }\n",
       "\n",
       "    .dataframe thead th {\n",
       "        text-align: right;\n",
       "    }\n",
       "</style>\n",
       "<table border=\"1\" class=\"dataframe\">\n",
       "  <thead>\n",
       "    <tr style=\"text-align: right;\">\n",
       "      <th></th>\n",
       "      <th>Id</th>\n",
       "      <th>Field</th>\n",
       "      <th>bro field number</th>\n",
       "      <th>Data</th>\n",
       "      <th>Comparator</th>\n",
       "      <th>Label</th>\n",
       "      <th>type</th>\n",
       "      <th>connector</th>\n",
       "    </tr>\n",
       "  </thead>\n",
       "  <tbody>\n",
       "    <tr>\n",
       "      <th>0</th>\n",
       "      <td>1</td>\n",
       "      <td>id.resp_h</td>\n",
       "      <td>5</td>\n",
       "      <td>176.32.33.171</td>\n",
       "      <td>eq</td>\n",
       "      <td>C&amp;C</td>\n",
       "      <td>Malicious</td>\n",
       "      <td>-</td>\n",
       "    </tr>\n",
       "    <tr>\n",
       "      <th>1</th>\n",
       "      <td>2</td>\n",
       "      <td>id.resp_p</td>\n",
       "      <td>6</td>\n",
       "      <td>37215</td>\n",
       "      <td>eq</td>\n",
       "      <td>Okiru</td>\n",
       "      <td>Malicious</td>\n",
       "      <td>-</td>\n",
       "    </tr>\n",
       "    <tr>\n",
       "      <th>2</th>\n",
       "      <td>3</td>\n",
       "      <td>id.resp_p</td>\n",
       "      <td>4</td>\n",
       "      <td>666</td>\n",
       "      <td>eq</td>\n",
       "      <td>HeartBeat</td>\n",
       "      <td>Malicious</td>\n",
       "      <td>-</td>\n",
       "    </tr>\n",
       "    <tr>\n",
       "      <th>3</th>\n",
       "      <td>4</td>\n",
       "      <td>id.resp_p</td>\n",
       "      <td>4</td>\n",
       "      <td>80</td>\n",
       "      <td>eq</td>\n",
       "      <td>PartOfAHorizontalPortScan</td>\n",
       "      <td>Malicious</td>\n",
       "      <td>and 5</td>\n",
       "    </tr>\n",
       "    <tr>\n",
       "      <th>4</th>\n",
       "      <td>5</td>\n",
       "      <td>conn_state</td>\n",
       "      <td>12</td>\n",
       "      <td>S0</td>\n",
       "      <td>eq</td>\n",
       "      <td>PartOfAHorizontalPortScan</td>\n",
       "      <td>Malicious</td>\n",
       "      <td>and 4</td>\n",
       "    </tr>\n",
       "    <tr>\n",
       "      <th>5</th>\n",
       "      <td>6</td>\n",
       "      <td>id.resp_p</td>\n",
       "      <td>4</td>\n",
       "      <td>52869</td>\n",
       "      <td>eq</td>\n",
       "      <td>PartOfAHorizontalPortScan</td>\n",
       "      <td>Malicious</td>\n",
       "      <td>and 7</td>\n",
       "    </tr>\n",
       "    <tr>\n",
       "      <th>6</th>\n",
       "      <td>7</td>\n",
       "      <td>conn_state</td>\n",
       "      <td>12</td>\n",
       "      <td>S0</td>\n",
       "      <td>eq</td>\n",
       "      <td>PartOfAHorizontalPortScan</td>\n",
       "      <td>Malicious</td>\n",
       "      <td>and 6</td>\n",
       "    </tr>\n",
       "    <tr>\n",
       "      <th>7</th>\n",
       "      <td>8</td>\n",
       "      <td>id.resp_p</td>\n",
       "      <td>4</td>\n",
       "      <td>8081</td>\n",
       "      <td>eq</td>\n",
       "      <td>PartOfAHorizontalPortScan</td>\n",
       "      <td>Malicious</td>\n",
       "      <td>and 9</td>\n",
       "    </tr>\n",
       "    <tr>\n",
       "      <th>8</th>\n",
       "      <td>9</td>\n",
       "      <td>conn_state</td>\n",
       "      <td>12</td>\n",
       "      <td>S0</td>\n",
       "      <td>eq</td>\n",
       "      <td>PartOfAHorizontalPortScan</td>\n",
       "      <td>Malicious</td>\n",
       "      <td>and 8</td>\n",
       "    </tr>\n",
       "  </tbody>\n",
       "</table>\n",
       "</div>"
      ],
      "text/plain": [
       "   Id       Field  bro field number           Data Comparator  \\\n",
       "0   1   id.resp_h                 5  176.32.33.171         eq   \n",
       "1   2   id.resp_p                 6          37215         eq   \n",
       "2   3   id.resp_p                 4            666         eq   \n",
       "3   4   id.resp_p                 4             80         eq   \n",
       "4   5  conn_state                12             S0         eq   \n",
       "5   6   id.resp_p                 4          52869         eq   \n",
       "6   7  conn_state                12             S0         eq   \n",
       "7   8   id.resp_p                 4           8081         eq   \n",
       "8   9  conn_state                12             S0         eq   \n",
       "\n",
       "                       Label       type connector  \n",
       "0                        C&C  Malicious         -  \n",
       "1                      Okiru  Malicious         -  \n",
       "2                  HeartBeat  Malicious         -  \n",
       "3  PartOfAHorizontalPortScan  Malicious     and 5  \n",
       "4  PartOfAHorizontalPortScan  Malicious     and 4  \n",
       "5  PartOfAHorizontalPortScan  Malicious     and 7  \n",
       "6  PartOfAHorizontalPortScan  Malicious     and 6  \n",
       "7  PartOfAHorizontalPortScan  Malicious     and 9  \n",
       "8  PartOfAHorizontalPortScan  Malicious     and 8  "
      ]
     },
     "execution_count": 4,
     "metadata": {},
     "output_type": "execute_result"
    }
   ],
   "source": [
    "labels"
   ]
  },
  {
   "cell_type": "code",
   "execution_count": 5,
   "metadata": {},
   "outputs": [
    {
     "data": {
      "text/plain": [
       "(29790, 84)"
      ]
     },
     "execution_count": 5,
     "metadata": {},
     "output_type": "execute_result"
    }
   ],
   "source": [
    "datasets.shape"
   ]
  },
  {
   "cell_type": "code",
   "execution_count": 7,
   "metadata": {},
   "outputs": [
    {
     "data": {
      "text/plain": [
       "(26072, 84)"
      ]
     },
     "execution_count": 7,
     "metadata": {},
     "output_type": "execute_result"
    }
   ],
   "source": [
    "malware = datasets[\n",
    "    (datasets[\"Dst IP\"] == \"176.32.33.171\") |\n",
    "    (datasets[\"Dst Port\"] == 37215) |\n",
    "    (datasets[\"Dst Port\"] == 666) |\n",
    "    ((datasets[\"Dst Port\"] == 80)) |\n",
    "    ((datasets[\"Dst Port\"] == 52869)) |\n",
    "    ((datasets[\"Dst Port\"] == 8081))\n",
    "]\n",
    "malware.shape"
   ]
  },
  {
   "cell_type": "code",
   "execution_count": 8,
   "metadata": {},
   "outputs": [
    {
     "data": {
      "text/plain": [
       "(1, 84)"
      ]
     },
     "execution_count": 8,
     "metadata": {},
     "output_type": "execute_result"
    }
   ],
   "source": [
    "benign = datasets.drop(malware.index)\n",
    "benign.shape"
   ]
  },
  {
   "cell_type": "code",
   "execution_count": 9,
   "metadata": {},
   "outputs": [],
   "source": [
    "malware.to_csv(\"/media/kmdr7/Seagate/FP/MENTAH/Malware/\"+scenario+\".csv\", index=False)\n",
    "benign.to_csv(\"/media/kmdr7/Seagate/FP/MENTAH/Benign/\"+scenario+\".csv\", index=False)"
   ]
  },
  {
   "cell_type": "code",
   "execution_count": null,
   "metadata": {},
   "outputs": [],
   "source": []
  }
 ],
 "metadata": {
  "kernelspec": {
   "display_name": "Python 3",
   "language": "python",
   "name": "python3"
  },
  "language_info": {
   "codemirror_mode": {
    "name": "ipython",
    "version": 3
   },
   "file_extension": ".py",
   "mimetype": "text/x-python",
   "name": "python",
   "nbconvert_exporter": "python",
   "pygments_lexer": "ipython3",
   "version": "3.8.5"
  }
 },
 "nbformat": 4,
 "nbformat_minor": 4
}
