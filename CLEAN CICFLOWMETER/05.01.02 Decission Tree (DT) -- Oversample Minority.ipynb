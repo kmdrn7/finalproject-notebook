{
 "cells": [
  {
   "cell_type": "code",
   "execution_count": 1,
   "metadata": {},
   "outputs": [],
   "source": [
    "import pandas as pd\n",
    "import numpy as np\n",
    "import seaborn\n",
    "import matplotlib.pyplot as plt\n",
    "\n",
    "from sklearn import svm\n",
    "from sklearn.tree import DecisionTreeClassifier\n",
    "from sklearn.model_selection import train_test_split, cross_val_score\n",
    "from sklearn.utils import resample\n",
    "from sklearn import metrics\n",
    "from sklearn.metrics import roc_curve\n",
    "from sklearn.metrics import roc_auc_score\n",
    "from sklearn import preprocessing\n",
    "\n",
    "le = preprocessing.LabelEncoder()"
   ]
  },
  {
   "cell_type": "markdown",
   "metadata": {},
   "source": [
    "# Dataset lowvariance + correlation filter"
   ]
  },
  {
   "cell_type": "code",
   "execution_count": 2,
   "metadata": {},
   "outputs": [
    {
     "data": {
      "text/html": [
       "<div>\n",
       "<style scoped>\n",
       "    .dataframe tbody tr th:only-of-type {\n",
       "        vertical-align: middle;\n",
       "    }\n",
       "\n",
       "    .dataframe tbody tr th {\n",
       "        vertical-align: top;\n",
       "    }\n",
       "\n",
       "    .dataframe thead th {\n",
       "        text-align: right;\n",
       "    }\n",
       "</style>\n",
       "<table border=\"1\" class=\"dataframe\">\n",
       "  <thead>\n",
       "    <tr style=\"text-align: right;\">\n",
       "      <th></th>\n",
       "      <th>Protocol</th>\n",
       "      <th>Flow Duration</th>\n",
       "      <th>Total Fwd Packet</th>\n",
       "      <th>Total Bwd packets</th>\n",
       "      <th>Total Length of Fwd Packet</th>\n",
       "      <th>Total Length of Bwd Packet</th>\n",
       "      <th>Fwd Packet Length Max</th>\n",
       "      <th>Fwd Packet Length Min</th>\n",
       "      <th>Fwd Packet Length Mean</th>\n",
       "      <th>Fwd Packet Length Std</th>\n",
       "      <th>...</th>\n",
       "      <th>Fwd Seg Size Min</th>\n",
       "      <th>Active Mean</th>\n",
       "      <th>Active Std</th>\n",
       "      <th>Active Max</th>\n",
       "      <th>Active Min</th>\n",
       "      <th>Idle Mean</th>\n",
       "      <th>Idle Std</th>\n",
       "      <th>Idle Max</th>\n",
       "      <th>Idle Min</th>\n",
       "      <th>Label</th>\n",
       "    </tr>\n",
       "  </thead>\n",
       "  <tbody>\n",
       "    <tr>\n",
       "      <th>0</th>\n",
       "      <td>6</td>\n",
       "      <td>5</td>\n",
       "      <td>2</td>\n",
       "      <td>0</td>\n",
       "      <td>0.0</td>\n",
       "      <td>0.0</td>\n",
       "      <td>0.0</td>\n",
       "      <td>0.0</td>\n",
       "      <td>0.0</td>\n",
       "      <td>0.0</td>\n",
       "      <td>...</td>\n",
       "      <td>20</td>\n",
       "      <td>0.0</td>\n",
       "      <td>0.0</td>\n",
       "      <td>0.0</td>\n",
       "      <td>0.0</td>\n",
       "      <td>1.551388e+15</td>\n",
       "      <td>0.0</td>\n",
       "      <td>1.551388e+15</td>\n",
       "      <td>1.551388e+15</td>\n",
       "      <td>Malicious</td>\n",
       "    </tr>\n",
       "    <tr>\n",
       "      <th>1</th>\n",
       "      <td>6</td>\n",
       "      <td>5</td>\n",
       "      <td>2</td>\n",
       "      <td>0</td>\n",
       "      <td>0.0</td>\n",
       "      <td>0.0</td>\n",
       "      <td>0.0</td>\n",
       "      <td>0.0</td>\n",
       "      <td>0.0</td>\n",
       "      <td>0.0</td>\n",
       "      <td>...</td>\n",
       "      <td>20</td>\n",
       "      <td>0.0</td>\n",
       "      <td>0.0</td>\n",
       "      <td>0.0</td>\n",
       "      <td>0.0</td>\n",
       "      <td>1.551389e+15</td>\n",
       "      <td>0.0</td>\n",
       "      <td>1.551389e+15</td>\n",
       "      <td>1.551389e+15</td>\n",
       "      <td>Malicious</td>\n",
       "    </tr>\n",
       "    <tr>\n",
       "      <th>2</th>\n",
       "      <td>6</td>\n",
       "      <td>5</td>\n",
       "      <td>2</td>\n",
       "      <td>0</td>\n",
       "      <td>0.0</td>\n",
       "      <td>0.0</td>\n",
       "      <td>0.0</td>\n",
       "      <td>0.0</td>\n",
       "      <td>0.0</td>\n",
       "      <td>0.0</td>\n",
       "      <td>...</td>\n",
       "      <td>20</td>\n",
       "      <td>0.0</td>\n",
       "      <td>0.0</td>\n",
       "      <td>0.0</td>\n",
       "      <td>0.0</td>\n",
       "      <td>1.551390e+15</td>\n",
       "      <td>0.0</td>\n",
       "      <td>1.551390e+15</td>\n",
       "      <td>1.551390e+15</td>\n",
       "      <td>Malicious</td>\n",
       "    </tr>\n",
       "    <tr>\n",
       "      <th>3</th>\n",
       "      <td>6</td>\n",
       "      <td>259</td>\n",
       "      <td>6</td>\n",
       "      <td>0</td>\n",
       "      <td>0.0</td>\n",
       "      <td>0.0</td>\n",
       "      <td>0.0</td>\n",
       "      <td>0.0</td>\n",
       "      <td>0.0</td>\n",
       "      <td>0.0</td>\n",
       "      <td>...</td>\n",
       "      <td>20</td>\n",
       "      <td>0.0</td>\n",
       "      <td>0.0</td>\n",
       "      <td>0.0</td>\n",
       "      <td>0.0</td>\n",
       "      <td>1.551388e+15</td>\n",
       "      <td>0.0</td>\n",
       "      <td>1.551388e+15</td>\n",
       "      <td>1.551388e+15</td>\n",
       "      <td>Malicious</td>\n",
       "    </tr>\n",
       "    <tr>\n",
       "      <th>4</th>\n",
       "      <td>6</td>\n",
       "      <td>255</td>\n",
       "      <td>4</td>\n",
       "      <td>0</td>\n",
       "      <td>0.0</td>\n",
       "      <td>0.0</td>\n",
       "      <td>0.0</td>\n",
       "      <td>0.0</td>\n",
       "      <td>0.0</td>\n",
       "      <td>0.0</td>\n",
       "      <td>...</td>\n",
       "      <td>20</td>\n",
       "      <td>0.0</td>\n",
       "      <td>0.0</td>\n",
       "      <td>0.0</td>\n",
       "      <td>0.0</td>\n",
       "      <td>1.551388e+15</td>\n",
       "      <td>0.0</td>\n",
       "      <td>1.551388e+15</td>\n",
       "      <td>1.551388e+15</td>\n",
       "      <td>Malicious</td>\n",
       "    </tr>\n",
       "    <tr>\n",
       "      <th>...</th>\n",
       "      <td>...</td>\n",
       "      <td>...</td>\n",
       "      <td>...</td>\n",
       "      <td>...</td>\n",
       "      <td>...</td>\n",
       "      <td>...</td>\n",
       "      <td>...</td>\n",
       "      <td>...</td>\n",
       "      <td>...</td>\n",
       "      <td>...</td>\n",
       "      <td>...</td>\n",
       "      <td>...</td>\n",
       "      <td>...</td>\n",
       "      <td>...</td>\n",
       "      <td>...</td>\n",
       "      <td>...</td>\n",
       "      <td>...</td>\n",
       "      <td>...</td>\n",
       "      <td>...</td>\n",
       "      <td>...</td>\n",
       "      <td>...</td>\n",
       "    </tr>\n",
       "    <tr>\n",
       "      <th>59482</th>\n",
       "      <td>17</td>\n",
       "      <td>93506</td>\n",
       "      <td>1</td>\n",
       "      <td>1</td>\n",
       "      <td>33.0</td>\n",
       "      <td>49.0</td>\n",
       "      <td>33.0</td>\n",
       "      <td>33.0</td>\n",
       "      <td>33.0</td>\n",
       "      <td>0.0</td>\n",
       "      <td>...</td>\n",
       "      <td>8</td>\n",
       "      <td>0.0</td>\n",
       "      <td>0.0</td>\n",
       "      <td>0.0</td>\n",
       "      <td>0.0</td>\n",
       "      <td>1.539340e+15</td>\n",
       "      <td>0.0</td>\n",
       "      <td>1.539340e+15</td>\n",
       "      <td>1.539340e+15</td>\n",
       "      <td>Benign</td>\n",
       "    </tr>\n",
       "    <tr>\n",
       "      <th>59483</th>\n",
       "      <td>17</td>\n",
       "      <td>129828</td>\n",
       "      <td>1</td>\n",
       "      <td>1</td>\n",
       "      <td>48.0</td>\n",
       "      <td>48.0</td>\n",
       "      <td>48.0</td>\n",
       "      <td>48.0</td>\n",
       "      <td>48.0</td>\n",
       "      <td>0.0</td>\n",
       "      <td>...</td>\n",
       "      <td>8</td>\n",
       "      <td>0.0</td>\n",
       "      <td>0.0</td>\n",
       "      <td>0.0</td>\n",
       "      <td>0.0</td>\n",
       "      <td>1.539328e+15</td>\n",
       "      <td>0.0</td>\n",
       "      <td>1.539328e+15</td>\n",
       "      <td>1.539328e+15</td>\n",
       "      <td>Benign</td>\n",
       "    </tr>\n",
       "    <tr>\n",
       "      <th>59484</th>\n",
       "      <td>17</td>\n",
       "      <td>497</td>\n",
       "      <td>1</td>\n",
       "      <td>1</td>\n",
       "      <td>46.0</td>\n",
       "      <td>110.0</td>\n",
       "      <td>46.0</td>\n",
       "      <td>46.0</td>\n",
       "      <td>46.0</td>\n",
       "      <td>0.0</td>\n",
       "      <td>...</td>\n",
       "      <td>8</td>\n",
       "      <td>0.0</td>\n",
       "      <td>0.0</td>\n",
       "      <td>0.0</td>\n",
       "      <td>0.0</td>\n",
       "      <td>1.539291e+15</td>\n",
       "      <td>0.0</td>\n",
       "      <td>1.539291e+15</td>\n",
       "      <td>1.539291e+15</td>\n",
       "      <td>Benign</td>\n",
       "    </tr>\n",
       "    <tr>\n",
       "      <th>59485</th>\n",
       "      <td>17</td>\n",
       "      <td>93431</td>\n",
       "      <td>1</td>\n",
       "      <td>1</td>\n",
       "      <td>33.0</td>\n",
       "      <td>49.0</td>\n",
       "      <td>33.0</td>\n",
       "      <td>33.0</td>\n",
       "      <td>33.0</td>\n",
       "      <td>0.0</td>\n",
       "      <td>...</td>\n",
       "      <td>8</td>\n",
       "      <td>0.0</td>\n",
       "      <td>0.0</td>\n",
       "      <td>0.0</td>\n",
       "      <td>0.0</td>\n",
       "      <td>1.539331e+15</td>\n",
       "      <td>0.0</td>\n",
       "      <td>1.539331e+15</td>\n",
       "      <td>1.539331e+15</td>\n",
       "      <td>Benign</td>\n",
       "    </tr>\n",
       "    <tr>\n",
       "      <th>59486</th>\n",
       "      <td>17</td>\n",
       "      <td>128778</td>\n",
       "      <td>1</td>\n",
       "      <td>1</td>\n",
       "      <td>48.0</td>\n",
       "      <td>48.0</td>\n",
       "      <td>48.0</td>\n",
       "      <td>48.0</td>\n",
       "      <td>48.0</td>\n",
       "      <td>0.0</td>\n",
       "      <td>...</td>\n",
       "      <td>8</td>\n",
       "      <td>0.0</td>\n",
       "      <td>0.0</td>\n",
       "      <td>0.0</td>\n",
       "      <td>0.0</td>\n",
       "      <td>1.539308e+15</td>\n",
       "      <td>0.0</td>\n",
       "      <td>1.539308e+15</td>\n",
       "      <td>1.539308e+15</td>\n",
       "      <td>Benign</td>\n",
       "    </tr>\n",
       "  </tbody>\n",
       "</table>\n",
       "<p>59487 rows × 78 columns</p>\n",
       "</div>"
      ],
      "text/plain": [
       "       Protocol  Flow Duration  Total Fwd Packet  Total Bwd packets  \\\n",
       "0             6              5                 2                  0   \n",
       "1             6              5                 2                  0   \n",
       "2             6              5                 2                  0   \n",
       "3             6            259                 6                  0   \n",
       "4             6            255                 4                  0   \n",
       "...         ...            ...               ...                ...   \n",
       "59482        17          93506                 1                  1   \n",
       "59483        17         129828                 1                  1   \n",
       "59484        17            497                 1                  1   \n",
       "59485        17          93431                 1                  1   \n",
       "59486        17         128778                 1                  1   \n",
       "\n",
       "       Total Length of Fwd Packet  Total Length of Bwd Packet  \\\n",
       "0                             0.0                         0.0   \n",
       "1                             0.0                         0.0   \n",
       "2                             0.0                         0.0   \n",
       "3                             0.0                         0.0   \n",
       "4                             0.0                         0.0   \n",
       "...                           ...                         ...   \n",
       "59482                        33.0                        49.0   \n",
       "59483                        48.0                        48.0   \n",
       "59484                        46.0                       110.0   \n",
       "59485                        33.0                        49.0   \n",
       "59486                        48.0                        48.0   \n",
       "\n",
       "       Fwd Packet Length Max  Fwd Packet Length Min  Fwd Packet Length Mean  \\\n",
       "0                        0.0                    0.0                     0.0   \n",
       "1                        0.0                    0.0                     0.0   \n",
       "2                        0.0                    0.0                     0.0   \n",
       "3                        0.0                    0.0                     0.0   \n",
       "4                        0.0                    0.0                     0.0   \n",
       "...                      ...                    ...                     ...   \n",
       "59482                   33.0                   33.0                    33.0   \n",
       "59483                   48.0                   48.0                    48.0   \n",
       "59484                   46.0                   46.0                    46.0   \n",
       "59485                   33.0                   33.0                    33.0   \n",
       "59486                   48.0                   48.0                    48.0   \n",
       "\n",
       "       Fwd Packet Length Std  ...  Fwd Seg Size Min  Active Mean  Active Std  \\\n",
       "0                        0.0  ...                20          0.0         0.0   \n",
       "1                        0.0  ...                20          0.0         0.0   \n",
       "2                        0.0  ...                20          0.0         0.0   \n",
       "3                        0.0  ...                20          0.0         0.0   \n",
       "4                        0.0  ...                20          0.0         0.0   \n",
       "...                      ...  ...               ...          ...         ...   \n",
       "59482                    0.0  ...                 8          0.0         0.0   \n",
       "59483                    0.0  ...                 8          0.0         0.0   \n",
       "59484                    0.0  ...                 8          0.0         0.0   \n",
       "59485                    0.0  ...                 8          0.0         0.0   \n",
       "59486                    0.0  ...                 8          0.0         0.0   \n",
       "\n",
       "       Active Max  Active Min     Idle Mean  Idle Std      Idle Max  \\\n",
       "0             0.0         0.0  1.551388e+15       0.0  1.551388e+15   \n",
       "1             0.0         0.0  1.551389e+15       0.0  1.551389e+15   \n",
       "2             0.0         0.0  1.551390e+15       0.0  1.551390e+15   \n",
       "3             0.0         0.0  1.551388e+15       0.0  1.551388e+15   \n",
       "4             0.0         0.0  1.551388e+15       0.0  1.551388e+15   \n",
       "...           ...         ...           ...       ...           ...   \n",
       "59482         0.0         0.0  1.539340e+15       0.0  1.539340e+15   \n",
       "59483         0.0         0.0  1.539328e+15       0.0  1.539328e+15   \n",
       "59484         0.0         0.0  1.539291e+15       0.0  1.539291e+15   \n",
       "59485         0.0         0.0  1.539331e+15       0.0  1.539331e+15   \n",
       "59486         0.0         0.0  1.539308e+15       0.0  1.539308e+15   \n",
       "\n",
       "           Idle Min      Label  \n",
       "0      1.551388e+15  Malicious  \n",
       "1      1.551389e+15  Malicious  \n",
       "2      1.551390e+15  Malicious  \n",
       "3      1.551388e+15  Malicious  \n",
       "4      1.551388e+15  Malicious  \n",
       "...             ...        ...  \n",
       "59482  1.539340e+15     Benign  \n",
       "59483  1.539328e+15     Benign  \n",
       "59484  1.539291e+15     Benign  \n",
       "59485  1.539331e+15     Benign  \n",
       "59486  1.539308e+15     Benign  \n",
       "\n",
       "[59487 rows x 78 columns]"
      ]
     },
     "execution_count": 2,
     "metadata": {},
     "output_type": "execute_result"
    }
   ],
   "source": [
    "lc_dataset = pd.read_csv(\"/media/kmdr7/Seagate/TA/DATASETS/DatasetSampled-15-20.csv\")\n",
    "lc_clean_dataset = lc_dataset.drop(columns=[\"Label\"])\n",
    "lc_label = lc_dataset[\"Label\"]\n",
    "lc_dataset"
   ]
  },
  {
   "cell_type": "code",
   "execution_count": 4,
   "metadata": {},
   "outputs": [],
   "source": [
    "lc_label = le.fit_transform(lc_label)"
   ]
  },
  {
   "cell_type": "code",
   "execution_count": 6,
   "metadata": {},
   "outputs": [
    {
     "name": "stdout",
     "output_type": "stream",
     "text": [
      "(59487, 78)\n",
      "(59487,)\n"
     ]
    }
   ],
   "source": [
    "print(lc_dataset.shape)\n",
    "print(lc_label.shape)"
   ]
  },
  {
   "cell_type": "markdown",
   "metadata": {},
   "source": [
    "# Dataset PCA"
   ]
  },
  {
   "cell_type": "code",
   "execution_count": null,
   "metadata": {},
   "outputs": [],
   "source": [
    "pca_dataset = pd.read_csv(\"/media/kmdr7/Seagate/DATASETS/IOT-23/Merged/04. Feature Selection/pca_dataset.csv\")\n",
    "pca_clean_dataset = pca_dataset.drop(columns=[\"Label\"])\n",
    "pca_label = pca_dataset[\"Label\"]\n",
    "pca_dataset"
   ]
  },
  {
   "cell_type": "markdown",
   "metadata": {},
   "source": [
    "## Decission Tree [lowvariance + correlation filter]"
   ]
  },
  {
   "cell_type": "code",
   "execution_count": 7,
   "metadata": {},
   "outputs": [],
   "source": [
    "## Bagi dataset menjadi train dan test\n",
    "x_train, x_test, y_train, y_test = train_test_split(\n",
    "    lc_clean_dataset, lc_label, test_size=0.25, random_state=27\n",
    ")"
   ]
  },
  {
   "cell_type": "code",
   "execution_count": null,
   "metadata": {},
   "outputs": [],
   "source": [
    "X = pd.concat([x_train, y_train], axis=1)\n",
    "X"
   ]
  },
  {
   "cell_type": "code",
   "execution_count": null,
   "metadata": {},
   "outputs": [],
   "source": [
    "mal = X[X.Label == \"Malware\"]\n",
    "ben = X[X.Label == \"Benign\"]"
   ]
  },
  {
   "cell_type": "code",
   "execution_count": null,
   "metadata": {},
   "outputs": [],
   "source": [
    "ben_upsampled = resample(ben, replace=True, n_samples=len(mal), random_state=27)\n",
    "ben_upsampled"
   ]
  },
  {
   "cell_type": "code",
   "execution_count": null,
   "metadata": {},
   "outputs": [],
   "source": [
    "upsampled = pd.concat([mal, ben_upsampled])\n",
    "y_train = upsampled.Label\n",
    "x_train = upsampled.drop(\"Label\", axis=1)\n",
    "upsampled"
   ]
  },
  {
   "cell_type": "code",
   "execution_count": 8,
   "metadata": {},
   "outputs": [
    {
     "data": {
      "text/plain": [
       "DecisionTreeClassifier(criterion='entropy')"
      ]
     },
     "execution_count": 8,
     "metadata": {},
     "output_type": "execute_result"
    }
   ],
   "source": [
    "# Cross Validation\n",
    "dt_classifier = DecisionTreeClassifier(criterion=\"entropy\")\n",
    "dt_classifier.fit(x_train, y_train)"
   ]
  },
  {
   "cell_type": "code",
   "execution_count": 9,
   "metadata": {},
   "outputs": [],
   "source": [
    "y_pred = dt_classifier.predict(x_test)"
   ]
  },
  {
   "cell_type": "code",
   "execution_count": 10,
   "metadata": {},
   "outputs": [
    {
     "name": "stdout",
     "output_type": "stream",
     "text": [
      "mean: 0.99959655 (std: 0.00013447)\n",
      "\n"
     ]
    }
   ],
   "source": [
    "scores = cross_val_score(estimator=dt_classifier, X=lc_clean_dataset, y=lc_label, cv=10, n_jobs=8)\n",
    "print(\"mean: {:.8f} (std: {:.8f})\".format(scores.mean(), scores.std()), end=\"\\n\\n\" )"
   ]
  },
  {
   "cell_type": "code",
   "execution_count": 11,
   "metadata": {},
   "outputs": [
    {
     "name": "stdout",
     "output_type": "stream",
     "text": [
      "True Positive:  6929\n",
      "True Negative:  7937\n",
      "False Positive:  4\n",
      "False Negative:  2\n"
     ]
    }
   ],
   "source": [
    " # Confussion Matrics\n",
    "tn, fp, fn, tp = metrics.confusion_matrix(y_test, y_pred).ravel()\n",
    "print(\"True Positive: \", tp)\n",
    "print(\"True Negative: \", tn)\n",
    "print(\"False Positive: \", fp)\n",
    "print(\"False Negative: \", fn)"
   ]
  },
  {
   "cell_type": "code",
   "execution_count": 16,
   "metadata": {},
   "outputs": [
    {
     "data": {
      "image/png": "[encoded data removed]",
      "text/plain": [
       "<Figure size 432x288 with 1 Axes>"
      ]
     },
     "metadata": {
      "needs_background": "light"
     },
     "output_type": "display_data"
    }
   ],
   "source": [
    "fpr, tpr, _ = roc_curve(y_test, y_pred)\n",
    "plt.plot(fpr, tpr, marker='.', label='Logistic')\n",
    "plt.ylabel('True Positive Rate')\n",
    "plt.legend()\n",
    "plt.show()"
   ]
  },
  {
   "cell_type": "code",
   "execution_count": 17,
   "metadata": {},
   "outputs": [
    {
     "data": {
      "text/plain": [
       "0.9996038632265432"
      ]
     },
     "execution_count": 17,
     "metadata": {},
     "output_type": "execute_result"
    }
   ],
   "source": [
    "roc_auc_score(y_test, y_pred)"
   ]
  },
  {
   "cell_type": "code",
   "execution_count": null,
   "metadata": {},
   "outputs": [],
   "source": [
    "# Accuracy\n",
    "y_pred = dt_classifier.predict(x_test)\n",
    "print(\"Accuracy:\", metrics.accuracy_score(y_test, y_pred))"
   ]
  },
  {
   "cell_type": "code",
   "execution_count": null,
   "metadata": {},
   "outputs": [],
   "source": [
    "# Recall\n",
    "from sklearn.metrics import recall_score\n",
    "recall = recall_score(y_test, y_pred, average=None)\n",
    "recall"
   ]
  },
  {
   "cell_type": "code",
   "execution_count": null,
   "metadata": {},
   "outputs": [],
   "source": [
    "# F1 Score\n",
    "from sklearn.metrics import f1_score\n",
    "f1 = f1_score(y_test, y_pred, average=None)\n",
    "f1"
   ]
  },
  {
   "cell_type": "code",
   "execution_count": null,
   "metadata": {},
   "outputs": [],
   "source": [
    "# Precision\n",
    "from sklearn.metrics import precision_score\n",
    "precision = precision_score(y_test, y_pred, average=None) * 100\n",
    "precision"
   ]
  },
  {
   "cell_type": "code",
   "execution_count": null,
   "metadata": {},
   "outputs": [],
   "source": [
    "conf = metrics.confusion_matrix(y_test, y_pred)\n",
    "conf"
   ]
  },
  {
   "cell_type": "code",
   "execution_count": null,
   "metadata": {},
   "outputs": [],
   "source": [
    "def plot_confusion_matrix(data, labels, output_filename):\n",
    "    \"\"\"Plot confusion matrix using heatmap.\n",
    "    Args:\n",
    "        data (list of list): List of lists with confusion matrix data.\n",
    "        labels (list): Labels which will be plotted across x and y axis.\n",
    "        output_filename (str): Path to output file.\n",
    " \n",
    "    \"\"\"\n",
    "    seaborn.set(color_codes=True)\n",
    "    plt.figure(1, figsize=(9, 6))\n",
    " \n",
    "    plt.title(\"Confusion Matrix\")\n",
    " \n",
    "    seaborn.set(font_scale=1.4)\n",
    "    ax = seaborn.heatmap(data, annot=True, cmap=\"YlGnBu\", cbar_kws={'label': 'Scale'})\n",
    " \n",
    "    ax.set_xticklabels(labels)\n",
    "    ax.set_yticklabels(labels)\n",
    " \n",
    "    ax.set(ylabel=\"True Label\", xlabel=\"Predicted Label\")\n",
    "    plt.show()\n",
    "    # plt.savefig(output_filename, bbox_inches='tight', dpi=300)\n",
    "    # plt.close()"
   ]
  },
  {
   "cell_type": "code",
   "execution_count": null,
   "metadata": {},
   "outputs": [],
   "source": [
    "labels = [\"BENIGN\", \"MALWARE\"]\n",
    "plot_confusion_matrix(conf, labels, \"confusion_matrix.png\")"
   ]
  },
  {
   "cell_type": "markdown",
   "metadata": {},
   "source": [
    "## Decisstion Tree [pca]"
   ]
  },
  {
   "cell_type": "code",
   "execution_count": null,
   "metadata": {},
   "outputs": [],
   "source": [
    "## Bagi dataset menjadi train dan test\n",
    "x_train, x_test, y_train, y_test = train_test_split(\n",
    "    pca_clean_dataset, pca_label, test_size=1/7.0, random_state=0\n",
    ")"
   ]
  },
  {
   "cell_type": "code",
   "execution_count": null,
   "metadata": {},
   "outputs": [],
   "source": [
    "dt_classifier = DecisionTreeClassifier(criterion=\"entropy\")\n",
    "dt_classifier.fit(x_train, y_train)\n",
    "scores = cross_val_score(estimator=dt_classifier, X=pca_clean_dataset, y=pca_label, cv=10, n_jobs=4)\n",
    "print(\"mean: {:.3f} (std: {:.3f})\".format(scores.mean(), scores.std()), end=\"\\n\\n\" )"
   ]
  },
  {
   "cell_type": "code",
   "execution_count": null,
   "metadata": {},
   "outputs": [],
   "source": [
    "y_pred = dt_classifier.predict(x_test)\n",
    "print(\"Accuracy:\", metrics.accuracy_score(y_test, y_pred))"
   ]
  }
 ],
 "metadata": {
  "kernelspec": {
   "display_name": "Python 3",
   "language": "python",
   "name": "python3"
  },
  "language_info": {
   "codemirror_mode": {
    "name": "ipython",
    "version": 3
   },
   "file_extension": ".py",
   "mimetype": "text/x-python",
   "name": "python",
   "nbconvert_exporter": "python",
   "pygments_lexer": "ipython3",
   "version": "3.8.5"
  }
 },
 "nbformat": 4,
 "nbformat_minor": 4
}
