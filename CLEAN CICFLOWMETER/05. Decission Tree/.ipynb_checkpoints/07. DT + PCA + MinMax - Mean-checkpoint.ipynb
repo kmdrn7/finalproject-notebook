{
 "cells": [
  {
   "cell_type": "code",
   "execution_count": 1,
   "metadata": {},
   "outputs": [],
   "source": [
    "import pandas as pd\n",
    "import numpy as np\n",
    "import matplotlib.pyplot as plt\n",
    "import seaborn\n",
    "import time\n",
    "\n",
    "from sklearn.tree import DecisionTreeClassifier\n",
    "from sklearn.model_selection import train_test_split, cross_val_score\n",
    "from sklearn.metrics import confusion_matrix, accuracy_score, recall_score, f1_score, precision_score"
   ]
  },
  {
   "cell_type": "code",
   "execution_count": 2,
   "metadata": {},
   "outputs": [],
   "source": [
    "def plot_confusion_matrix(data, labels, output_filename):\n",
    "    seaborn.set(color_codes=True)\n",
    "    plt.figure(1, figsize=(9, 6))\n",
    "    plt.title(\"Confusion Matrix\")\n",
    "    seaborn.set(font_scale=1.4)\n",
    "    ax = seaborn.heatmap(data, annot=True, cmap=\"YlGnBu\", cbar_kws={'label': 'Scale'})\n",
    "    ax.set_xticklabels(labels)\n",
    "    ax.set_yticklabels(labels)\n",
    "    ax.set(ylabel=\"True Label\", xlabel=\"Predicted Label\")\n",
    "    plt.show()\n",
    "    \n",
    "def starttime():\n",
    "    return time.time()\n",
    "\n",
    "def endtime():\n",
    "    return time.time()"
   ]
  },
  {
   "cell_type": "code",
   "execution_count": 3,
   "metadata": {},
   "outputs": [
    {
     "data": {
      "text/html": [
       "<div>\n",
       "<style scoped>\n",
       "    .dataframe tbody tr th:only-of-type {\n",
       "        vertical-align: middle;\n",
       "    }\n",
       "\n",
       "    .dataframe tbody tr th {\n",
       "        vertical-align: top;\n",
       "    }\n",
       "\n",
       "    .dataframe thead th {\n",
       "        text-align: right;\n",
       "    }\n",
       "</style>\n",
       "<table border=\"1\" class=\"dataframe\">\n",
       "  <thead>\n",
       "    <tr style=\"text-align: right;\">\n",
       "      <th></th>\n",
       "      <th>Feature 1</th>\n",
       "      <th>Feature 2</th>\n",
       "      <th>Feature 3</th>\n",
       "      <th>Feature 4</th>\n",
       "      <th>Feature 5</th>\n",
       "      <th>Feature 6</th>\n",
       "      <th>Feature 7</th>\n",
       "      <th>Feature 8</th>\n",
       "      <th>Feature 9</th>\n",
       "      <th>Label</th>\n",
       "    </tr>\n",
       "  </thead>\n",
       "  <tbody>\n",
       "    <tr>\n",
       "      <th>0</th>\n",
       "      <td>0.860021</td>\n",
       "      <td>0.714586</td>\n",
       "      <td>0.448244</td>\n",
       "      <td>0.812458</td>\n",
       "      <td>-0.405774</td>\n",
       "      <td>-0.179492</td>\n",
       "      <td>-0.201493</td>\n",
       "      <td>-0.605416</td>\n",
       "      <td>-0.027667</td>\n",
       "      <td>0</td>\n",
       "    </tr>\n",
       "    <tr>\n",
       "      <th>1</th>\n",
       "      <td>0.473771</td>\n",
       "      <td>1.584851</td>\n",
       "      <td>0.174533</td>\n",
       "      <td>-0.106870</td>\n",
       "      <td>0.506171</td>\n",
       "      <td>-0.567345</td>\n",
       "      <td>0.804789</td>\n",
       "      <td>0.187584</td>\n",
       "      <td>-0.120359</td>\n",
       "      <td>0</td>\n",
       "    </tr>\n",
       "    <tr>\n",
       "      <th>2</th>\n",
       "      <td>-1.001061</td>\n",
       "      <td>0.282527</td>\n",
       "      <td>0.279384</td>\n",
       "      <td>-0.378418</td>\n",
       "      <td>0.216776</td>\n",
       "      <td>-0.061877</td>\n",
       "      <td>-0.052583</td>\n",
       "      <td>-0.093641</td>\n",
       "      <td>-0.083818</td>\n",
       "      <td>0</td>\n",
       "    </tr>\n",
       "    <tr>\n",
       "      <th>3</th>\n",
       "      <td>-1.001022</td>\n",
       "      <td>0.282612</td>\n",
       "      <td>0.279409</td>\n",
       "      <td>-0.378313</td>\n",
       "      <td>0.216795</td>\n",
       "      <td>-0.061911</td>\n",
       "      <td>-0.052518</td>\n",
       "      <td>-0.093680</td>\n",
       "      <td>-0.083857</td>\n",
       "      <td>0</td>\n",
       "    </tr>\n",
       "    <tr>\n",
       "      <th>4</th>\n",
       "      <td>-1.001042</td>\n",
       "      <td>0.282569</td>\n",
       "      <td>0.279396</td>\n",
       "      <td>-0.378367</td>\n",
       "      <td>0.216785</td>\n",
       "      <td>-0.061893</td>\n",
       "      <td>-0.052552</td>\n",
       "      <td>-0.093660</td>\n",
       "      <td>-0.083836</td>\n",
       "      <td>0</td>\n",
       "    </tr>\n",
       "    <tr>\n",
       "      <th>...</th>\n",
       "      <td>...</td>\n",
       "      <td>...</td>\n",
       "      <td>...</td>\n",
       "      <td>...</td>\n",
       "      <td>...</td>\n",
       "      <td>...</td>\n",
       "      <td>...</td>\n",
       "      <td>...</td>\n",
       "      <td>...</td>\n",
       "      <td>...</td>\n",
       "    </tr>\n",
       "    <tr>\n",
       "      <th>553614</th>\n",
       "      <td>-0.344534</td>\n",
       "      <td>-0.601756</td>\n",
       "      <td>0.119253</td>\n",
       "      <td>0.397016</td>\n",
       "      <td>0.090997</td>\n",
       "      <td>0.089211</td>\n",
       "      <td>0.000759</td>\n",
       "      <td>0.063508</td>\n",
       "      <td>0.128533</td>\n",
       "      <td>1</td>\n",
       "    </tr>\n",
       "    <tr>\n",
       "      <th>553615</th>\n",
       "      <td>-0.344764</td>\n",
       "      <td>-0.601166</td>\n",
       "      <td>0.119455</td>\n",
       "      <td>0.397508</td>\n",
       "      <td>0.090458</td>\n",
       "      <td>0.089425</td>\n",
       "      <td>0.000524</td>\n",
       "      <td>0.063897</td>\n",
       "      <td>0.128788</td>\n",
       "      <td>1</td>\n",
       "    </tr>\n",
       "    <tr>\n",
       "      <th>553616</th>\n",
       "      <td>-0.468760</td>\n",
       "      <td>-0.487340</td>\n",
       "      <td>0.269473</td>\n",
       "      <td>0.345577</td>\n",
       "      <td>-0.111802</td>\n",
       "      <td>-0.015050</td>\n",
       "      <td>-0.084744</td>\n",
       "      <td>0.155055</td>\n",
       "      <td>0.217976</td>\n",
       "      <td>1</td>\n",
       "    </tr>\n",
       "    <tr>\n",
       "      <th>553617</th>\n",
       "      <td>-0.344738</td>\n",
       "      <td>-0.601148</td>\n",
       "      <td>0.119462</td>\n",
       "      <td>0.397545</td>\n",
       "      <td>0.090487</td>\n",
       "      <td>0.089418</td>\n",
       "      <td>0.000546</td>\n",
       "      <td>0.063862</td>\n",
       "      <td>0.128723</td>\n",
       "      <td>1</td>\n",
       "    </tr>\n",
       "    <tr>\n",
       "      <th>553618</th>\n",
       "      <td>-0.344470</td>\n",
       "      <td>-0.601578</td>\n",
       "      <td>0.119315</td>\n",
       "      <td>0.397255</td>\n",
       "      <td>0.091020</td>\n",
       "      <td>0.089221</td>\n",
       "      <td>0.000808</td>\n",
       "      <td>0.063433</td>\n",
       "      <td>0.128310</td>\n",
       "      <td>1</td>\n",
       "    </tr>\n",
       "  </tbody>\n",
       "</table>\n",
       "<p>553619 rows × 10 columns</p>\n",
       "</div>"
      ],
      "text/plain": [
       "        Feature 1  Feature 2  Feature 3  Feature 4  Feature 5  Feature 6  \\\n",
       "0        0.860021   0.714586   0.448244   0.812458  -0.405774  -0.179492   \n",
       "1        0.473771   1.584851   0.174533  -0.106870   0.506171  -0.567345   \n",
       "2       -1.001061   0.282527   0.279384  -0.378418   0.216776  -0.061877   \n",
       "3       -1.001022   0.282612   0.279409  -0.378313   0.216795  -0.061911   \n",
       "4       -1.001042   0.282569   0.279396  -0.378367   0.216785  -0.061893   \n",
       "...           ...        ...        ...        ...        ...        ...   \n",
       "553614  -0.344534  -0.601756   0.119253   0.397016   0.090997   0.089211   \n",
       "553615  -0.344764  -0.601166   0.119455   0.397508   0.090458   0.089425   \n",
       "553616  -0.468760  -0.487340   0.269473   0.345577  -0.111802  -0.015050   \n",
       "553617  -0.344738  -0.601148   0.119462   0.397545   0.090487   0.089418   \n",
       "553618  -0.344470  -0.601578   0.119315   0.397255   0.091020   0.089221   \n",
       "\n",
       "        Feature 7  Feature 8  Feature 9  Label  \n",
       "0       -0.201493  -0.605416  -0.027667      0  \n",
       "1        0.804789   0.187584  -0.120359      0  \n",
       "2       -0.052583  -0.093641  -0.083818      0  \n",
       "3       -0.052518  -0.093680  -0.083857      0  \n",
       "4       -0.052552  -0.093660  -0.083836      0  \n",
       "...           ...        ...        ...    ...  \n",
       "553614   0.000759   0.063508   0.128533      1  \n",
       "553615   0.000524   0.063897   0.128788      1  \n",
       "553616  -0.084744   0.155055   0.217976      1  \n",
       "553617   0.000546   0.063862   0.128723      1  \n",
       "553618   0.000808   0.063433   0.128310      1  \n",
       "\n",
       "[553619 rows x 10 columns]"
      ]
     },
     "execution_count": 3,
     "metadata": {},
     "output_type": "execute_result"
    }
   ],
   "source": [
    "dataset = pd.read_csv(\"/media/kmdr7/Seagate/DATASETS/IOT-23-CIC/Dataset/4-PCA-3-MinMax-2-Mean.csv\")\n",
    "dataset[\"Label\"] = dataset[\"Label\"].astype(\"category\").cat.codes\n",
    "clean_dataset = dataset.drop(columns=[\"Label\"])\n",
    "label = dataset[\"Label\"]\n",
    "dataset"
   ]
  },
  {
   "cell_type": "code",
   "execution_count": 4,
   "metadata": {},
   "outputs": [],
   "source": [
    "## Bagi dataset menjadi train dan test\n",
    "x_train, x_test, y_train, y_test = train_test_split(\n",
    "    clean_dataset, label, test_size=1/7.0, random_state=1\n",
    ")"
   ]
  },
  {
   "cell_type": "code",
   "execution_count": 5,
   "metadata": {},
   "outputs": [
    {
     "name": "stdout",
     "output_type": "stream",
     "text": [
      "32.76364779472351\n"
     ]
    }
   ],
   "source": [
    "start = starttime()\n",
    "clf = DecisionTreeClassifier(criterion=\"entropy\")\n",
    "clf.fit(x_train, y_train)\n",
    "end = starttime()\n",
    "print(end-start)"
   ]
  },
  {
   "cell_type": "code",
   "execution_count": 6,
   "metadata": {},
   "outputs": [
    {
     "name": "stdout",
     "output_type": "stream",
     "text": [
      "mean: 0.916 (std: 0.065)\n",
      "\n"
     ]
    }
   ],
   "source": [
    "scores = cross_val_score(estimator=clf, X=clean_dataset, y=label, cv=5, n_jobs=8)\n",
    "print(\"mean: {:.3f} (std: {:.3f})\".format(scores.mean(), scores.std()), end=\"\\n\\n\" )"
   ]
  },
  {
   "cell_type": "code",
   "execution_count": 7,
   "metadata": {},
   "outputs": [],
   "source": [
    "y_pred = clf.predict(x_test)"
   ]
  },
  {
   "cell_type": "code",
   "execution_count": 8,
   "metadata": {},
   "outputs": [
    {
     "data": {
      "text/plain": [
       "0.9461998508009963"
      ]
     },
     "execution_count": 8,
     "metadata": {},
     "output_type": "execute_result"
    }
   ],
   "source": [
    "# Accucary\n",
    "acc = accuracy_score(y_test, y_pred)\n",
    "acc"
   ]
  },
  {
   "cell_type": "code",
   "execution_count": 9,
   "metadata": {},
   "outputs": [
    {
     "data": {
      "text/plain": [
       "0.9443474840834788"
      ]
     },
     "execution_count": 9,
     "metadata": {},
     "output_type": "execute_result"
    }
   ],
   "source": [
    "# Recall\n",
    "recall = recall_score(y_test, y_pred)\n",
    "recall"
   ]
  },
  {
   "cell_type": "code",
   "execution_count": 10,
   "metadata": {},
   "outputs": [
    {
     "data": {
      "text/plain": [
       "0.9475267915500253"
      ]
     },
     "execution_count": 10,
     "metadata": {},
     "output_type": "execute_result"
    }
   ],
   "source": [
    "# F1 Score\n",
    "f1 = f1_score(y_test, y_pred)\n",
    "f1"
   ]
  },
  {
   "cell_type": "code",
   "execution_count": 11,
   "metadata": {},
   "outputs": [
    {
     "data": {
      "text/plain": [
       "0.9507275786972876"
      ]
     },
     "execution_count": 11,
     "metadata": {},
     "output_type": "execute_result"
    }
   ],
   "source": [
    "# Precision\n",
    "precision = precision_score(y_test, y_pred)\n",
    "precision"
   ]
  },
  {
   "cell_type": "code",
   "execution_count": 12,
   "metadata": {},
   "outputs": [
    {
     "data": {
      "image/png": "[encoded data removed]",
      "text/plain": [
       "<Figure size 648x432 with 2 Axes>"
      ]
     },
     "metadata": {},
     "output_type": "display_data"
    }
   ],
   "source": [
    "labels = [\"Benign\", \"Malicious\"]\n",
    "conf = confusion_matrix(y_test, y_pred)\n",
    "plot_confusion_matrix(conf, labels, \"confusion_matrix.png\")"
   ]
  }
 ],
 "metadata": {
  "kernelspec": {
   "display_name": "Python 3.8.2 64-bit ('FinalProjectEnv': venv)",
   "language": "python",
   "name": "python38264bitfinalprojectenvvenveda54e4f40e84a6f9e770ddeca258537"
  },
  "language_info": {
   "codemirror_mode": {
    "name": "ipython",
    "version": 3
   },
   "file_extension": ".py",
   "mimetype": "text/x-python",
   "name": "python",
   "nbconvert_exporter": "python",
   "pygments_lexer": "ipython3",
   "version": "3.8.5"
  }
 },
 "nbformat": 4,
 "nbformat_minor": 4
}
