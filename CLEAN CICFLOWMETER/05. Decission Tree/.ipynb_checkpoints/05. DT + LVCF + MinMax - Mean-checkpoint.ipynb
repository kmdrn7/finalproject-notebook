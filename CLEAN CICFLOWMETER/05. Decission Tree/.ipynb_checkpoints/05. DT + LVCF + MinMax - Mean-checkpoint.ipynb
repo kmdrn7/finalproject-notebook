{
 "cells": [
  {
   "cell_type": "code",
   "execution_count": 1,
   "metadata": {},
   "outputs": [],
   "source": [
    "import pandas as pd\n",
    "import numpy as np\n",
    "import matplotlib.pyplot as plt\n",
    "import seaborn\n",
    "import time\n",
    "\n",
    "from sklearn.tree import DecisionTreeClassifier\n",
    "from sklearn.model_selection import train_test_split, cross_val_score\n",
    "from sklearn.metrics import confusion_matrix, accuracy_score, recall_score, f1_score, precision_score"
   ]
  },
  {
   "cell_type": "code",
   "execution_count": 2,
   "metadata": {},
   "outputs": [],
   "source": [
    "def plot_confusion_matrix(data, labels, output_filename):\n",
    "    seaborn.set(color_codes=True)\n",
    "    plt.figure(1, figsize=(9, 6))\n",
    "    plt.title(\"Confusion Matrix\")\n",
    "    seaborn.set(font_scale=1.4)\n",
    "    ax = seaborn.heatmap(data, annot=True, cmap=\"YlGnBu\", cbar_kws={'label': 'Scale'})\n",
    "    ax.set_xticklabels(labels)\n",
    "    ax.set_yticklabels(labels)\n",
    "    ax.set(ylabel=\"True Label\", xlabel=\"Predicted Label\")\n",
    "    plt.show()\n",
    "    \n",
    "def starttime():\n",
    "    return time.time()\n",
    "\n",
    "def endtime():\n",
    "    return time.time()"
   ]
  },
  {
   "cell_type": "code",
   "execution_count": 3,
   "metadata": {},
   "outputs": [
    {
     "data": {
      "text/html": [
       "<div>\n",
       "<style scoped>\n",
       "    .dataframe tbody tr th:only-of-type {\n",
       "        vertical-align: middle;\n",
       "    }\n",
       "\n",
       "    .dataframe tbody tr th {\n",
       "        vertical-align: top;\n",
       "    }\n",
       "\n",
       "    .dataframe thead th {\n",
       "        text-align: right;\n",
       "    }\n",
       "</style>\n",
       "<table border=\"1\" class=\"dataframe\">\n",
       "  <thead>\n",
       "    <tr style=\"text-align: right;\">\n",
       "      <th></th>\n",
       "      <th>Protocol</th>\n",
       "      <th>FIN Flag Count</th>\n",
       "      <th>Subflow Fwd Packets</th>\n",
       "      <th>FWD Init Win Bytes</th>\n",
       "      <th>Fwd Seg Size Min</th>\n",
       "      <th>Idle Mean</th>\n",
       "      <th>Idle Std</th>\n",
       "      <th>Idle Max</th>\n",
       "      <th>Idle Min</th>\n",
       "      <th>Label</th>\n",
       "    </tr>\n",
       "  </thead>\n",
       "  <tbody>\n",
       "    <tr>\n",
       "      <th>0</th>\n",
       "      <td>0.000000</td>\n",
       "      <td>0.0</td>\n",
       "      <td>1.0</td>\n",
       "      <td>0.000000</td>\n",
       "      <td>0.000000</td>\n",
       "      <td>0.102689</td>\n",
       "      <td>0.522063</td>\n",
       "      <td>1.177270e-09</td>\n",
       "      <td>6.177845e-10</td>\n",
       "      <td>0</td>\n",
       "    </tr>\n",
       "    <tr>\n",
       "      <th>1</th>\n",
       "      <td>1.000000</td>\n",
       "      <td>0.0</td>\n",
       "      <td>0.0</td>\n",
       "      <td>0.000000</td>\n",
       "      <td>0.181818</td>\n",
       "      <td>0.466360</td>\n",
       "      <td>0.976691</td>\n",
       "      <td>3.225900e-07</td>\n",
       "      <td>3.775703e-08</td>\n",
       "      <td>0</td>\n",
       "    </tr>\n",
       "    <tr>\n",
       "      <th>2</th>\n",
       "      <td>1.000000</td>\n",
       "      <td>0.0</td>\n",
       "      <td>0.0</td>\n",
       "      <td>0.000000</td>\n",
       "      <td>0.181818</td>\n",
       "      <td>0.975500</td>\n",
       "      <td>0.000000</td>\n",
       "      <td>1.003482e-06</td>\n",
       "      <td>9.765048e-01</td>\n",
       "      <td>0</td>\n",
       "    </tr>\n",
       "    <tr>\n",
       "      <th>3</th>\n",
       "      <td>1.000000</td>\n",
       "      <td>0.0</td>\n",
       "      <td>0.0</td>\n",
       "      <td>0.000000</td>\n",
       "      <td>0.181818</td>\n",
       "      <td>0.975500</td>\n",
       "      <td>0.000000</td>\n",
       "      <td>1.221364e-06</td>\n",
       "      <td>9.765048e-01</td>\n",
       "      <td>0</td>\n",
       "    </tr>\n",
       "    <tr>\n",
       "      <th>4</th>\n",
       "      <td>1.000000</td>\n",
       "      <td>0.0</td>\n",
       "      <td>0.0</td>\n",
       "      <td>0.000000</td>\n",
       "      <td>0.181818</td>\n",
       "      <td>0.975500</td>\n",
       "      <td>0.000000</td>\n",
       "      <td>2.828258e-06</td>\n",
       "      <td>9.765048e-01</td>\n",
       "      <td>0</td>\n",
       "    </tr>\n",
       "    <tr>\n",
       "      <th>...</th>\n",
       "      <td>...</td>\n",
       "      <td>...</td>\n",
       "      <td>...</td>\n",
       "      <td>...</td>\n",
       "      <td>...</td>\n",
       "      <td>...</td>\n",
       "      <td>...</td>\n",
       "      <td>...</td>\n",
       "      <td>...</td>\n",
       "      <td>...</td>\n",
       "    </tr>\n",
       "    <tr>\n",
       "      <th>553614</th>\n",
       "      <td>0.352941</td>\n",
       "      <td>0.0</td>\n",
       "      <td>1.0</td>\n",
       "      <td>0.445563</td>\n",
       "      <td>0.909091</td>\n",
       "      <td>0.988533</td>\n",
       "      <td>0.000000</td>\n",
       "      <td>5.319158e-01</td>\n",
       "      <td>9.890034e-01</td>\n",
       "      <td>1</td>\n",
       "    </tr>\n",
       "    <tr>\n",
       "      <th>553615</th>\n",
       "      <td>0.352941</td>\n",
       "      <td>0.0</td>\n",
       "      <td>1.0</td>\n",
       "      <td>0.445563</td>\n",
       "      <td>0.909091</td>\n",
       "      <td>0.988582</td>\n",
       "      <td>0.000000</td>\n",
       "      <td>5.339116e-01</td>\n",
       "      <td>9.890503e-01</td>\n",
       "      <td>1</td>\n",
       "    </tr>\n",
       "    <tr>\n",
       "      <th>553616</th>\n",
       "      <td>0.352941</td>\n",
       "      <td>0.0</td>\n",
       "      <td>1.0</td>\n",
       "      <td>0.007218</td>\n",
       "      <td>0.727273</td>\n",
       "      <td>0.988568</td>\n",
       "      <td>0.000000</td>\n",
       "      <td>5.333360e-01</td>\n",
       "      <td>9.890368e-01</td>\n",
       "      <td>1</td>\n",
       "    </tr>\n",
       "    <tr>\n",
       "      <th>553617</th>\n",
       "      <td>0.352941</td>\n",
       "      <td>0.0</td>\n",
       "      <td>1.0</td>\n",
       "      <td>0.445563</td>\n",
       "      <td>0.909091</td>\n",
       "      <td>0.988580</td>\n",
       "      <td>0.000000</td>\n",
       "      <td>5.338316e-01</td>\n",
       "      <td>9.890484e-01</td>\n",
       "      <td>1</td>\n",
       "    </tr>\n",
       "    <tr>\n",
       "      <th>553618</th>\n",
       "      <td>0.352941</td>\n",
       "      <td>0.0</td>\n",
       "      <td>1.0</td>\n",
       "      <td>0.445563</td>\n",
       "      <td>0.909091</td>\n",
       "      <td>0.988534</td>\n",
       "      <td>0.000000</td>\n",
       "      <td>5.319473e-01</td>\n",
       "      <td>9.890041e-01</td>\n",
       "      <td>1</td>\n",
       "    </tr>\n",
       "  </tbody>\n",
       "</table>\n",
       "<p>553619 rows × 10 columns</p>\n",
       "</div>"
      ],
      "text/plain": [
       "        Protocol  FIN Flag Count  Subflow Fwd Packets  FWD Init Win Bytes  \\\n",
       "0       0.000000             0.0                  1.0            0.000000   \n",
       "1       1.000000             0.0                  0.0            0.000000   \n",
       "2       1.000000             0.0                  0.0            0.000000   \n",
       "3       1.000000             0.0                  0.0            0.000000   \n",
       "4       1.000000             0.0                  0.0            0.000000   \n",
       "...          ...             ...                  ...                 ...   \n",
       "553614  0.352941             0.0                  1.0            0.445563   \n",
       "553615  0.352941             0.0                  1.0            0.445563   \n",
       "553616  0.352941             0.0                  1.0            0.007218   \n",
       "553617  0.352941             0.0                  1.0            0.445563   \n",
       "553618  0.352941             0.0                  1.0            0.445563   \n",
       "\n",
       "        Fwd Seg Size Min  Idle Mean  Idle Std      Idle Max      Idle Min  \\\n",
       "0               0.000000   0.102689  0.522063  1.177270e-09  6.177845e-10   \n",
       "1               0.181818   0.466360  0.976691  3.225900e-07  3.775703e-08   \n",
       "2               0.181818   0.975500  0.000000  1.003482e-06  9.765048e-01   \n",
       "3               0.181818   0.975500  0.000000  1.221364e-06  9.765048e-01   \n",
       "4               0.181818   0.975500  0.000000  2.828258e-06  9.765048e-01   \n",
       "...                  ...        ...       ...           ...           ...   \n",
       "553614          0.909091   0.988533  0.000000  5.319158e-01  9.890034e-01   \n",
       "553615          0.909091   0.988582  0.000000  5.339116e-01  9.890503e-01   \n",
       "553616          0.727273   0.988568  0.000000  5.333360e-01  9.890368e-01   \n",
       "553617          0.909091   0.988580  0.000000  5.338316e-01  9.890484e-01   \n",
       "553618          0.909091   0.988534  0.000000  5.319473e-01  9.890041e-01   \n",
       "\n",
       "        Label  \n",
       "0           0  \n",
       "1           0  \n",
       "2           0  \n",
       "3           0  \n",
       "4           0  \n",
       "...       ...  \n",
       "553614      1  \n",
       "553615      1  \n",
       "553616      1  \n",
       "553617      1  \n",
       "553618      1  \n",
       "\n",
       "[553619 rows x 10 columns]"
      ]
     },
     "execution_count": 3,
     "metadata": {},
     "output_type": "execute_result"
    }
   ],
   "source": [
    "dataset = pd.read_csv(\"/media/kmdr7/Seagate/DATASETS/IOT-23-CIC/Dataset/4-LVCF-3-MinMax-2-Mean.csv\")\n",
    "dataset[\"Label\"] = dataset[\"Label\"].astype(\"category\").cat.codes\n",
    "clean_dataset = dataset.drop(columns=[\"Label\"])\n",
    "label = dataset[\"Label\"]\n",
    "dataset"
   ]
  },
  {
   "cell_type": "code",
   "execution_count": 4,
   "metadata": {},
   "outputs": [],
   "source": [
    "## Bagi dataset menjadi train dan test\n",
    "x_train, x_test, y_train, y_test = train_test_split(\n",
    "    clean_dataset, label, test_size=1/7.0, random_state=1\n",
    ")"
   ]
  },
  {
   "cell_type": "code",
   "execution_count": 5,
   "metadata": {},
   "outputs": [
    {
     "name": "stdout",
     "output_type": "stream",
     "text": [
      "5.963475227355957\n"
     ]
    }
   ],
   "source": [
    "start = starttime()\n",
    "clf = DecisionTreeClassifier(criterion=\"entropy\")\n",
    "clf.fit(x_train, y_train)\n",
    "end = starttime()\n",
    "print(end-start)"
   ]
  },
  {
   "cell_type": "code",
   "execution_count": 6,
   "metadata": {},
   "outputs": [
    {
     "name": "stdout",
     "output_type": "stream",
     "text": [
      "mean: 0.900 (std: 0.126)\n",
      "\n"
     ]
    }
   ],
   "source": [
    "scores = cross_val_score(estimator=clf, X=clean_dataset, y=label, cv=5, n_jobs=8)\n",
    "print(\"mean: {:.3f} (std: {:.3f})\".format(scores.mean(), scores.std()), end=\"\\n\\n\" )"
   ]
  },
  {
   "cell_type": "code",
   "execution_count": 7,
   "metadata": {},
   "outputs": [],
   "source": [
    "y_pred = clf.predict(x_test)"
   ]
  },
  {
   "cell_type": "code",
   "execution_count": 8,
   "metadata": {},
   "outputs": [
    {
     "data": {
      "text/plain": [
       "0.9619921860182832"
      ]
     },
     "execution_count": 8,
     "metadata": {},
     "output_type": "execute_result"
    }
   ],
   "source": [
    "# Accucary\n",
    "acc = accuracy_score(y_test, y_pred)\n",
    "acc"
   ]
  },
  {
   "cell_type": "code",
   "execution_count": 9,
   "metadata": {},
   "outputs": [
    {
     "data": {
      "text/plain": [
       "0.9772129495341806"
      ]
     },
     "execution_count": 9,
     "metadata": {},
     "output_type": "execute_result"
    }
   ],
   "source": [
    "# Recall\n",
    "recall = recall_score(y_test, y_pred)\n",
    "recall"
   ]
  },
  {
   "cell_type": "code",
   "execution_count": 10,
   "metadata": {},
   "outputs": [
    {
     "data": {
      "text/plain": [
       "0.9635698184550501"
      ]
     },
     "execution_count": 10,
     "metadata": {},
     "output_type": "execute_result"
    }
   ],
   "source": [
    "# F1 Score\n",
    "f1 = f1_score(y_test, y_pred)\n",
    "f1"
   ]
  },
  {
   "cell_type": "code",
   "execution_count": 11,
   "metadata": {},
   "outputs": [
    {
     "data": {
      "text/plain": [
       "0.9503023928477518"
      ]
     },
     "execution_count": 11,
     "metadata": {},
     "output_type": "execute_result"
    }
   ],
   "source": [
    "# Precision\n",
    "precision = precision_score(y_test, y_pred)\n",
    "precision"
   ]
  },
  {
   "cell_type": "code",
   "execution_count": 12,
   "metadata": {},
   "outputs": [
    {
     "data": {
      "image/png": "[encoded data removed]",
      "text/plain": [
       "<Figure size 648x432 with 2 Axes>"
      ]
     },
     "metadata": {},
     "output_type": "display_data"
    }
   ],
   "source": [
    "labels = [\"Benign\", \"Malicious\"]\n",
    "conf = confusion_matrix(y_test, y_pred)\n",
    "plot_confusion_matrix(conf, labels, \"confusion_matrix.png\")"
   ]
  }
 ],
 "metadata": {
  "kernelspec": {
   "display_name": "Python 3.8.2 64-bit ('FinalProjectEnv': venv)",
   "language": "python",
   "name": "python38264bitfinalprojectenvvenveda54e4f40e84a6f9e770ddeca258537"
  },
  "language_info": {
   "codemirror_mode": {
    "name": "ipython",
    "version": 3
   },
   "file_extension": ".py",
   "mimetype": "text/x-python",
   "name": "python",
   "nbconvert_exporter": "python",
   "pygments_lexer": "ipython3",
   "version": "3.8.5"
  }
 },
 "nbformat": 4,
 "nbformat_minor": 4
}
