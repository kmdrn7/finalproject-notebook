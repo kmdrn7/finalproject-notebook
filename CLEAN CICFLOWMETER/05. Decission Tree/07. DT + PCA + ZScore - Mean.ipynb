{
 "cells": [
  {
   "cell_type": "code",
   "execution_count": 1,
   "metadata": {},
   "outputs": [],
   "source": [
    "import pandas as pd\n",
    "import numpy as np\n",
    "import matplotlib.pyplot as plt\n",
    "import seaborn\n",
    "import time\n",
    "\n",
    "from sklearn.tree import DecisionTreeClassifier\n",
    "from sklearn.model_selection import train_test_split, cross_val_score\n",
    "from sklearn.metrics import confusion_matrix, accuracy_score, recall_score, f1_score, precision_score"
   ]
  },
  {
   "cell_type": "code",
   "execution_count": 2,
   "metadata": {},
   "outputs": [],
   "source": [
    "def plot_confusion_matrix(data, labels, output_filename):\n",
    "    seaborn.set(color_codes=True)\n",
    "    plt.figure(1, figsize=(9, 6))\n",
    "    plt.title(\"Confusion Matrix\")\n",
    "    seaborn.set(font_scale=1.4)\n",
    "    ax = seaborn.heatmap(data, annot=True, cmap=\"YlGnBu\", cbar_kws={'label': 'Scale'})\n",
    "    ax.set_xticklabels(labels)\n",
    "    ax.set_yticklabels(labels)\n",
    "    ax.set(ylabel=\"True Label\", xlabel=\"Predicted Label\")\n",
    "    plt.show()\n",
    "    \n",
    "def starttime():\n",
    "    return time.time()\n",
    "\n",
    "def endtime():\n",
    "    return time.time()"
   ]
  },
  {
   "cell_type": "code",
   "execution_count": 3,
   "metadata": {},
   "outputs": [
    {
     "data": {
      "text/html": [
       "<div>\n",
       "<style scoped>\n",
       "    .dataframe tbody tr th:only-of-type {\n",
       "        vertical-align: middle;\n",
       "    }\n",
       "\n",
       "    .dataframe tbody tr th {\n",
       "        vertical-align: top;\n",
       "    }\n",
       "\n",
       "    .dataframe thead th {\n",
       "        text-align: right;\n",
       "    }\n",
       "</style>\n",
       "<table border=\"1\" class=\"dataframe\">\n",
       "  <thead>\n",
       "    <tr style=\"text-align: right;\">\n",
       "      <th></th>\n",
       "      <th>0</th>\n",
       "      <th>1</th>\n",
       "      <th>2</th>\n",
       "      <th>3</th>\n",
       "      <th>4</th>\n",
       "      <th>5</th>\n",
       "      <th>6</th>\n",
       "      <th>7</th>\n",
       "      <th>8</th>\n",
       "      <th>9</th>\n",
       "      <th>...</th>\n",
       "      <th>14</th>\n",
       "      <th>15</th>\n",
       "      <th>16</th>\n",
       "      <th>17</th>\n",
       "      <th>18</th>\n",
       "      <th>19</th>\n",
       "      <th>20</th>\n",
       "      <th>21</th>\n",
       "      <th>22</th>\n",
       "      <th>Label</th>\n",
       "    </tr>\n",
       "  </thead>\n",
       "  <tbody>\n",
       "    <tr>\n",
       "      <th>0</th>\n",
       "      <td>-2.229607</td>\n",
       "      <td>3.764813</td>\n",
       "      <td>-0.117099</td>\n",
       "      <td>0.275217</td>\n",
       "      <td>0.257315</td>\n",
       "      <td>-0.023695</td>\n",
       "      <td>-1.839116</td>\n",
       "      <td>0.209895</td>\n",
       "      <td>-0.214998</td>\n",
       "      <td>-0.080722</td>\n",
       "      <td>...</td>\n",
       "      <td>1.664071</td>\n",
       "      <td>0.272442</td>\n",
       "      <td>0.343495</td>\n",
       "      <td>1.969127</td>\n",
       "      <td>1.719321</td>\n",
       "      <td>0.935524</td>\n",
       "      <td>-0.871459</td>\n",
       "      <td>-0.650227</td>\n",
       "      <td>0.005744</td>\n",
       "      <td>0</td>\n",
       "    </tr>\n",
       "    <tr>\n",
       "      <th>1</th>\n",
       "      <td>-1.696597</td>\n",
       "      <td>14.356816</td>\n",
       "      <td>-1.255595</td>\n",
       "      <td>4.843810</td>\n",
       "      <td>-1.180270</td>\n",
       "      <td>-0.597340</td>\n",
       "      <td>7.199826</td>\n",
       "      <td>0.100335</td>\n",
       "      <td>0.265596</td>\n",
       "      <td>0.073045</td>\n",
       "      <td>...</td>\n",
       "      <td>1.029260</td>\n",
       "      <td>0.388831</td>\n",
       "      <td>0.146254</td>\n",
       "      <td>0.986608</td>\n",
       "      <td>0.042743</td>\n",
       "      <td>-0.779692</td>\n",
       "      <td>-0.042539</td>\n",
       "      <td>-0.650915</td>\n",
       "      <td>0.327008</td>\n",
       "      <td>0</td>\n",
       "    </tr>\n",
       "    <tr>\n",
       "      <th>2</th>\n",
       "      <td>1.818834</td>\n",
       "      <td>-1.482652</td>\n",
       "      <td>-0.253659</td>\n",
       "      <td>2.615985</td>\n",
       "      <td>0.514076</td>\n",
       "      <td>-0.160817</td>\n",
       "      <td>0.296755</td>\n",
       "      <td>-1.427653</td>\n",
       "      <td>0.332657</td>\n",
       "      <td>0.128167</td>\n",
       "      <td>...</td>\n",
       "      <td>-0.412205</td>\n",
       "      <td>-0.098471</td>\n",
       "      <td>-0.178513</td>\n",
       "      <td>-0.162658</td>\n",
       "      <td>0.135642</td>\n",
       "      <td>-0.474916</td>\n",
       "      <td>0.171542</td>\n",
       "      <td>-0.571667</td>\n",
       "      <td>-0.249840</td>\n",
       "      <td>0</td>\n",
       "    </tr>\n",
       "    <tr>\n",
       "      <th>3</th>\n",
       "      <td>1.816007</td>\n",
       "      <td>-1.479338</td>\n",
       "      <td>-0.253572</td>\n",
       "      <td>2.612553</td>\n",
       "      <td>0.513126</td>\n",
       "      <td>-0.160740</td>\n",
       "      <td>0.300288</td>\n",
       "      <td>-1.435681</td>\n",
       "      <td>0.311964</td>\n",
       "      <td>0.127128</td>\n",
       "      <td>...</td>\n",
       "      <td>-0.401746</td>\n",
       "      <td>-0.122033</td>\n",
       "      <td>-0.240011</td>\n",
       "      <td>-0.143580</td>\n",
       "      <td>0.102531</td>\n",
       "      <td>-0.464527</td>\n",
       "      <td>0.172742</td>\n",
       "      <td>-0.575020</td>\n",
       "      <td>-0.251360</td>\n",
       "      <td>0</td>\n",
       "    </tr>\n",
       "    <tr>\n",
       "      <th>4</th>\n",
       "      <td>1.816672</td>\n",
       "      <td>-1.480547</td>\n",
       "      <td>-0.253548</td>\n",
       "      <td>2.613003</td>\n",
       "      <td>0.513112</td>\n",
       "      <td>-0.160618</td>\n",
       "      <td>0.299000</td>\n",
       "      <td>-1.434777</td>\n",
       "      <td>0.314851</td>\n",
       "      <td>0.127310</td>\n",
       "      <td>...</td>\n",
       "      <td>-0.402273</td>\n",
       "      <td>-0.118781</td>\n",
       "      <td>-0.231780</td>\n",
       "      <td>-0.145385</td>\n",
       "      <td>0.107105</td>\n",
       "      <td>-0.465920</td>\n",
       "      <td>0.172377</td>\n",
       "      <td>-0.574875</td>\n",
       "      <td>-0.251138</td>\n",
       "      <td>0</td>\n",
       "    </tr>\n",
       "    <tr>\n",
       "      <th>...</th>\n",
       "      <td>...</td>\n",
       "      <td>...</td>\n",
       "      <td>...</td>\n",
       "      <td>...</td>\n",
       "      <td>...</td>\n",
       "      <td>...</td>\n",
       "      <td>...</td>\n",
       "      <td>...</td>\n",
       "      <td>...</td>\n",
       "      <td>...</td>\n",
       "      <td>...</td>\n",
       "      <td>...</td>\n",
       "      <td>...</td>\n",
       "      <td>...</td>\n",
       "      <td>...</td>\n",
       "      <td>...</td>\n",
       "      <td>...</td>\n",
       "      <td>...</td>\n",
       "      <td>...</td>\n",
       "      <td>...</td>\n",
       "      <td>...</td>\n",
       "    </tr>\n",
       "    <tr>\n",
       "      <th>553614</th>\n",
       "      <td>-0.534876</td>\n",
       "      <td>-1.429484</td>\n",
       "      <td>-0.003262</td>\n",
       "      <td>1.170015</td>\n",
       "      <td>-0.352479</td>\n",
       "      <td>0.191862</td>\n",
       "      <td>-0.086043</td>\n",
       "      <td>1.083604</td>\n",
       "      <td>-0.637470</td>\n",
       "      <td>-0.087070</td>\n",
       "      <td>...</td>\n",
       "      <td>0.570626</td>\n",
       "      <td>-0.310722</td>\n",
       "      <td>0.314037</td>\n",
       "      <td>-0.393508</td>\n",
       "      <td>0.300406</td>\n",
       "      <td>-0.155016</td>\n",
       "      <td>0.019857</td>\n",
       "      <td>-0.095908</td>\n",
       "      <td>0.026234</td>\n",
       "      <td>1</td>\n",
       "    </tr>\n",
       "    <tr>\n",
       "      <th>553615</th>\n",
       "      <td>-0.533816</td>\n",
       "      <td>-1.426977</td>\n",
       "      <td>-0.003618</td>\n",
       "      <td>1.172094</td>\n",
       "      <td>-0.352082</td>\n",
       "      <td>0.191591</td>\n",
       "      <td>-0.082990</td>\n",
       "      <td>1.082900</td>\n",
       "      <td>-0.637896</td>\n",
       "      <td>-0.087172</td>\n",
       "      <td>...</td>\n",
       "      <td>0.568297</td>\n",
       "      <td>-0.311943</td>\n",
       "      <td>0.312462</td>\n",
       "      <td>-0.395764</td>\n",
       "      <td>0.299187</td>\n",
       "      <td>-0.153576</td>\n",
       "      <td>0.020789</td>\n",
       "      <td>-0.095233</td>\n",
       "      <td>0.024222</td>\n",
       "      <td>1</td>\n",
       "    </tr>\n",
       "    <tr>\n",
       "      <th>553616</th>\n",
       "      <td>-0.011860</td>\n",
       "      <td>-1.890782</td>\n",
       "      <td>-0.066297</td>\n",
       "      <td>1.752588</td>\n",
       "      <td>-0.283639</td>\n",
       "      <td>0.184916</td>\n",
       "      <td>-0.354259</td>\n",
       "      <td>0.643388</td>\n",
       "      <td>-0.440612</td>\n",
       "      <td>-0.090094</td>\n",
       "      <td>...</td>\n",
       "      <td>0.815373</td>\n",
       "      <td>-0.370767</td>\n",
       "      <td>-0.008225</td>\n",
       "      <td>-0.047128</td>\n",
       "      <td>0.457056</td>\n",
       "      <td>0.098625</td>\n",
       "      <td>-0.160032</td>\n",
       "      <td>0.129669</td>\n",
       "      <td>-0.328612</td>\n",
       "      <td>1</td>\n",
       "    </tr>\n",
       "    <tr>\n",
       "      <th>553617</th>\n",
       "      <td>-0.533985</td>\n",
       "      <td>-1.426690</td>\n",
       "      <td>-0.003625</td>\n",
       "      <td>1.172086</td>\n",
       "      <td>-0.351961</td>\n",
       "      <td>0.191492</td>\n",
       "      <td>-0.082089</td>\n",
       "      <td>1.082984</td>\n",
       "      <td>-0.638003</td>\n",
       "      <td>-0.087201</td>\n",
       "      <td>...</td>\n",
       "      <td>0.567725</td>\n",
       "      <td>-0.312003</td>\n",
       "      <td>0.312313</td>\n",
       "      <td>-0.396246</td>\n",
       "      <td>0.298927</td>\n",
       "      <td>-0.153681</td>\n",
       "      <td>0.021058</td>\n",
       "      <td>-0.095129</td>\n",
       "      <td>0.023750</td>\n",
       "      <td>1</td>\n",
       "    </tr>\n",
       "    <tr>\n",
       "      <th>553618</th>\n",
       "      <td>-0.535380</td>\n",
       "      <td>-1.427843</td>\n",
       "      <td>-0.003359</td>\n",
       "      <td>1.170357</td>\n",
       "      <td>-0.351906</td>\n",
       "      <td>0.191405</td>\n",
       "      <td>-0.081767</td>\n",
       "      <td>1.083823</td>\n",
       "      <td>-0.637987</td>\n",
       "      <td>-0.087208</td>\n",
       "      <td>...</td>\n",
       "      <td>0.567845</td>\n",
       "      <td>-0.311191</td>\n",
       "      <td>0.313137</td>\n",
       "      <td>-0.395909</td>\n",
       "      <td>0.299109</td>\n",
       "      <td>-0.155188</td>\n",
       "      <td>0.021137</td>\n",
       "      <td>-0.095357</td>\n",
       "      <td>0.023916</td>\n",
       "      <td>1</td>\n",
       "    </tr>\n",
       "  </tbody>\n",
       "</table>\n",
       "<p>553619 rows × 24 columns</p>\n",
       "</div>"
      ],
      "text/plain": [
       "               0          1         2         3         4         5         6  \\\n",
       "0      -2.229607   3.764813 -0.117099  0.275217  0.257315 -0.023695 -1.839116   \n",
       "1      -1.696597  14.356816 -1.255595  4.843810 -1.180270 -0.597340  7.199826   \n",
       "2       1.818834  -1.482652 -0.253659  2.615985  0.514076 -0.160817  0.296755   \n",
       "3       1.816007  -1.479338 -0.253572  2.612553  0.513126 -0.160740  0.300288   \n",
       "4       1.816672  -1.480547 -0.253548  2.613003  0.513112 -0.160618  0.299000   \n",
       "...          ...        ...       ...       ...       ...       ...       ...   \n",
       "553614 -0.534876  -1.429484 -0.003262  1.170015 -0.352479  0.191862 -0.086043   \n",
       "553615 -0.533816  -1.426977 -0.003618  1.172094 -0.352082  0.191591 -0.082990   \n",
       "553616 -0.011860  -1.890782 -0.066297  1.752588 -0.283639  0.184916 -0.354259   \n",
       "553617 -0.533985  -1.426690 -0.003625  1.172086 -0.351961  0.191492 -0.082089   \n",
       "553618 -0.535380  -1.427843 -0.003359  1.170357 -0.351906  0.191405 -0.081767   \n",
       "\n",
       "               7         8         9  ...        14        15        16  \\\n",
       "0       0.209895 -0.214998 -0.080722  ...  1.664071  0.272442  0.343495   \n",
       "1       0.100335  0.265596  0.073045  ...  1.029260  0.388831  0.146254   \n",
       "2      -1.427653  0.332657  0.128167  ... -0.412205 -0.098471 -0.178513   \n",
       "3      -1.435681  0.311964  0.127128  ... -0.401746 -0.122033 -0.240011   \n",
       "4      -1.434777  0.314851  0.127310  ... -0.402273 -0.118781 -0.231780   \n",
       "...          ...       ...       ...  ...       ...       ...       ...   \n",
       "553614  1.083604 -0.637470 -0.087070  ...  0.570626 -0.310722  0.314037   \n",
       "553615  1.082900 -0.637896 -0.087172  ...  0.568297 -0.311943  0.312462   \n",
       "553616  0.643388 -0.440612 -0.090094  ...  0.815373 -0.370767 -0.008225   \n",
       "553617  1.082984 -0.638003 -0.087201  ...  0.567725 -0.312003  0.312313   \n",
       "553618  1.083823 -0.637987 -0.087208  ...  0.567845 -0.311191  0.313137   \n",
       "\n",
       "              17        18        19        20        21        22  Label  \n",
       "0       1.969127  1.719321  0.935524 -0.871459 -0.650227  0.005744      0  \n",
       "1       0.986608  0.042743 -0.779692 -0.042539 -0.650915  0.327008      0  \n",
       "2      -0.162658  0.135642 -0.474916  0.171542 -0.571667 -0.249840      0  \n",
       "3      -0.143580  0.102531 -0.464527  0.172742 -0.575020 -0.251360      0  \n",
       "4      -0.145385  0.107105 -0.465920  0.172377 -0.574875 -0.251138      0  \n",
       "...          ...       ...       ...       ...       ...       ...    ...  \n",
       "553614 -0.393508  0.300406 -0.155016  0.019857 -0.095908  0.026234      1  \n",
       "553615 -0.395764  0.299187 -0.153576  0.020789 -0.095233  0.024222      1  \n",
       "553616 -0.047128  0.457056  0.098625 -0.160032  0.129669 -0.328612      1  \n",
       "553617 -0.396246  0.298927 -0.153681  0.021058 -0.095129  0.023750      1  \n",
       "553618 -0.395909  0.299109 -0.155188  0.021137 -0.095357  0.023916      1  \n",
       "\n",
       "[553619 rows x 24 columns]"
      ]
     },
     "execution_count": 3,
     "metadata": {},
     "output_type": "execute_result"
    }
   ],
   "source": [
    "dataset = pd.read_csv(\"/media/kmdr7/Seagate/DATASETS/IOT-23-CIC/Dataset/4-PCA-3-ZScore-2-Mean.csv\")\n",
    "dataset[\"Label\"] = dataset[\"Label\"].astype(\"category\").cat.codes\n",
    "clean_dataset = dataset.drop(columns=[\"Label\"])\n",
    "label = dataset[\"Label\"]\n",
    "dataset"
   ]
  },
  {
   "cell_type": "code",
   "execution_count": 4,
   "metadata": {},
   "outputs": [],
   "source": [
    "## Bagi dataset menjadi train dan test\n",
    "x_train, x_test, y_train, y_test = train_test_split(\n",
    "    clean_dataset, label, test_size=1/7.0, random_state=1\n",
    ")"
   ]
  },
  {
   "cell_type": "code",
   "execution_count": 5,
   "metadata": {},
   "outputs": [
    {
     "name": "stdout",
     "output_type": "stream",
     "text": [
      "95.5384955406189\n"
     ]
    }
   ],
   "source": [
    "start = starttime()\n",
    "clf = DecisionTreeClassifier(criterion=\"entropy\")\n",
    "clf.fit(x_train, y_train)\n",
    "end = starttime()\n",
    "print(end-start)"
   ]
  },
  {
   "cell_type": "code",
   "execution_count": 6,
   "metadata": {},
   "outputs": [
    {
     "name": "stdout",
     "output_type": "stream",
     "text": [
      "mean: 0.915 (std: 0.060)\n",
      "\n"
     ]
    }
   ],
   "source": [
    "scores = cross_val_score(estimator=clf, X=clean_dataset, y=label, cv=5, n_jobs=8)\n",
    "print(\"mean: {:.3f} (std: {:.3f})\".format(scores.mean(), scores.std()), end=\"\\n\\n\" )"
   ]
  },
  {
   "cell_type": "code",
   "execution_count": 7,
   "metadata": {},
   "outputs": [],
   "source": [
    "y_pred = clf.predict(x_test)"
   ]
  },
  {
   "cell_type": "code",
   "execution_count": 8,
   "metadata": {},
   "outputs": [
    {
     "data": {
      "text/plain": [
       "0.9462504267344384"
      ]
     },
     "execution_count": 8,
     "metadata": {},
     "output_type": "execute_result"
    }
   ],
   "source": [
    "# Accucary\n",
    "acc = accuracy_score(y_test, y_pred)\n",
    "acc"
   ]
  },
  {
   "cell_type": "code",
   "execution_count": 9,
   "metadata": {},
   "outputs": [
    {
     "data": {
      "text/plain": [
       "0.9457732110813402"
      ]
     },
     "execution_count": 9,
     "metadata": {},
     "output_type": "execute_result"
    }
   ],
   "source": [
    "# Recall\n",
    "recall = recall_score(y_test, y_pred)\n",
    "recall"
   ]
  },
  {
   "cell_type": "code",
   "execution_count": 10,
   "metadata": {},
   "outputs": [
    {
     "data": {
      "text/plain": [
       "0.9476484279750249"
      ]
     },
     "execution_count": 10,
     "metadata": {},
     "output_type": "execute_result"
    }
   ],
   "source": [
    "# F1 Score\n",
    "f1 = f1_score(y_test, y_pred)\n",
    "f1"
   ]
  },
  {
   "cell_type": "code",
   "execution_count": 11,
   "metadata": {},
   "outputs": [
    {
     "data": {
      "text/plain": [
       "0.9495310957551826"
      ]
     },
     "execution_count": 11,
     "metadata": {},
     "output_type": "execute_result"
    }
   ],
   "source": [
    "# Precision\n",
    "precision = precision_score(y_test, y_pred)\n",
    "precision"
   ]
  },
  {
   "cell_type": "code",
   "execution_count": 12,
   "metadata": {},
   "outputs": [
    {
     "data": {
      "image/png": "[encoded data removed]",
      "text/plain": [
       "<Figure size 648x432 with 2 Axes>"
      ]
     },
     "metadata": {},
     "output_type": "display_data"
    }
   ],
   "source": [
    "labels = [\"Benign\", \"Malicious\"]\n",
    "conf = confusion_matrix(y_test, y_pred)\n",
    "plot_confusion_matrix(conf, labels, \"confusion_matrix.png\")"
   ]
  }
 ],
 "metadata": {
  "kernelspec": {
   "display_name": "Python 3.8.2 64-bit ('FinalProjectEnv': venv)",
   "language": "python",
   "name": "python38264bitfinalprojectenvvenveda54e4f40e84a6f9e770ddeca258537"
  },
  "language_info": {
   "codemirror_mode": {
    "name": "ipython",
    "version": 3
   },
   "file_extension": ".py",
   "mimetype": "text/x-python",
   "name": "python",
   "nbconvert_exporter": "python",
   "pygments_lexer": "ipython3",
   "version": "3.8.5"
  }
 },
 "nbformat": 4,
 "nbformat_minor": 4
}
