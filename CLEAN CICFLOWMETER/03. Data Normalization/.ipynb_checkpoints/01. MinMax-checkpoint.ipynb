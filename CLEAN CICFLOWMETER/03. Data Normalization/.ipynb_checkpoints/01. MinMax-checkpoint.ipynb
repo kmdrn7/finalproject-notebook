{
 "cells": [
  {
   "cell_type": "code",
   "execution_count": 1,
   "metadata": {},
   "outputs": [],
   "source": [
    "import pandas as pd\n",
    "import numpy as np\n",
    "import matplotlib.pyplot as plt\n",
    "\n",
    "from sklearn.preprocessing import MinMaxScaler"
   ]
  },
  {
   "cell_type": "markdown",
   "metadata": {},
   "source": [
    "# Min-Max Normalization"
   ]
  },
  {
   "cell_type": "code",
   "execution_count": 2,
   "metadata": {
    "scrolled": true
   },
   "outputs": [],
   "source": [
    "scaler = MinMaxScaler()"
   ]
  },
  {
   "cell_type": "code",
   "execution_count": null,
   "metadata": {},
   "outputs": [],
   "source": [
    "dataset = pd.read_csv(\"/media/kmdr7/Seagate/DATASETS/IOT-23-CIC/Dataset/2-Zero.csv\")\n",
    "label = dataset[[\"Label\"]]\n",
    "clean = dataset.drop([\"Label\"], axis=1)\n",
    "minmax = pd.DataFrame(scaler.fit_transform(clean), columns=clean.columns)\n",
    "minmax[\"Label\"] = label\n",
    "minmax.to_csv(\"/media/kmdr7/Seagate/DATASETS/IOT-23-CIC/Dataset/3-MinMax-2-Zero.csv\", index=False)"
   ]
  },
  {
   "cell_type": "code",
   "execution_count": 3,
   "metadata": {},
   "outputs": [],
   "source": [
    "dataset = pd.read_csv(\"/media/kmdr7/Seagate/DATASETS/IOT-23-CIC/Dataset/2-Mean.csv\")\n",
    "label = dataset[[\"Label\"]]\n",
    "dataset.drop([\"Label\"], axis=1, inplace=True)\n",
    "minmax = pd.DataFrame(scaler.fit_transform(dataset), columns=dataset.columns)\n",
    "minmax[\"Label\"] = label\n",
    "minmax.to_csv(\"/media/kmdr7/Seagate/DATASETS/IOT-23-CIC/Dataset/3-MinMax-2-Mean.csv\", index=False)"
   ]
  },
  {
   "cell_type": "code",
   "execution_count": 4,
   "metadata": {},
   "outputs": [],
   "source": [
    "dataset = pd.read_csv(\"/media/kmdr7/Seagate/DATASETS/IOT-23-CIC/Dataset/2-LR.csv\")\n",
    "label = dataset[[\"Label\"]]\n",
    "clean = dataset.drop([\"Label\"], axis=1)\n",
    "minmax = pd.DataFrame(scaler.fit_transform(clean), columns=clean.columns)\n",
    "minmax[\"Label\"] = label\n",
    "minmax.to_csv(\"/media/kmdr7/Seagate/DATASETS/IOT-23-CIC/Dataset/3-MinMax-2-LR.csv\", index=False)"
   ]
  },
  {
   "cell_type": "code",
   "execution_count": 5,
   "metadata": {},
   "outputs": [],
   "source": [
    "dataset = pd.read_csv(\"/media/kmdr7/Seagate/DATASETS/IOT-23-CIC/Dataset/2-Drop.csv\")\n",
    "label = dataset[[\"Label\"]]\n",
    "clean = dataset.drop([\"Label\"], axis=1)\n",
    "minmax = pd.DataFrame(scaler.fit_transform(clean), columns=clean.columns)\n",
    "minmax[\"Label\"] = label\n",
    "minmax.to_csv(\"/media/kmdr7/Seagate/DATASETS/IOT-23-CIC/Dataset/3-MinMax-2-Drop.csv\", index=False)"
   ]
  }
 ],
 "metadata": {
  "kernelspec": {
   "display_name": "Python 3.8.2 64-bit ('FinalProjectEnv': venv)",
   "language": "python",
   "name": "python38264bitfinalprojectenvvenveda54e4f40e84a6f9e770ddeca258537"
  },
  "language_info": {
   "codemirror_mode": {
    "name": "ipython",
    "version": 3
   },
   "file_extension": ".py",
   "mimetype": "text/x-python",
   "name": "python",
   "nbconvert_exporter": "python",
   "pygments_lexer": "ipython3",
   "version": "3.8.5"
  }
 },
 "nbformat": 4,
 "nbformat_minor": 4
}
