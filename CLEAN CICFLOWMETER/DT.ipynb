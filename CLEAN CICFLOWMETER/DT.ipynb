{
 "cells": [
  {
   "cell_type": "code",
   "execution_count": 59,
   "metadata": {},
   "outputs": [],
   "source": [
    "import pandas as pd\n",
    "from pycaret.classification import *\n",
    "\n",
    "handling_missing_value = \"zero\" # zero, mean, drop, linear\n",
    "\n",
    "apply_normalization = True # True, False\n",
    "normalization_method = \"zscore\" # minmax, zscore\n",
    "\n",
    "apply_lowvariation = True # True, False\n",
    "apply_featureselection = True # True, False\n",
    "featureselection_tres = 0.8\n",
    "apply_pca = False # True, False\n",
    "num_pca = 13"
   ]
  },
  {
   "cell_type": "code",
   "execution_count": 60,
   "metadata": {},
   "outputs": [],
   "source": [
    "dataset = pd.read_csv(\"/home/kmdr7/dataset/Dataset.csv\")\n",
    "# dataset = pd.read_csv(\"/media/kmdr7/Seagate/DATASETS/IOT-23-CIC/Sampled/Dataset.csv\")"
   ]
  },
  {
   "cell_type": "code",
   "execution_count": 61,
   "metadata": {},
   "outputs": [],
   "source": [
    "dataset.replace([np.inf, -np.inf], np.nan, inplace=True)"
   ]
  },
  {
   "cell_type": "code",
   "execution_count": 62,
   "metadata": {},
   "outputs": [],
   "source": [
    "if handling_missing_value == \"zero\":\n",
    "    dataset.replace(to_replace=np.nan, value=0, inplace=True)\n",
    "elif handling_missing_value == \"mean\":\n",
    "    dataset[\"Flow Bytes/s\"].fillna(value=dataset[\"Flow Bytes/s\"].mean(), inplace=True)\n",
    "    dataset[\"Flow Packets/s\"].fillna(value=dataset[\"Flow Packets/s\"].mean(), inplace=True)\n",
    "elif handling_missing_value == \"drop\":\n",
    "    dataset.dropna(inplace=True)\n",
    "elif handling_missing_value == \"linear\":\n",
    "    dataset.interpolate(method ='linear', limit_direction ='forward', inplace=True)"
   ]
  },
  {
   "cell_type": "code",
   "execution_count": 63,
   "metadata": {},
   "outputs": [],
   "source": [
    "exp_clf101 = setup(\n",
    "    data=dataset, target='Label',\n",
    "    normalize=apply_normalization, normalize_method=normalization_method,\n",
    "    ignore_low_variance=apply_lowvariation,\n",
    "    feature_selection=apply_featureselection, feature_selection_threshold=0.1,\n",
    "    pca=apply_pca, pca_components=num_pca,\n",
    "    log_experiment=True, experiment_name='fp-001', silent=True, verbose=False\n",
    ")"
   ]
  },
  {
   "cell_type": "code",
   "execution_count": 64,
   "metadata": {},
   "outputs": [],
   "source": [
    "# exp_clf101"
   ]
  },
  {
   "cell_type": "code",
   "execution_count": 65,
   "metadata": {},
   "outputs": [
    {
     "data": {
      "text/html": [
       "<style  type=\"text/css\" >\n",
       "    #T_992ea_ th {\n",
       "          text-align: left;\n",
       "    }#T_992ea_row0_col0,#T_992ea_row0_col2,#T_992ea_row0_col4,#T_992ea_row1_col0,#T_992ea_row1_col1,#T_992ea_row1_col3,#T_992ea_row1_col5,#T_992ea_row1_col6,#T_992ea_row1_col7{\n",
       "            text-align:  left;\n",
       "            text-align:  left;\n",
       "        }#T_992ea_row0_col1,#T_992ea_row0_col3,#T_992ea_row0_col5,#T_992ea_row0_col6,#T_992ea_row0_col7,#T_992ea_row1_col2,#T_992ea_row1_col4{\n",
       "            text-align:  left;\n",
       "            text-align:  left;\n",
       "            background-color:  yellow;\n",
       "        }#T_992ea_row0_col8{\n",
       "            text-align:  left;\n",
       "            text-align:  left;\n",
       "            background-color:  yellow;\n",
       "            background-color:  lightgrey;\n",
       "        }#T_992ea_row1_col8{\n",
       "            text-align:  left;\n",
       "            text-align:  left;\n",
       "            background-color:  lightgrey;\n",
       "        }</style><table id=\"T_992ea_\" ><thead>    <tr>        <th class=\"blank level0\" ></th>        <th class=\"col_heading level0 col0\" >Model</th>        <th class=\"col_heading level0 col1\" >Accuracy</th>        <th class=\"col_heading level0 col2\" >AUC</th>        <th class=\"col_heading level0 col3\" >Recall</th>        <th class=\"col_heading level0 col4\" >Prec.</th>        <th class=\"col_heading level0 col5\" >F1</th>        <th class=\"col_heading level0 col6\" >Kappa</th>        <th class=\"col_heading level0 col7\" >MCC</th>        <th class=\"col_heading level0 col8\" >TT (Sec)</th>    </tr></thead><tbody>\n",
       "                <tr>\n",
       "                        <th id=\"T_992ea_level0_row0\" class=\"row_heading level0 row0\" >svm</th>\n",
       "                        <td id=\"T_992ea_row0_col0\" class=\"data row0 col0\" >SVM - Linear Kernel</td>\n",
       "                        <td id=\"T_992ea_row0_col1\" class=\"data row0 col1\" >0.9592085234</td>\n",
       "                        <td id=\"T_992ea_row0_col2\" class=\"data row0 col2\" >0.0000000000</td>\n",
       "                        <td id=\"T_992ea_row0_col3\" class=\"data row0 col3\" >0.9758445360</td>\n",
       "                        <td id=\"T_992ea_row0_col4\" class=\"data row0 col4\" >0.9467127498</td>\n",
       "                        <td id=\"T_992ea_row0_col5\" class=\"data row0 col5\" >0.9610546421</td>\n",
       "                        <td id=\"T_992ea_row0_col6\" class=\"data row0 col6\" >0.9182539837</td>\n",
       "                        <td id=\"T_992ea_row0_col7\" class=\"data row0 col7\" >0.9187261166</td>\n",
       "                        <td id=\"T_992ea_row0_col8\" class=\"data row0 col8\" >0.1360000000</td>\n",
       "            </tr>\n",
       "            <tr>\n",
       "                        <th id=\"T_992ea_level0_row1\" class=\"row_heading level0 row1\" >dt</th>\n",
       "                        <td id=\"T_992ea_row1_col0\" class=\"data row1 col0\" >Decision Tree Classifier</td>\n",
       "                        <td id=\"T_992ea_row1_col1\" class=\"data row1 col1\" >0.9454393238</td>\n",
       "                        <td id=\"T_992ea_row1_col2\" class=\"data row1 col2\" >0.9459767112</td>\n",
       "                        <td id=\"T_992ea_row1_col3\" class=\"data row1 col3\" >0.9427833524</td>\n",
       "                        <td id=\"T_992ea_row1_col4\" class=\"data row1 col4\" >0.9510116053</td>\n",
       "                        <td id=\"T_992ea_row1_col5\" class=\"data row1 col5\" >0.9468744187</td>\n",
       "                        <td id=\"T_992ea_row1_col6\" class=\"data row1 col6\" >0.8908011336</td>\n",
       "                        <td id=\"T_992ea_row1_col7\" class=\"data row1 col7\" >0.8908467388</td>\n",
       "                        <td id=\"T_992ea_row1_col8\" class=\"data row1 col8\" >0.4100000000</td>\n",
       "            </tr>\n",
       "    </tbody></table>"
      ],
      "text/plain": [
       "<pandas.io.formats.style.Styler at 0x7fba0fc2d970>"
      ]
     },
     "metadata": {},
     "output_type": "display_data"
    }
   ],
   "source": [
    "best_model = compare_models(include=[\"dt\",\"svm\", \"\"], fold=5, round=10)"
   ]
  },
  {
   "cell_type": "code",
   "execution_count": 66,
   "metadata": {},
   "outputs": [
    {
     "data": {
      "text/plain": [
       "SGDClassifier(alpha=0.0001, average=False, class_weight=None,\n",
       "              early_stopping=False, epsilon=0.1, eta0=0.001, fit_intercept=True,\n",
       "              l1_ratio=0.15, learning_rate='optimal', loss='hinge',\n",
       "              max_iter=1000, n_iter_no_change=5, n_jobs=-1, penalty='l2',\n",
       "              power_t=0.5, random_state=2010, shuffle=True, tol=0.001,\n",
       "              validation_fraction=0.1, verbose=0, warm_start=False)"
      ]
     },
     "execution_count": 66,
     "metadata": {},
     "output_type": "execute_result"
    }
   ],
   "source": [
    "best_model"
   ]
  }
 ],
 "metadata": {
  "kernelspec": {
   "display_name": "Python 3",
   "language": "python",
   "name": "python3"
  },
  "language_info": {
   "codemirror_mode": {
    "name": "ipython",
    "version": 3
   },
   "file_extension": ".py",
   "mimetype": "text/x-python",
   "name": "python",
   "nbconvert_exporter": "python",
   "pygments_lexer": "ipython3",
   "version": "3.8.5"
  }
 },
 "nbformat": 4,
 "nbformat_minor": 4
}
