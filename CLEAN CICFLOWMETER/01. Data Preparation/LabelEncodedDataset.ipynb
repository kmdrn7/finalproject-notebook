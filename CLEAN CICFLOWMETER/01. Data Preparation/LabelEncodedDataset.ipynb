{
 "cells": [
  {
   "cell_type": "code",
   "execution_count": 1,
   "id": "2332386d-88a8-4b92-8da0-892378d7e182",
   "metadata": {},
   "outputs": [],
   "source": [
    "import pandas as pd\n",
    "from sklearn import preprocessing"
   ]
  },
  {
   "cell_type": "code",
   "execution_count": 2,
   "id": "0cc8e553-c330-45fe-93d6-5d28e645cdd0",
   "metadata": {},
   "outputs": [],
   "source": [
    "le = preprocessing.LabelEncoder()"
   ]
  },
  {
   "cell_type": "code",
   "execution_count": 3,
   "id": "6eb338d3-c6e1-43ad-a42e-ae0f1d3a81af",
   "metadata": {},
   "outputs": [],
   "source": [
    "dataset = pd.read_csv(\"/media/kmdr7/Seagate/TA/DATASETS/UnseenDataset.csv\")\n",
    "clean = dataset.drop(columns=[\"Label\"])\n",
    "label = le.fit_transform(dataset[\"Label\"])"
   ]
  },
  {
   "cell_type": "code",
   "execution_count": 4,
   "id": "0e2b05e2-c243-4bbd-ad46-4197e2785ab2",
   "metadata": {},
   "outputs": [],
   "source": [
    "clean[\"Label\"] = label"
   ]
  },
  {
   "cell_type": "code",
   "execution_count": 5,
   "id": "eaf897bd-817d-471d-9328-873248225cf7",
   "metadata": {},
   "outputs": [
    {
     "data": {
      "text/plain": [
       "(160842, 78)"
      ]
     },
     "execution_count": 5,
     "metadata": {},
     "output_type": "execute_result"
    }
   ],
   "source": [
    "clean[clean[\"Label\"] == 1].shape"
   ]
  },
  {
   "cell_type": "code",
   "execution_count": 6,
   "id": "3da7ce1f-15a8-4d6d-b80d-62033a96bc41",
   "metadata": {},
   "outputs": [],
   "source": [
    "clean.to_csv(\"/media/kmdr7/Seagate/TA/DATASETS/UnseenDatasetEncoded.csv\", index=False)"
   ]
  }
 ],
 "metadata": {
  "kernelspec": {
   "display_name": "Python 3",
   "language": "python",
   "name": "python3"
  },
  "language_info": {
   "codemirror_mode": {
    "name": "ipython",
    "version": 3
   },
   "file_extension": ".py",
   "mimetype": "text/x-python",
   "name": "python",
   "nbconvert_exporter": "python",
   "pygments_lexer": "ipython3",
   "version": "3.8.5"
  }
 },
 "nbformat": 4,
 "nbformat_minor": 5
}
