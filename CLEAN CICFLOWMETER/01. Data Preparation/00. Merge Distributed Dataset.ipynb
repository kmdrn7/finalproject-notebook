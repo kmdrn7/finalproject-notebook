{
 "cells": [
  {
   "cell_type": "code",
   "execution_count": 1,
   "metadata": {},
   "outputs": [],
   "source": [
    "import pandas as pd\n",
    "from glob import glob\n",
    "\n",
    "from imblearn.under_sampling import RandomUnderSampler"
   ]
  },
  {
   "cell_type": "code",
   "execution_count": 11,
   "metadata": {},
   "outputs": [],
   "source": [
    "from sklearn import preprocessing"
   ]
  },
  {
   "cell_type": "code",
   "execution_count": 2,
   "metadata": {},
   "outputs": [],
   "source": [
    "def get_csv(uri):\n",
    "    csvs = []\n",
    "    if \"*\" in uri:\n",
    "        all_csv = glob(uri)\n",
    "        [ csvs.append(pd.read_csv(uri)) for uri in all_csv ]\n",
    "        return pd.concat(csvs)\n",
    "    return pd.read_csv(uri)"
   ]
  },
  {
   "cell_type": "code",
   "execution_count": 3,
   "metadata": {},
   "outputs": [],
   "source": [
    "dropped_features = [\n",
    "    \"Flow ID\", \"Src IP\", \"Src Port\",\n",
    "    \"Dst IP\", \"Dst Port\", \"Timestamp\"\n",
    "]\n",
    "\n",
    "def label_dataset(ds, label):\n",
    "    dataset = ds.copy()\n",
    "    dataset[[\"Label\"]] = label\n",
    "    return dataset\n",
    "\n",
    "def remove_string(ds):\n",
    "    # Hapus fitur yang memiliki string --------------------------------\n",
    "    print(\"Jumlah fitur sebelum didrop: \" + str(ds.shape[1]))\n",
    "    ds.drop(columns=dropped_features, inplace=True)\n",
    "    print(\"Jumlah fitur setelah didrop: \" + str(ds.shape[1]))"
   ]
  },
  {
   "cell_type": "markdown",
   "metadata": {},
   "source": [
    "### Malware IoT-23"
   ]
  },
  {
   "cell_type": "code",
   "execution_count": 4,
   "metadata": {},
   "outputs": [
    {
     "name": "stdout",
     "output_type": "stream",
     "text": [
      "Jumlah fitur sebelum didrop: 84\n",
      "Jumlah fitur setelah didrop: 78\n"
     ]
    }
   ],
   "source": [
    "malware = get_csv('/media/kmdr7/Seagate/DATASETS/IOT-23/CTU-IoT-Malware-Capture-48-1/out2/*')\n",
    "malware = label_dataset(malware, \"Malicious\")\n",
    "remove_string(malware)"
   ]
  },
  {
   "cell_type": "markdown",
   "metadata": {},
   "source": [
    "### Benign IoT-23"
   ]
  },
  {
   "cell_type": "code",
   "execution_count": 5,
   "metadata": {},
   "outputs": [
    {
     "name": "stdout",
     "output_type": "stream",
     "text": [
      "Jumlah fitur sebelum didrop: 84\n",
      "Jumlah fitur setelah didrop: 78\n"
     ]
    }
   ],
   "source": [
    "benign_iot23 = get_csv('/media/kmdr7/Seagate/DATASETS/IoT-Traffic-Traces/out/*')\n",
    "benign_iot23 = label_dataset(benign_iot23, \"Benign\")\n",
    "remove_string(benign_iot23)"
   ]
  },
  {
   "cell_type": "markdown",
   "metadata": {},
   "source": [
    "### Honeypot IoT-23"
   ]
  },
  {
   "cell_type": "code",
   "execution_count": null,
   "metadata": {},
   "outputs": [],
   "source": [
    "honeypot = pd.concat([\n",
    "    get_csv('/media/kmdr7/Seagate/DATASETS/IOT-23/CTU-Honeypot-Capture-7-1/out/*.csv'),\n",
    "    get_csv('/media/kmdr7/Seagate/DATASETS/IOT-23/CTU-Honeypot-Capture-4-1/out/*.csv'),\n",
    "    get_csv('/media/kmdr7/Seagate/DATASETS/IOT-23/CTU-Honeypot-Capture-5-1/out/*.csv')\n",
    "])\n",
    "honeypot = label_dataset(honeypot, \"Benign\")\n",
    "remove_string(honeypot)"
   ]
  },
  {
   "cell_type": "markdown",
   "metadata": {},
   "source": [
    "### Benign IoT-Benign-Trafic"
   ]
  },
  {
   "cell_type": "code",
   "execution_count": null,
   "metadata": {},
   "outputs": [],
   "source": [
    "# benign_iottr = get_csv('/media/kmdr7/Seagate/DATASETS/IoT-Benign-Traffic/out/18-10-17.pcap_Flow.csv')\n",
    "# honeypot = pd.concat([\n",
    "#     get_csv('/media/kmdr7/Seagate/DATASETS/IoT-Benign-Traffic/out/CTU-Honeypot-Capture-7-1/out/*.csv'),\n",
    "#     get_csv('/media/kmdr7/Seagate/DATASETS/IoT-Benign-Traffic/out/CTU-Honeypot-Capture-4-1/out/*.csv'),\n",
    "#     get_csv('/media/kmdr7/Seagate/DATASETS/IoT-Benign-Traffic/out/CTU-Honeypot-Capture-5-1/out/*.csv')\n",
    "# ])\n",
    "# benign_iottr = label_dataset(benign_iottr, \"Benign\")\n",
    "# remove_string(benign_iottr)"
   ]
  },
  {
   "cell_type": "code",
   "execution_count": 6,
   "metadata": {},
   "outputs": [
    {
     "name": "stdout",
     "output_type": "stream",
     "text": [
      "Malware Shape (1692552, 78)\n",
      "Benign IoT-23 Shape (1427672, 78)\n",
      "==========================================\n",
      "Total Malware 1692552\n",
      "Total Benign 1427672\n",
      "Total Dataset 3120224\n"
     ]
    }
   ],
   "source": [
    "print(\"Malware Shape \" + str(malware.shape))\n",
    "print(\"Benign IoT-23 Shape \" + str(benign_iot23.shape))\n",
    "# print(\"Honeypot IoT-23 Shape \" + str(honeypot.shape))\n",
    "# print(\"Benign IoT-Benign-Trafic Shape \" + str(benign_iottr.shape))\n",
    "print(\"==========================================\")\n",
    "print(\"Total Malware \" + str(malware.shape[0]))\n",
    "print(\"Total Benign \" + str(benign_iot23.shape[0]))\n",
    "print(\"Total Dataset \" + str(malware.shape[0]+benign_iot23.shape[0]))"
   ]
  },
  {
   "cell_type": "code",
   "execution_count": 7,
   "metadata": {},
   "outputs": [],
   "source": [
    "# benign = pd.concat([benign_iot23, honeypot])\n",
    "dataset = pd.concat([benign_iot23, malware])"
   ]
  },
  {
   "cell_type": "code",
   "execution_count": 12,
   "metadata": {},
   "outputs": [],
   "source": [
    "le = preprocessing.LabelEncoder()\n",
    "label = le.fit_transform(dataset[\"Label\"])"
   ]
  },
  {
   "cell_type": "code",
   "execution_count": 28,
   "metadata": {},
   "outputs": [],
   "source": [
    "malware[\"Label\"] = 1\n",
    "benign_iot23[\"Label\"] = 0"
   ]
  },
  {
   "cell_type": "code",
   "execution_count": 30,
   "metadata": {},
   "outputs": [
    {
     "data": {
      "text/plain": [
       "0        0\n",
       "1        0\n",
       "2        0\n",
       "3        0\n",
       "4        0\n",
       "        ..\n",
       "43926    0\n",
       "43927    0\n",
       "43928    0\n",
       "43929    0\n",
       "43930    0\n",
       "Name: Label, Length: 1427672, dtype: int64"
      ]
     },
     "execution_count": 30,
     "metadata": {},
     "output_type": "execute_result"
    }
   ],
   "source": [
    "benign_iot23[\"Label\"]"
   ]
  },
  {
   "cell_type": "code",
   "execution_count": 16,
   "metadata": {},
   "outputs": [],
   "source": [
    "dataset[\"Label\"] = label"
   ]
  },
  {
   "cell_type": "code",
   "execution_count": 17,
   "metadata": {},
   "outputs": [
    {
     "data": {
      "text/plain": [
       "0         0\n",
       "1         0\n",
       "2         0\n",
       "3         0\n",
       "4         0\n",
       "         ..\n",
       "134220    1\n",
       "134221    1\n",
       "134222    1\n",
       "134223    1\n",
       "134224    1\n",
       "Name: Label, Length: 3120224, dtype: int64"
      ]
     },
     "execution_count": 17,
     "metadata": {},
     "output_type": "execute_result"
    }
   ],
   "source": [
    "dataset[\"Label\"]"
   ]
  },
  {
   "cell_type": "code",
   "execution_count": null,
   "metadata": {},
   "outputs": [],
   "source": [
    "x = dataset.drop([\"Label\"], axis=1)\n",
    "y = dataset[[\"Label\"]]\n",
    "smp = RandomUnderSampler(random_state=0, sampling_strategy='majority')\n",
    "x_smp, y_smp = smp.fit_resample(x, y)"
   ]
  },
  {
   "cell_type": "code",
   "execution_count": null,
   "metadata": {},
   "outputs": [],
   "source": [
    "x_smp.shape"
   ]
  },
  {
   "cell_type": "code",
   "execution_count": null,
   "metadata": {},
   "outputs": [],
   "source": [
    "y_smp.shape"
   ]
  },
  {
   "cell_type": "code",
   "execution_count": null,
   "metadata": {},
   "outputs": [],
   "source": [
    "malware.shape"
   ]
  },
  {
   "cell_type": "code",
   "execution_count": null,
   "metadata": {},
   "outputs": [],
   "source": [
    "dataset.shape"
   ]
  },
  {
   "cell_type": "code",
   "execution_count": null,
   "metadata": {},
   "outputs": [],
   "source": [
    "x = dataset.drop([\"Label\"], axis=1)\n",
    "y = dataset[[\"Label\"]]\n",
    "\n",
    "# sampler = TomekLinks(sampling_strategy=\"all\")\n",
    "sampler = RandomUnderSampler(random_state=0)\n",
    "\n",
    "x_resampled, y_resampled = sampler.fit_resample(x, y)"
   ]
  },
  {
   "cell_type": "code",
   "execution_count": null,
   "metadata": {},
   "outputs": [],
   "source": [
    "x_resampled.shape"
   ]
  },
  {
   "cell_type": "code",
   "execution_count": null,
   "metadata": {},
   "outputs": [],
   "source": [
    "y_resampled.shape"
   ]
  },
  {
   "cell_type": "code",
   "execution_count": null,
   "metadata": {},
   "outputs": [],
   "source": [
    "malsample = malware.sample(frac=0.0005, random_state=0)\n",
    "bensample = benign.sample(frac=0.0005, random_state=0)"
   ]
  },
  {
   "cell_type": "code",
   "execution_count": null,
   "metadata": {},
   "outputs": [],
   "source": [
    "print(malsample.shape)\n",
    "print(bensample.shape)\n",
    "print(\"Total Dataset \" + str(malsample.shape[0] + bensample.shape[0]))"
   ]
  },
  {
   "cell_type": "code",
   "execution_count": null,
   "metadata": {},
   "outputs": [],
   "source": [
    "dataset_sampled = pd.concat([malsample, bensample])"
   ]
  },
  {
   "cell_type": "markdown",
   "metadata": {},
   "source": [
    "## Gabungkan Malware Dataset"
   ]
  },
  {
   "cell_type": "code",
   "execution_count": 31,
   "metadata": {},
   "outputs": [],
   "source": [
    "malware.to_csv(\"/media/kmdr7/Seagate/TA/DATASETS/NewMalware.csv\", index=False)"
   ]
  },
  {
   "cell_type": "markdown",
   "metadata": {},
   "source": [
    "## Gabungkan Benign Dataset"
   ]
  },
  {
   "cell_type": "code",
   "execution_count": 32,
   "metadata": {},
   "outputs": [],
   "source": [
    "benign_iot23.to_csv(\"/media/kmdr7/Seagate/TA/DATASETS/NewBenign.csv\", index=False)"
   ]
  },
  {
   "cell_type": "markdown",
   "metadata": {},
   "source": [
    "## Gabung Dataset"
   ]
  },
  {
   "cell_type": "code",
   "execution_count": 18,
   "metadata": {},
   "outputs": [],
   "source": [
    "dataset.to_csv(\"/media/kmdr7/Seagate/TA/DATASETS/new/Dataset.csv\", index=False)"
   ]
  },
  {
   "cell_type": "code",
   "execution_count": null,
   "metadata": {},
   "outputs": [],
   "source": [
    "dataset_sampled.to_csv(\"/media/kmdr7/Seagate/TA/DATASETS/DatasetSampledSmall.csv\", index=False)"
   ]
  }
 ],
 "metadata": {
  "celltoolbar": "Raw Cell Format",
  "kernelspec": {
   "display_name": "Python 3",
   "language": "python",
   "name": "python3"
  },
  "language_info": {
   "codemirror_mode": {
    "name": "ipython",
    "version": 3
   },
   "file_extension": ".py",
   "mimetype": "text/x-python",
   "name": "python",
   "nbconvert_exporter": "python",
   "pygments_lexer": "ipython3",
   "version": "3.8.10"
  }
 },
 "nbformat": 4,
 "nbformat_minor": 4
}
