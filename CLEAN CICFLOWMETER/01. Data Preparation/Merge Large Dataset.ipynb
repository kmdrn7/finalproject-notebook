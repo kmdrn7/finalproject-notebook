{
 "cells": [
  {
   "cell_type": "code",
   "execution_count": 1,
   "id": "e7421613-6347-448e-8004-cee5277dc5e5",
   "metadata": {},
   "outputs": [],
   "source": [
    "import pandas as pd"
   ]
  },
  {
   "cell_type": "code",
   "execution_count": 2,
   "id": "b1c9ac77-df3c-423e-a8f0-64019a843693",
   "metadata": {},
   "outputs": [],
   "source": [
    "benign = pd.read_csv(\"/media/kmdr7/Seagate/TA/DATASETS/Benign.csv\")"
   ]
  },
  {
   "cell_type": "code",
   "execution_count": 4,
   "id": "5567bacf-1dda-4269-86d0-be0692eb11c4",
   "metadata": {},
   "outputs": [],
   "source": [
    "malware = pd.read_csv(\"/media/kmdr7/Seagate/TA/DATASETS/Malware.csv\")"
   ]
  },
  {
   "cell_type": "code",
   "execution_count": 6,
   "id": "8c383f76-5c81-4630-a412-49562514d90a",
   "metadata": {},
   "outputs": [
    {
     "name": "stdout",
     "output_type": "stream",
     "text": [
      "(632212, 78)\n",
      "(743369, 78)\n"
     ]
    }
   ],
   "source": [
    "print(benign.shape)\n",
    "print(malware.shape)"
   ]
  },
  {
   "cell_type": "code",
   "execution_count": 5,
   "id": "297fc1e1-3569-4d1f-9ff6-3ce19ee2110a",
   "metadata": {},
   "outputs": [],
   "source": [
    "dataset = pd.concat([benign, malware])"
   ]
  },
  {
   "cell_type": "code",
   "execution_count": 7,
   "id": "ea2fc147-c956-4050-9ae9-0836c0aa205c",
   "metadata": {},
   "outputs": [
    {
     "data": {
      "text/plain": [
       "(1375581, 78)"
      ]
     },
     "execution_count": 7,
     "metadata": {},
     "output_type": "execute_result"
    }
   ],
   "source": [
    "dataset.shape"
   ]
  },
  {
   "cell_type": "code",
   "execution_count": 8,
   "id": "51daa7d8-888b-4029-a829-ae3bcbbebffc",
   "metadata": {},
   "outputs": [],
   "source": [
    "dataset.to_csv(\"/media/kmdr7/Seagate/TA/DATASETS/BigDataset.csv\", index=False)"
   ]
  }
 ],
 "metadata": {
  "kernelspec": {
   "display_name": "Python 3",
   "language": "python",
   "name": "python3"
  },
  "language_info": {
   "codemirror_mode": {
    "name": "ipython",
    "version": 3
   },
   "file_extension": ".py",
   "mimetype": "text/x-python",
   "name": "python",
   "nbconvert_exporter": "python",
   "pygments_lexer": "ipython3",
   "version": "3.8.10"
  }
 },
 "nbformat": 4,
 "nbformat_minor": 5
}
