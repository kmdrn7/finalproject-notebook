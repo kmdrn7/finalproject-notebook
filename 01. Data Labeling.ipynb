{
 "cells": [
  {
   "cell_type": "code",
   "execution_count": 1,
   "metadata": {},
   "outputs": [],
   "source": [
    "import pandas as pd"
   ]
  },
  {
   "cell_type": "code",
   "execution_count": 17,
   "metadata": {},
   "outputs": [],
   "source": [
    "# Baca semua dataset\n",
    "malware_dataset = pd.read_csv('/media/kmdr7/Seagate/DATASETS/IOT-23/Merged/miraii.csv')\n",
    "benign_dataset = pd.read_csv('/media/kmdr7/Seagate/DATASETS/IOT-23/Merged/benign.csv')\n",
    "dataset = pd.concat([malware_dataset, benign_dataset])"
   ]
  },
  {
   "cell_type": "code",
   "execution_count": 18,
   "metadata": {},
   "outputs": [
    {
     "data": {
      "text/plain": [
       "(17914, 78)"
      ]
     },
     "execution_count": 18,
     "metadata": {},
     "output_type": "execute_result"
    }
   ],
   "source": [
    "dataset.shape"
   ]
  },
  {
   "cell_type": "code",
   "execution_count": 19,
   "metadata": {},
   "outputs": [
    {
     "name": "stdout",
     "output_type": "stream",
     "text": [
      "Malware dataset: 6908\n",
      "Benign dataset: 11006\n",
      "Total dataset: 17914\n"
     ]
    }
   ],
   "source": [
    "print(\"Malware dataset: \" + str(len(malware_dataset)))\n",
    "print(\"Benign dataset: \" + str(len(benign_dataset)))\n",
    "print(\"Total dataset: \" + str(len(dataset)))"
   ]
  },
  {
   "cell_type": "code",
   "execution_count": 20,
   "metadata": {},
   "outputs": [],
   "source": [
    "# Simpan dataset kedalam bentuk csv\n",
    "dataset.to_csv(\"/media/kmdr7/Seagate/DATASETS/IOT-23/Merged/dataset.csv\", index=False)"
   ]
  }
 ],
 "metadata": {
  "kernelspec": {
   "display_name": "Python 3",
   "language": "python",
   "name": "python3"
  },
  "language_info": {
   "codemirror_mode": {
    "name": "ipython",
    "version": 3
   },
   "file_extension": ".py",
   "mimetype": "text/x-python",
   "name": "python",
   "nbconvert_exporter": "python",
   "pygments_lexer": "ipython3",
   "version": "3.8.10"
  }
 },
 "nbformat": 4,
 "nbformat_minor": 4
}
