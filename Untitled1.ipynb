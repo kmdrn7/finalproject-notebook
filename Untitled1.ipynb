{
 "cells": [
  {
   "cell_type": "code",
   "execution_count": 1,
   "id": "1d0adb28-4a65-4d42-a534-af57aeee7c97",
   "metadata": {},
   "outputs": [],
   "source": [
    "from nfstream import NFStreamer\n",
    "import pandas as pd"
   ]
  },
  {
   "cell_type": "code",
   "execution_count": null,
   "id": "808e8512-daf6-461a-8a6f-8433f3ceadba",
   "metadata": {},
   "outputs": [],
   "source": [
    "dataset = NFStreamer(\n",
    "    source=\"/media/kmdr7/Seagate/DATASETS/IOT-23/CTU-IoT-Malware-Capture-49-1/2019-02-28-20-50-15-192.168.1.193.pcap\",\n",
    "    statistical_analysis=True\n",
    ").to_pandas()"
   ]
  },
  {
   "cell_type": "code",
   "execution_count": null,
   "id": "b163be9b-d6cb-41c5-8bf1-1930af0a1bbf",
   "metadata": {},
   "outputs": [],
   "source": [
    "dataset"
   ]
  }
 ],
 "metadata": {
  "kernelspec": {
   "display_name": "Python 3",
   "language": "python",
   "name": "python3"
  },
  "language_info": {
   "codemirror_mode": {
    "name": "ipython",
    "version": 3
   },
   "file_extension": ".py",
   "mimetype": "text/x-python",
   "name": "python",
   "nbconvert_exporter": "python",
   "pygments_lexer": "ipython3",
   "version": "3.8.5"
  }
 },
 "nbformat": 4,
 "nbformat_minor": 5
}
