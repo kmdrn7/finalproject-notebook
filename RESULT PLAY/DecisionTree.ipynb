{
 "cells": [
  {
   "cell_type": "code",
   "execution_count": 1,
   "id": "fa43db31-70f4-4ab3-9dfc-0c5698746cce",
   "metadata": {},
   "outputs": [],
   "source": [
    "import pandas as pd\n",
    "import numpy as np\n",
    "from joblib import dump, load\n",
    "from sklearn.model_selection import train_test_split, cross_val_score\n",
    "from sklearn.model_selection import cross_val_score\n",
    "from sklearn.model_selection import RepeatedStratifiedKFold\n",
    "from sklearn.tree import DecisionTreeClassifier\n",
    "from sklearn.preprocessing import MinMaxScaler\n",
    "from sklearn.metrics import accuracy_score, recall_score, f1_score, precision_score, balanced_accuracy_score, roc_auc_score, confusion_matrix"
   ]
  },
  {
   "cell_type": "code",
   "execution_count": 2,
   "id": "fad5714f-c1b8-42a7-be31-110737f9b110",
   "metadata": {},
   "outputs": [],
   "source": [
    "cols = ['Label', 'SYN Flag Count', 'Fwd Seg Size Min', 'FWD Init Win Bytes',\n",
    "       'FIN Flag Count', 'Average Packet Size', 'Packet Length Mean',\n",
    "       'Packet Length Max', 'Protocol', 'Idle Max', 'Idle Mean', 'Idle Min',\n",
    "       'Flow Duration', 'Fwd IAT Total', 'Fwd Packet Length Max',\n",
    "       'Fwd Segment Size Avg', 'Fwd Packet Length Mean',\n",
    "       'Bwd Packet Length Mean', 'Bwd Segment Size Avg', 'Packet Length Std',\n",
    "       'Bwd IAT Total', 'Bwd Packet Length Max']"
   ]
  },
  {
   "cell_type": "code",
   "execution_count": 3,
   "id": "f07c68ac-4065-45db-b5c8-5c72388d2b26",
   "metadata": {},
   "outputs": [],
   "source": [
    "dataset = pd.read_csv(\"/media/kmdr7/Seagate/TA/DATASETS/newDatasetSampledEncoded.csv\")[cols]"
   ]
  },
  {
   "cell_type": "code",
   "execution_count": 4,
   "id": "9221e26c-9534-4850-b4f9-27b6ea737c40",
   "metadata": {},
   "outputs": [
    {
     "data": {
      "text/plain": [
       "(2000000, 22)"
      ]
     },
     "execution_count": 4,
     "metadata": {},
     "output_type": "execute_result"
    }
   ],
   "source": [
    "dataset.shape"
   ]
  },
  {
   "cell_type": "code",
   "execution_count": 5,
   "id": "823d88a8-d54c-4e7d-8ee8-02ca72c1fcc5",
   "metadata": {},
   "outputs": [],
   "source": [
    "X = dataset.drop(columns=[\"Label\"])\n",
    "y = dataset[\"Label\"]"
   ]
  },
  {
   "cell_type": "code",
   "execution_count": 6,
   "id": "473c84d0-260e-4771-9fc1-0345bd231777",
   "metadata": {},
   "outputs": [],
   "source": [
    "scaler = MinMaxScaler()\n",
    "X = pd.DataFrame(scaler.fit_transform(X), columns=X.columns)"
   ]
  },
  {
   "cell_type": "code",
   "execution_count": 7,
   "id": "a14aa52d-81ae-431c-99ff-8d88e5e9ffbd",
   "metadata": {},
   "outputs": [],
   "source": [
    "x_train, x_test, y_train, y_test = train_test_split(\n",
    "    X, y, test_size=1 / 7.0, random_state=1\n",
    ")"
   ]
  },
  {
   "cell_type": "code",
   "execution_count": 8,
   "id": "8314c0ad-c49e-4981-b24f-3dd92b77de72",
   "metadata": {},
   "outputs": [
    {
     "data": {
      "text/plain": [
       "DecisionTreeClassifier()"
      ]
     },
     "execution_count": 8,
     "metadata": {},
     "output_type": "execute_result"
    }
   ],
   "source": [
    "clf = DecisionTreeClassifier()\n",
    "clf.fit(x_train, y_train)"
   ]
  },
  {
   "cell_type": "code",
   "execution_count": 9,
   "id": "097992a0-04de-4947-8d03-cfc708b1c48d",
   "metadata": {},
   "outputs": [],
   "source": [
    "y_pred = clf.predict(x_test)"
   ]
  },
  {
   "cell_type": "code",
   "execution_count": 10,
   "id": "0be26309-f629-40e9-8510-446fe89b4a9e",
   "metadata": {},
   "outputs": [
    {
     "data": {
      "text/plain": [
       "0.9998110004724988"
      ]
     },
     "execution_count": 10,
     "metadata": {},
     "output_type": "execute_result"
    }
   ],
   "source": [
    "accuracy_score(y_test, y_pred)"
   ]
  },
  {
   "cell_type": "code",
   "execution_count": 11,
   "id": "5137cba3-23ff-4b62-a2ac-764d2ddd9cd3",
   "metadata": {},
   "outputs": [
    {
     "data": {
      "text/plain": [
       "array([142929,     27,     27, 142732])"
      ]
     },
     "execution_count": 11,
     "metadata": {},
     "output_type": "execute_result"
    }
   ],
   "source": [
    "confusion_matrix(y_test, y_pred).ravel()"
   ]
  },
  {
   "cell_type": "code",
   "execution_count": 12,
   "id": "64949505-12bc-47a6-a169-4039f50c3116",
   "metadata": {},
   "outputs": [
    {
     "data": {
      "text/plain": [
       "0.9998108700677365"
      ]
     },
     "execution_count": 12,
     "metadata": {},
     "output_type": "execute_result"
    }
   ],
   "source": [
    "recall_score(y_test, y_pred)"
   ]
  },
  {
   "cell_type": "code",
   "execution_count": 13,
   "id": "617c2cdb-8cae-44fe-9972-b5b24c6e3d85",
   "metadata": {},
   "outputs": [
    {
     "data": {
      "text/plain": [
       "0.9998108700677365"
      ]
     },
     "execution_count": 13,
     "metadata": {},
     "output_type": "execute_result"
    }
   ],
   "source": [
    "f1_score(y_test, y_pred)"
   ]
  },
  {
   "cell_type": "code",
   "execution_count": 14,
   "id": "33cd3bac-d906-4cbb-9258-cb93b7f88fb1",
   "metadata": {},
   "outputs": [
    {
     "data": {
      "text/plain": [
       "0.9998108700677365"
      ]
     },
     "execution_count": 14,
     "metadata": {},
     "output_type": "execute_result"
    }
   ],
   "source": [
    "precision_score(y_test, y_pred)"
   ]
  },
  {
   "cell_type": "code",
   "execution_count": 15,
   "id": "9afb0bf9-880a-4184-b3e5-d17050d6c47b",
   "metadata": {},
   "outputs": [
    {
     "data": {
      "text/plain": [
       "0.9998110003826469"
      ]
     },
     "execution_count": 15,
     "metadata": {},
     "output_type": "execute_result"
    }
   ],
   "source": [
    "roc_auc_score(y_test, y_pred)"
   ]
  },
  {
   "cell_type": "code",
   "execution_count": 16,
   "id": "4a819a6d-93a0-4a3a-b74e-1b0dd4018ab1",
   "metadata": {},
   "outputs": [
    {
     "data": {
      "text/plain": [
       "['/media/kmdr7/Seagate/TA/MODELS/DecisionTree.joblib']"
      ]
     },
     "execution_count": 16,
     "metadata": {},
     "output_type": "execute_result"
    }
   ],
   "source": [
    "dump(clf, \"/media/kmdr7/Seagate/TA/MODELS/DecisionTree.joblib\")"
   ]
  }
 ],
 "metadata": {
  "kernelspec": {
   "display_name": "Python 3",
   "language": "python",
   "name": "python3"
  },
  "language_info": {
   "codemirror_mode": {
    "name": "ipython",
    "version": 3
   },
   "file_extension": ".py",
   "mimetype": "text/x-python",
   "name": "python",
   "nbconvert_exporter": "python",
   "pygments_lexer": "ipython3",
   "version": "3.8.5"
  }
 },
 "nbformat": 4,
 "nbformat_minor": 5
}
