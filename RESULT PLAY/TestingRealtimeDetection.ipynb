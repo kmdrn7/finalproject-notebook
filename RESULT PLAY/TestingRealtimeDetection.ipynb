{
 "cells": [
  {
   "cell_type": "code",
   "execution_count": null,
   "id": "4901e092-ec62-4ce5-b955-c1f70fa6c717",
   "metadata": {},
   "outputs": [],
   "source": [
    "import pandas as pd\n",
    "import numpy as np\n",
    "import requests\n",
    "from glob import glob\n",
    "from joblib import dump, load\n",
    "from sklearn.preprocessing import MinMaxScaler, StandardScaler\n",
    "from sklearn.metrics import accuracy_score, recall_score, f1_score, precision_score, balanced_accuracy_score, roc_auc_score, confusion_matrix"
   ]
  },
  {
   "cell_type": "code",
   "execution_count": null,
   "id": "d36ed12a-88c8-4d76-a89f-f46ad410df40",
   "metadata": {},
   "outputs": [],
   "source": [
    "def get_csv(uri):\n",
    "    csvs = []\n",
    "    if \"*\" in uri:\n",
    "        all_csv = glob(uri)\n",
    "        [ csvs.append(pd.read_csv(uri)) for uri in all_csv ]\n",
    "        return pd.concat(csvs)\n",
    "    return pd.read_csv(uri)"
   ]
  },
  {
   "cell_type": "code",
   "execution_count": null,
   "id": "9eacb91c-1e63-4f96-9cb9-f56098f8bac8",
   "metadata": {},
   "outputs": [],
   "source": [
    "cols = ['Label', 'Protocol', 'Flow Duration', 'Fwd Packet Length Max',\n",
    "       'Fwd Packet Length Mean', 'Bwd Packet Length Mean', 'Fwd IAT Total',\n",
    "       'Bwd IAT Total', 'Packet Length Max', 'Packet Length Mean',\n",
    "       'Packet Length Std', 'FIN Flag Count', 'SYN Flag Count',\n",
    "       'Down/Up Ratio', 'Average Packet Size', 'Fwd Segment Size Avg',\n",
    "       'Bwd Segment Size Avg', 'FWD Init Win Bytes', 'Fwd Seg Size Min',\n",
    "       'Idle Mean', 'Idle Max', 'Idle Min']\n",
    "\n",
    "models = [\n",
    "#     {\"model\": \"ModelWithoutScaler/AdaBoost\"},\n",
    "#     {\"model\": \"ModelWithoutScaler/LogisticRegression\"},\n",
    "#     {\"model\": \"ModelWithoutScaler/RandomForest\"},\n",
    "#     {\"model\": \"ModelWithoutScaler/DecisionTree\"},\n",
    "#     {\"model\": \"ModelWithoutScaler/SVM\"},\n",
    "#     {\"model\": \"ModelWithoutScaler/ANN\"},\n",
    "    {\"model\": \"ModelWithoutScaler/XGBoost\"},\n",
    "#     {\"model\": \"ModelWithoutScaler/Bagging\"},\n",
    "]\n",
    "\n",
    "collection = [\n",
    "    {\"dataset\": \"Unseen Dataset\", \"path\": \"/media/kmdr7/Seagate/TA/DATASETS/newUnseenDataset.csv\", \"type\": -1},\n",
    "#     {\"dataset\": \"Malware 48-1 *\", \"path\": \"/media/kmdr7/Seagate/DATASETS/IOT-23/CTU-IoT-Malware-Capture-48-1/out2/*\", \"type\": 1},\n",
    "#     {\"dataset\": \"Benign IoTTT *\", \"path\": \"/media/kmdr7/Seagate/DATASETS/IoT-Traffic-Traces/out/*\", \"type\": 0},\n",
    "]\n",
    "\n",
    "scaler = MinMaxScaler()"
   ]
  },
  {
   "cell_type": "code",
   "execution_count": null,
   "id": "8a20894c-8395-4508-83f2-faed52d919d7",
   "metadata": {},
   "outputs": [],
   "source": [
    "clf = load(\"/media/kmdr7/Seagate/TA/MODELS/\" + models[0][\"model\"] + \".joblib\")\n",
    "datates = get_csv(collection[0][\"path\"])[cols]\n",
    "single = datates.iloc[1]"
   ]
  },
  {
   "cell_type": "code",
   "execution_count": null,
   "id": "565232b0-218a-4167-b46d-3b4e130ee259",
   "metadata": {},
   "outputs": [],
   "source": [
    "X = [single.drop(\"Label\").to_numpy()]\n",
    "y = [single[\"Label\"]]\n",
    "df = pd.DataFrame(X)\n",
    "clf.predict(df)"
   ]
  },
  {
   "cell_type": "code",
   "execution_count": null,
   "id": "11845b86-c857-485e-ad7e-cfe75d01b2c1",
   "metadata": {},
   "outputs": [],
   "source": [
    "for model in models:\n",
    "    \n",
    "    clf = load(\"/media/kmdr7/Seagate/TA/MODELS/\" + model[\"model\"] + \".joblib\")\n",
    "\n",
    "    for col in collection:\n",
    "        \n",
    "        y_real = []\n",
    "        y_pred = []\n",
    "        datates = get_csv(col[\"path\"])[cols]\n",
    "        if col[\"type\"] == 1:\n",
    "            datates[\"Label\"] = 1\n",
    "        elif col[\"type\"] == 0:\n",
    "            datates[\"Label\"] = 0\n",
    "\n",
    "        for i in datates.index:\n",
    "            single = datates.iloc[i]\n",
    "            X = [single.drop(\"Label\")]\n",
    "            y = [single[\"Label\"]]\n",
    "#             X = X.to_numpy()[0][:, np.newaxis]\n",
    "#             X = pd.DataFrame(scaler.fit_transform(X))\n",
    "#             X = np.transpose(X.values)\n",
    "            pred = clf.predict(X)\n",
    "            y_real.append(int(y[0]))\n",
    "            y_pred.append(int(pred[0]))\n",
    "\n",
    "        tn, fp, fn, tp = confusion_matrix(y_real, y_pred, labels=[0,1]).ravel()\n",
    "        acc = accuracy_score(y_real, y_pred, zero_division=0)\n",
    "        bacc = balanced_accuracy_score(y_real, y_pred, zero_division=0)\n",
    "        recall = recall_score(y_real, y_pred, zero_division=0)\n",
    "        f1 = f1_score(y_real, y_pred, zero_division=0)\n",
    "        precision = precision_score(y_real, y_pred, zero_division=0)\n",
    "        try: roc_auc = roc_auc_score(y_real, y_pred, zero_division=0)\n",
    "        except: roc_auc = 0\n",
    "            \n",
    "        requests.post(\n",
    "            \"http://localhost:8000/api/v1/realtime\",\n",
    "            json={\n",
    "                \"algorithm\": model[\"model\"],\n",
    "                \"matrix\": {\n",
    "                    \"tn\": float(tn),\n",
    "                    \"fp\": float(fp),\n",
    "                    \"fn\": float(fn),\n",
    "                    \"tp\": float(tp)\n",
    "                },\n",
    "                \"accuracy\": float(acc),\n",
    "                \"balanced_accuracy\": float(bacc),\n",
    "                \"recall\": float(recall),\n",
    "                \"f1\": float(f1),\n",
    "                \"precision\": float(precision),\n",
    "                \"roc_auc\": float(roc_auc),\n",
    "            }\n",
    "        )"
   ]
  }
 ],
 "metadata": {
  "kernelspec": {
   "display_name": "Python 3",
   "language": "python",
   "name": "python3"
  },
  "language_info": {
   "codemirror_mode": {
    "name": "ipython",
    "version": 3
   },
   "file_extension": ".py",
   "mimetype": "text/x-python",
   "name": "python",
   "nbconvert_exporter": "python",
   "pygments_lexer": "ipython3",
   "version": "3.8.10"
  }
 },
 "nbformat": 4,
 "nbformat_minor": 5
}
