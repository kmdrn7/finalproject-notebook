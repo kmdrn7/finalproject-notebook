{
 "cells": [
  {
   "cell_type": "code",
   "execution_count": 1,
   "id": "fa43db31-70f4-4ab3-9dfc-0c5698746cce",
   "metadata": {},
   "outputs": [],
   "source": [
    "import requests\n",
    "import pandas as pd\n",
    "import numpy as np\n",
    "from joblib import dump, load\n",
    "from sklearn.metrics import accuracy_score, recall_score, f1_score, precision_score, balanced_accuracy_score, roc_auc_score, confusion_matrix\n",
    "from sklearn.model_selection import train_test_split, cross_val_score\n",
    "from sklearn.preprocessing import MinMaxScaler, StandardScaler\n",
    "from sklearn.ensemble import AdaBoostClassifier, BaggingClassifier, RandomForestClassifier\n",
    "from sklearn.tree import DecisionTreeClassifier\n",
    "from sklearn.svm import SVC, LinearSVC\n",
    "from sklearn.neural_network import MLPClassifier\n",
    "from sklearn.linear_model import LogisticRegression\n",
    "from xgboost import XGBClassifier"
   ]
  },
  {
   "cell_type": "code",
   "execution_count": 2,
   "id": "26265228-6332-4c8f-8961-96a44ec2426f",
   "metadata": {},
   "outputs": [],
   "source": [
    "# cols = ['Label', 'SYN Flag Count', 'Fwd Seg Size Min', 'FWD Init Win Bytes',\n",
    "#        'FIN Flag Count', 'Average Packet Size', 'Packet Length Mean',\n",
    "#        'Packet Length Max', 'Protocol', 'Idle Max', 'Idle Mean', 'Idle Min',\n",
    "#        'Flow Duration', 'Fwd IAT Total', 'Fwd Packet Length Max',\n",
    "#        'Fwd Segment Size Avg', 'Fwd Packet Length Mean',\n",
    "#        'Bwd Packet Length Mean', 'Bwd Segment Size Avg', 'Packet Length Std',\n",
    "#        'Bwd IAT Total', 'Bwd Packet Length Max']\n",
    "\n",
    "cols = ['Label', 'Protocol', 'Flow Duration', 'Fwd Packet Length Max',\n",
    "       'Fwd Packet Length Mean', 'Bwd Packet Length Mean', 'Fwd IAT Total',\n",
    "       'Bwd IAT Total', 'Packet Length Max', 'Packet Length Mean',\n",
    "       'Packet Length Std', 'FIN Flag Count', 'SYN Flag Count',\n",
    "       'Down/Up Ratio', 'Average Packet Size', 'Fwd Segment Size Avg',\n",
    "       'Bwd Segment Size Avg', 'FWD Init Win Bytes', 'Fwd Seg Size Min',\n",
    "       'Idle Mean', 'Idle Max', 'Idle Min']\n",
    "\n",
    "collection = [\n",
    "    {\"clf\": AdaBoostClassifier(), \"model\": \"AdaBoost\"},\n",
    "    {\"clf\": DecisionTreeClassifier(criterion=\"entropy\"), \"model\": \"DecisionTree\"},\n",
    "    {\"clf\": LinearSVC(), \"model\": \"SVM\"},\n",
    "    {\"clf\": MLPClassifier(hidden_layer_sizes=(10, 10, 10), max_iter=1000), \"model\": \"ANN\"},\n",
    "    {\"clf\": LogisticRegression(solver='newton-cg'), \"model\": \"LogisticRegression\"},\n",
    "    {\"clf\": RandomForestClassifier(), \"model\": \"RandomForest\"},\n",
    "    {\"clf\": XGBClassifier(use_label_encoder=False), \"model\": \"XGBoost\"},\n",
    "    {\"clf\": BaggingClassifier(), \"model\": \"Bagging\"},\n",
    "]"
   ]
  },
  {
   "cell_type": "code",
   "execution_count": 3,
   "id": "d1d67200-17e3-4cf5-abc8-9a49a408ed22",
   "metadata": {},
   "outputs": [
    {
     "data": {
      "text/plain": [
       "22"
      ]
     },
     "execution_count": 3,
     "metadata": {},
     "output_type": "execute_result"
    }
   ],
   "source": [
    "len(cols)"
   ]
  },
  {
   "cell_type": "code",
   "execution_count": 4,
   "id": "f07c68ac-4065-45db-b5c8-5c72388d2b26",
   "metadata": {},
   "outputs": [],
   "source": [
    "dataset = pd.read_csv(\"/media/kmdr7/Seagate/TA/DATASETS/newDatasetSampledEncoded.csv\")[cols]\n",
    "\n",
    "X = dataset.drop(columns=[\"Label\"])\n",
    "y = dataset[\"Label\"]\n",
    "\n",
    "scaler = StandardScaler()\n",
    "X = pd.DataFrame(scaler.fit_transform(X), columns=X.columns)\n",
    "\n",
    "x_train, x_test, y_train, y_test = train_test_split(\n",
    "    X, y, test_size=1 / 7.0, random_state=1\n",
    ")"
   ]
  },
  {
   "cell_type": "code",
   "execution_count": 30,
   "id": "6a78f876-8200-4536-986e-849396bbba7e",
   "metadata": {},
   "outputs": [
    {
     "data": {
      "text/plain": [
       "array([1.00000000e+00, 6.00000000e+00, 1.97285100e+06, 1.49000000e+02,\n",
       "       1.79518072e+00, 1.40887425e+03, 1.84142800e+06, 1.84094200e+06,\n",
       "       1.44800000e+03, 7.05329341e+02, 7.22955645e+02, 1.00000000e+00,\n",
       "       4.00000000e+00, 1.00000000e+00, 7.07447447e+02, 1.79518072e+00,\n",
       "       1.40887425e+03, 2.92000000e+04, 3.20000000e+01, 0.00000000e+00,\n",
       "       0.00000000e+00, 0.00000000e+00])"
      ]
     },
     "execution_count": 30,
     "metadata": {},
     "output_type": "execute_result"
    }
   ],
   "source": [
    "dataset.to_numpy()[0]"
   ]
  },
  {
   "cell_type": "code",
   "execution_count": 32,
   "id": "dfca72d6-218a-472b-91db-853f65dc84ab",
   "metadata": {},
   "outputs": [
    {
     "data": {
      "text/plain": [
       "[[-0.40000490065737887,\n",
       "  -0.39999716905414845,\n",
       "  2.6506537859660377,\n",
       "  -0.3997760452017587,\n",
       "  -0.40000367105300966,\n",
       "  -0.3978278756352014,\n",
       "  2.4474316876959668,\n",
       "  2.4466801758619705,\n",
       "  -0.3977673746824978,\n",
       "  -0.3989157816552583,\n",
       "  -0.3988885257384472,\n",
       "  -0.40000490065737887,\n",
       "  -0.4000002616954406,\n",
       "  -0.40000490065737887,\n",
       "  -0.3989125063840187,\n",
       "  -0.40000367105300966,\n",
       "  -0.3978278756352014,\n",
       "  -0.3548538841124225,\n",
       "  -0.3999569647173503,\n",
       "  -0.40000644697802495,\n",
       "  -0.40000644697802495,\n",
       "  -0.40000644697802495]]"
      ]
     },
     "execution_count": 32,
     "metadata": {},
     "output_type": "execute_result"
    }
   ],
   "source": [
    "np.transpose(scaler.fit_transform(dataset.to_numpy()[0][:, np.newaxis])).tolist()\n",
    "# print(newds.max())\n",
    "# print(newds.min())\n",
    "# newds"
   ]
  },
  {
   "cell_type": "code",
   "execution_count": 28,
   "id": "70d8669d-8d86-4845-bf0a-45985f83c262",
   "metadata": {},
   "outputs": [
    {
     "name": "stdout",
     "output_type": "stream",
     "text": [
      "228.13263022232954\n",
      "-2.290842827715566\n"
     ]
    }
   ],
   "source": [
    "newds = scaler.fit_transform(dataset.to_numpy())\n",
    "print(newds.max())\n",
    "print(newds.min())"
   ]
  },
  {
   "cell_type": "code",
   "execution_count": null,
   "id": "20e32e78-a213-4252-be9a-c9def696ac4e",
   "metadata": {},
   "outputs": [],
   "source": [
    "for col in collection:\n",
    "    clf = col[\"clf\"]\n",
    "    clf.fit(x_train, y_train)\n",
    "    y_pred = clf.predict(x_test)\n",
    "\n",
    "    tn, fp, fn, tp = confusion_matrix(y_test, y_pred).ravel()\n",
    "    acc = accuracy_score(y_test, y_pred)\n",
    "    bacc = balanced_accuracy_score(y_test, y_pred)\n",
    "    recall = recall_score(y_test, y_pred)\n",
    "    f1 = f1_score(y_test, y_pred)\n",
    "    precision = precision_score(y_test, y_pred)\n",
    "    try: roc_auc = roc_auc_score(y_test, y_pred)\n",
    "    except: roc_auc = 0\n",
    "    \n",
    "    dump(clf, \"/media/kmdr7/Seagate/TA/MODELS/ModelMinMax/\" + col[\"model\"] + \".joblib\")\n",
    "    \n",
    "    requests.post(\n",
    "        \"http://localhost:8000/api/v1/training\",\n",
    "        json={\n",
    "            \"code\": \"005-WithMinMaxScaler\",\n",
    "            \"algorithm\": col[\"model\"],\n",
    "            \"dataset\": \"IoT-23 Mirai 48-1 + IoT Traffic Traces\",\n",
    "            \"matrix\": {\n",
    "                \"tn\": float(tn),\n",
    "                \"fp\": float(fp),\n",
    "                \"fn\": float(fn),\n",
    "                \"tp\": float(tp)\n",
    "            },\n",
    "            \"accuracy\": float(acc),\n",
    "            \"balanced_accuracy\": float(bacc),\n",
    "            \"recall\": float(recall),\n",
    "            \"f1\": float(f1),\n",
    "            \"precision\": float(precision),\n",
    "            \"roc_auc\": float(roc_auc),\n",
    "        }\n",
    "    )"
   ]
  }
 ],
 "metadata": {
  "kernelspec": {
   "display_name": "Python 3",
   "language": "python",
   "name": "python3"
  },
  "language_info": {
   "codemirror_mode": {
    "name": "ipython",
    "version": 3
   },
   "file_extension": ".py",
   "mimetype": "text/x-python",
   "name": "python",
   "nbconvert_exporter": "python",
   "pygments_lexer": "ipython3",
   "version": "3.8.5"
  }
 },
 "nbformat": 4,
 "nbformat_minor": 5
}
