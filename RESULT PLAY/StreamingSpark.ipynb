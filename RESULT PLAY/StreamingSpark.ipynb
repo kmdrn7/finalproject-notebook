{
 "cells": [
  {
   "cell_type": "code",
   "execution_count": 1,
   "id": "40efb21b-f59f-4ea7-8e11-709b6e8ce7f9",
   "metadata": {},
   "outputs": [],
   "source": [
    "import json\n",
    "import pyspark\n",
    "import numpy as np\n",
    "import pandas as pd\n",
    "import pyspark.sql.functions as F\n",
    "from joblib import dump, load\n",
    "from pyspark.sql import SparkSession\n",
    "from pyspark.sql.types import *\n",
    "from pyspark.ml.linalg import Vectors, VectorUDT\n",
    "from pyspark.ml.feature import VectorAssembler, StandardScaler \n",
    "from pyspark.sql.functions import from_utc_timestamp"
   ]
  },
  {
   "cell_type": "code",
   "execution_count": 2,
   "id": "e4699d4c-c8e7-4560-a7c2-27d1f7e4ce94",
   "metadata": {},
   "outputs": [],
   "source": [
    "spark = (SparkSession\n",
    "         .builder\n",
    "         .master('spark://192.168.100.38:7077')\n",
    "         .appName('MalwareDetection')\n",
    "         .config(\"spark.jars.packages\", \"org.mongodb.spark:mongo-spark-connector_2.12:3.0.1,org.apache.spark:spark-sql-kafka-0-10_2.12:3.1.1\")\n",
    "         .config(\"spark.mongodb.input.uri\",\"mongodb://ta:ta@192.168.100.29:27018/MalwareDetection.data?authSource=admin\")\n",
    "         .config(\"spark.mongodb.output.uri\",\"mongodb://ta:ta@192.168.100.29:27018/MalwareDetection.data?authSource=admin\")\n",
    "         .getOrCreate())\n",
    "\n",
    "spark.conf.set(\"spark.sql.caseSensitive\", \"true\")\n",
    "\n",
    "sc = spark.sparkContext"
   ]
  },
  {
   "cell_type": "code",
   "execution_count": 3,
   "id": "00297185-30c4-4b11-9747-825a6106b069",
   "metadata": {},
   "outputs": [],
   "source": [
    "model = \"/media/kmdr7/Seagate/TA/MODELS/ModelWithoutScaler/RandomForest.joblib\""
   ]
  },
  {
   "cell_type": "code",
   "execution_count": null,
   "id": "d9df29a7-e9fa-46d1-9204-5e3642838329",
   "metadata": {},
   "outputs": [],
   "source": [
    "schema = spark.read.load(\"hdfs://lab-1:9000/schema/schema.json\", format=\"json\")"
   ]
  },
  {
   "cell_type": "code",
   "execution_count": null,
   "id": "d0779e5e-6128-48cd-a34c-24095417759b",
   "metadata": {},
   "outputs": [],
   "source": [
    "raw = spark.readStream.format(\"kafka\").option(\"kafka.bootstrap.servers\", \"192.168.100.29:19092\").option(\"subscribe\", \"netflow_formatted\").option(\"startingOffsets\", \"latest\").load()"
   ]
  },
  {
   "cell_type": "code",
   "execution_count": null,
   "id": "960d9bf6-7ac5-4843-9448-68a2022e1ae6",
   "metadata": {},
   "outputs": [],
   "source": [
    "parsed = raw.selectExpr(\"cast (value as string) as json\").select(F.from_json(\"json\",schema.schema).alias(\"data\")).select(\"data.*\")"
   ]
  },
  {
   "cell_type": "code",
   "execution_count": null,
   "id": "7babf579-1306-430a-a9ae-66e14fe45720",
   "metadata": {},
   "outputs": [],
   "source": [
    "parsed.schema"
   ]
  },
  {
   "cell_type": "code",
   "execution_count": null,
   "id": "ef345219-7d96-4e6b-bc3f-4b6f7f53c419",
   "metadata": {},
   "outputs": [],
   "source": [
    "# stream = raw.writeStream.foreachBatch(lambda df, epoch_id: print(df, epoch_id)).start()\n",
    "# stream.awaitTermination()"
   ]
  }
 ],
 "metadata": {
  "kernelspec": {
   "display_name": "Python 3",
   "language": "python",
   "name": "python3"
  },
  "language_info": {
   "codemirror_mode": {
    "name": "ipython",
    "version": 3
   },
   "file_extension": ".py",
   "mimetype": "text/x-python",
   "name": "python",
   "nbconvert_exporter": "python",
   "pygments_lexer": "ipython3",
   "version": "3.8.5"
  }
 },
 "nbformat": 4,
 "nbformat_minor": 5
}
