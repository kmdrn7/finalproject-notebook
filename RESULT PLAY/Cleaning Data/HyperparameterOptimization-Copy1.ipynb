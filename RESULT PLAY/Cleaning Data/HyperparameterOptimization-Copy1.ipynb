{
 "cells": [
  {
   "cell_type": "code",
   "execution_count": 1,
   "id": "248a4235-9abe-4d9b-9b86-c4df03a8c3dc",
   "metadata": {},
   "outputs": [],
   "source": [
    "import pandas as pd\n",
    "import numpy as np\n",
    "from joblib import dump, load\n",
    "from scipy.stats import uniform\n",
    "from sklearn.linear_model import LogisticRegression\n",
    "from sklearn.metrics import accuracy_score, recall_score, f1_score, precision_score, balanced_accuracy_score, roc_auc_score, confusion_matrix\n",
    "from sklearn.model_selection import train_test_split, cross_val_score, RandomizedSearchCV, RepeatedStratifiedKFold\n",
    "from sklearn.preprocessing import MinMaxScaler"
   ]
  },
  {
   "cell_type": "code",
   "execution_count": 2,
   "id": "190d4c33-fe08-41e2-b669-b6c8dffee3ed",
   "metadata": {},
   "outputs": [],
   "source": [
    "datasets = [\n",
    "    {\"dataset\": \"10\", \"path\": \"/media/kmdr7/Seagate/TA/DATASETS/Preparation/Feature Importance/Dataset10.csv\"},\n",
    "    {\"dataset\": \"13\", \"path\": \"/media/kmdr7/Seagate/TA/DATASETS/Preparation/Feature Importance/Dataset13.csv\"},\n",
    "    {\"dataset\": \"15\", \"path\": \"/media/kmdr7/Seagate/TA/DATASETS/Preparation/Feature Importance/Dataset15.csv\"},\n",
    "    {\"dataset\": \"17\", \"path\": \"/media/kmdr7/Seagate/TA/DATASETS/Preparation/Feature Importance/Dataset17.csv\"},\n",
    "    {\"dataset\": \"20\", \"path\": \"/media/kmdr7/Seagate/TA/DATASETS/Preparation/Feature Importance/Dataset20.csv\"},\n",
    "]\n",
    "\n",
    "mls = [\n",
    "    {\"clf\": AdaBoostClassifier(), \"model\": \"AdaBoost\"},\n",
    "    {\"clf\": DecisionTreeClassifier(criterion=\"entropy\"), \"model\": \"DecisionTree\"},\n",
    "    {\"clf\": LinearSVC(), \"model\": \"SVM\"},\n",
    "    {\"clf\": MLPClassifier(hidden_layer_sizes=(10, 10, 10), max_iter=1000), \"model\": \"ANN\"},\n",
    "    {\"clf\": LogisticRegression(solver='newton-cg'), \"model\": \"LogisticRegression\"},\n",
    "    {\"clf\": RandomForestClassifier(), \"model\": \"RandomForest\"},\n",
    "    {\"clf\": XGBClassifier(use_label_encoder=False), \"model\": \"XGBoost\"},\n",
    "    {\"clf\": BaggingClassifier(), \"model\": \"Bagging\"},\n",
    "]"
   ]
  },
  {
   "cell_type": "code",
   "execution_count": 3,
   "id": "6b2866ff-0116-4f74-9d7c-78497f2b87eb",
   "metadata": {},
   "outputs": [],
   "source": [
    "dataset = pd.read_csv(\"/media/kmdr7/Seagate/TA/DATASETS/newDatasetSampledEncoded.csv\")[cols]"
   ]
  },
  {
   "cell_type": "code",
   "execution_count": 4,
   "id": "83743891-4a79-4be5-adcf-749ba29681d4",
   "metadata": {},
   "outputs": [],
   "source": [
    "X = dataset.drop(columns=[\"Label\"])\n",
    "y = dataset[\"Label\"]"
   ]
  },
  {
   "cell_type": "code",
   "execution_count": 5,
   "id": "ccac0714-8455-481a-9b40-b79722ec06db",
   "metadata": {},
   "outputs": [],
   "source": [
    "scaler = MinMaxScaler()\n",
    "X = pd.DataFrame(scaler.fit_transform(X), columns=X.columns)"
   ]
  },
  {
   "cell_type": "code",
   "execution_count": 6,
   "id": "72deaa4d-0b23-49bc-a8ee-cebeb02eeaa6",
   "metadata": {},
   "outputs": [],
   "source": [
    "estimator = LogisticRegression(solver='saga', tol=1e-2, max_iter=200, random_state=0)\n",
    "distributions = dict(C=uniform(loc=0, scale=4), penalty=['l2', 'l1'])"
   ]
  },
  {
   "cell_type": "code",
   "execution_count": 7,
   "id": "04fc6330-6374-47c3-8365-9043ee0bc8e9",
   "metadata": {},
   "outputs": [],
   "source": [
    "clf = RandomizedSearchCV(estimator, distributions, random_state=0, n_jobs=6)\n",
    "search = clf.fit(X, y)"
   ]
  },
  {
   "cell_type": "code",
   "execution_count": 8,
   "id": "fd8ea1e3-5fb2-4d96-8706-0e0deee3e846",
   "metadata": {},
   "outputs": [
    {
     "data": {
      "text/plain": [
       "{'C': 0.22685190926977272, 'penalty': 'l2'}"
      ]
     },
     "execution_count": 8,
     "metadata": {},
     "output_type": "execute_result"
    }
   ],
   "source": [
    "search.best_params_"
   ]
  }
 ],
 "metadata": {
  "kernelspec": {
   "display_name": "Python 3",
   "language": "python",
   "name": "python3"
  },
  "language_info": {
   "codemirror_mode": {
    "name": "ipython",
    "version": 3
   },
   "file_extension": ".py",
   "mimetype": "text/x-python",
   "name": "python",
   "nbconvert_exporter": "python",
   "pygments_lexer": "ipython3",
   "version": "3.8.5"
  }
 },
 "nbformat": 4,
 "nbformat_minor": 5
}
