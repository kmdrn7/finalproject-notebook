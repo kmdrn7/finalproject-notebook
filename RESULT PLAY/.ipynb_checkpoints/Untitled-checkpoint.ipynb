{
 "cells": [
  {
   "cell_type": "code",
   "execution_count": 1,
   "id": "ea44aa25-3484-4a44-ba9e-63c6eb87a9fd",
   "metadata": {},
   "outputs": [],
   "source": [
    "# Evaluate adaboost algorithm for classification\n",
    "import pandas as pd\n",
    "# from numpy import mean\n",
    "# from numpy import std\n",
    "# import numpy as np\n",
    "# from sklearn.datasets import make_classification\n",
    "# from sklearn.feature_selection import VarianceThreshold\n",
    "# from sklearn.model_selection import cross_val_score\n",
    "# from sklearn.model_selection import RepeatedStratifiedKFold\n",
    "# from sklearn.ensemble import AdaBoostClassifier\n",
    "# from sklearn.tree import DecisionTreeClassifier\n",
    "# from sklearn.preprocessing import MinMaxScaler\n",
    "# from sklearn.metrics import accuracy_score, recall_score, f1_score, precision_score, balanced_accuracy_score, roc_auc_score, confusion_matrix\n",
    "\n",
    "# from pycaret.datasets import get_data\n",
    "# from pycaret.classification import * "
   ]
  },
  {
   "cell_type": "code",
   "execution_count": 2,
   "id": "bc8e92a9-1d92-4f1d-9741-fbe1c832a0d1",
   "metadata": {},
   "outputs": [],
   "source": [
    "dataset = pd.read_csv(\"/media/kmdr7/Seagate/TA/DATASETS/newDatasetSampledEncoded.csv\")"
   ]
  }
 ],
 "metadata": {
  "kernelspec": {
   "display_name": "Python 3",
   "language": "python",
   "name": "python3"
  },
  "language_info": {
   "codemirror_mode": {
    "name": "ipython",
    "version": 3
   },
   "file_extension": ".py",
   "mimetype": "text/x-python",
   "name": "python",
   "nbconvert_exporter": "python",
   "pygments_lexer": "ipython3",
   "version": "3.8.5"
  }
 },
 "nbformat": 4,
 "nbformat_minor": 5
}
