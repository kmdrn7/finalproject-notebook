{
 "cells": [
  {
   "cell_type": "code",
   "execution_count": 1,
   "id": "fa43db31-70f4-4ab3-9dfc-0c5698746cce",
   "metadata": {},
   "outputs": [],
   "source": [
    "import requests\n",
    "import pandas as pd\n",
    "import numpy as np\n",
    "from joblib import dump, load\n",
    "from sklearn.metrics import accuracy_score, recall_score, f1_score, precision_score, balanced_accuracy_score, roc_auc_score, confusion_matrix\n",
    "from sklearn.model_selection import train_test_split, cross_val_score\n",
    "from sklearn.preprocessing import MinMaxScaler, StandardScaler\n",
    "from sklearn.ensemble import AdaBoostClassifier, BaggingClassifier, RandomForestClassifier\n",
    "from sklearn.tree import DecisionTreeClassifier\n",
    "from sklearn.svm import SVC, LinearSVC\n",
    "from sklearn.neural_network import MLPClassifier\n",
    "from sklearn.linear_model import LogisticRegression\n",
    "from xgboost import XGBClassifier"
   ]
  },
  {
   "cell_type": "code",
   "execution_count": 2,
   "id": "26265228-6332-4c8f-8961-96a44ec2426f",
   "metadata": {},
   "outputs": [],
   "source": [
    "# cols = ['Label', 'SYN Flag Count', 'Fwd Seg Size Min', 'FWD Init Win Bytes',\n",
    "#        'FIN Flag Count', 'Average Packet Size', 'Packet Length Mean',\n",
    "#        'Packet Length Max', 'Protocol', 'Idle Max', 'Idle Mean', 'Idle Min',\n",
    "#        'Flow Duration', 'Fwd IAT Total', 'Fwd Packet Length Max',\n",
    "#        'Fwd Segment Size Avg', 'Fwd Packet Length Mean',\n",
    "#        'Bwd Packet Length Mean', 'Bwd Segment Size Avg', 'Packet Length Std',\n",
    "#        'Bwd IAT Total', 'Bwd Packet Length Max']\n",
    "\n",
    "cols = ['Label', 'Protocol', 'Flow Duration', 'Fwd Packet Length Max',\n",
    "       'Fwd Packet Length Mean', 'Bwd Packet Length Mean', 'Fwd IAT Total',\n",
    "       'Bwd IAT Total', 'Packet Length Max', 'Packet Length Mean',\n",
    "       'Packet Length Std', 'FIN Flag Count', 'SYN Flag Count',\n",
    "       'Down/Up Ratio', 'Average Packet Size', 'Fwd Segment Size Avg',\n",
    "       'Bwd Segment Size Avg', 'FWD Init Win Bytes', 'Fwd Seg Size Min',\n",
    "       'Idle Mean', 'Idle Max', 'Idle Min']\n",
    "\n",
    "collection = [\n",
    "    {\"clf\": AdaBoostClassifier(), \"model\": \"AdaBoost\"},\n",
    "    {\"clf\": DecisionTreeClassifier(criterion=\"entropy\"), \"model\": \"DecisionTree\"},\n",
    "    {\"clf\": LinearSVC(), \"model\": \"SVM\"},\n",
    "    {\"clf\": MLPClassifier(hidden_layer_sizes=(10, 10, 10), max_iter=1000), \"model\": \"ANN\"},\n",
    "    {\"clf\": LogisticRegression(solver='newton-cg'), \"model\": \"LogisticRegression\"},\n",
    "    {\"clf\": RandomForestClassifier(), \"model\": \"RandomForest\"},\n",
    "    {\"clf\": XGBClassifier(use_label_encoder=False), \"model\": \"XGBoost\"},\n",
    "    {\"clf\": BaggingClassifier(), \"model\": \"Bagging\"},\n",
    "]"
   ]
  },
  {
   "cell_type": "code",
   "execution_count": 3,
   "id": "f07c68ac-4065-45db-b5c8-5c72388d2b26",
   "metadata": {},
   "outputs": [],
   "source": [
    "dataset = pd.read_csv(\"/media/kmdr7/Seagate/TA/DATASETS/newDatasetSampledEncoded.csv\")[cols]\n",
    "\n",
    "X = dataset.drop(columns=[\"Label\"])\n",
    "y = dataset[\"Label\"]\n",
    "\n",
    "scaler = MinMaxScaler()\n",
    "X = pd.DataFrame(scaler.fit_transform(X), columns=X.columns)\n",
    "\n",
    "x_train, x_test, y_train, y_test = train_test_split(\n",
    "    X, y, test_size=1 / 7.0, random_state=1\n",
    ")"
   ]
  },
  {
   "cell_type": "code",
   "execution_count": 4,
   "id": "20e32e78-a213-4252-be9a-c9def696ac4e",
   "metadata": {},
   "outputs": [
    {
     "name": "stdout",
     "output_type": "stream",
     "text": [
      "[00:43:45] WARNING: ../src/learner.cc:1095: Starting in XGBoost 1.3.0, the default evaluation metric used with the objective 'binary:logistic' was changed from 'error' to 'logloss'. Explicitly set eval_metric if you'd like to restore the old behavior.\n"
     ]
    }
   ],
   "source": [
    "for col in collection:\n",
    "    clf = col[\"clf\"]\n",
    "    clf.fit(x_train, y_train)\n",
    "    y_pred = clf.predict(x_test)\n",
    "\n",
    "    tn, fp, fn, tp = confusion_matrix(y_test, y_pred).ravel()\n",
    "    acc = accuracy_score(y_test, y_pred)\n",
    "    bacc = balanced_accuracy_score(y_test, y_pred)\n",
    "    recall = recall_score(y_test, y_pred)\n",
    "    f1 = f1_score(y_test, y_pred)\n",
    "    precision = precision_score(y_test, y_pred)\n",
    "    try: roc_auc = roc_auc_score(y_test, y_pred)\n",
    "    except: roc_auc = 0\n",
    "    \n",
    "    dump(clf, \"/media/kmdr7/Seagate/TA/MODELS/ModelMinMax/\" + col[\"model\"] + \".joblib\")\n",
    "    \n",
    "    requests.post(\n",
    "        \"http://localhost:8000/api/v1/training\",\n",
    "        json={\n",
    "            \"code\": \"005-WithMinMaxScaler\",\n",
    "            \"algorithm\": col[\"model\"],\n",
    "            \"dataset\": \"IoT-23 Mirai 48-1 + IoT Traffic Traces\",\n",
    "            \"matrix\": {\n",
    "                \"tn\": float(tn),\n",
    "                \"fp\": float(fp),\n",
    "                \"fn\": float(fn),\n",
    "                \"tp\": float(tp)\n",
    "            },\n",
    "            \"accuracy\": float(acc),\n",
    "            \"balanced_accuracy\": float(bacc),\n",
    "            \"recall\": float(recall),\n",
    "            \"f1\": float(f1),\n",
    "            \"precision\": float(precision),\n",
    "            \"roc_auc\": float(roc_auc),\n",
    "        }\n",
    "    )"
   ]
  }
 ],
 "metadata": {
  "kernelspec": {
   "display_name": "Python 3",
   "language": "python",
   "name": "python3"
  },
  "language_info": {
   "codemirror_mode": {
    "name": "ipython",
    "version": 3
   },
   "file_extension": ".py",
   "mimetype": "text/x-python",
   "name": "python",
   "nbconvert_exporter": "python",
   "pygments_lexer": "ipython3",
   "version": "3.8.5"
  }
 },
 "nbformat": 4,
 "nbformat_minor": 5
}
