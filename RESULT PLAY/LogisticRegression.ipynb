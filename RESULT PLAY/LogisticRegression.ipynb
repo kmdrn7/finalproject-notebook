{
 "cells": [
  {
   "cell_type": "code",
   "execution_count": 2,
   "id": "fa43db31-70f4-4ab3-9dfc-0c5698746cce",
   "metadata": {},
   "outputs": [],
   "source": [
    "# Evaluate adaboost algorithm for classification\n",
    "import pandas as pd\n",
    "from numpy import mean\n",
    "from numpy import std\n",
    "import numpy as np\n",
    "from sklearn.datasets import make_classification\n",
    "from sklearn.feature_selection import VarianceThreshold\n",
    "from sklearn.model_selection import cross_val_score\n",
    "from sklearn.model_selection import RepeatedStratifiedKFold\n",
    "from sklearn.ensemble import AdaBoostClassifier\n",
    "from sklearn.linear_model import LogisticRegression\n",
    "from sklearn.preprocessing import MinMaxScaler\n",
    "from sklearn.metrics import accuracy_score, recall_score, f1_score, precision_score, balanced_accuracy_score, roc_auc_score, confusion_matrix"
   ]
  },
  {
   "cell_type": "code",
   "execution_count": 3,
   "id": "38cbcf9a-3c63-402b-a8f9-7bc19777686d",
   "metadata": {},
   "outputs": [],
   "source": [
    "from joblib import dump, load\n",
    "from sklearn.model_selection import train_test_split, cross_val_score"
   ]
  },
  {
   "cell_type": "code",
   "execution_count": 3,
   "id": "f07c68ac-4065-45db-b5c8-5c72388d2b26",
   "metadata": {},
   "outputs": [],
   "source": [
    "dataset = pd.read_csv(\"/media/kmdr7/Seagate/TA/DATASETS/newDatasetSampledEncoded.csv\")"
   ]
  },
  {
   "cell_type": "code",
   "execution_count": 4,
   "id": "9221e26c-9534-4850-b4f9-27b6ea737c40",
   "metadata": {},
   "outputs": [
    {
     "data": {
      "text/plain": [
       "(2000000, 78)"
      ]
     },
     "execution_count": 4,
     "metadata": {},
     "output_type": "execute_result"
    }
   ],
   "source": [
    "dataset.shape"
   ]
  },
  {
   "cell_type": "code",
   "execution_count": 5,
   "id": "823d88a8-d54c-4e7d-8ee8-02ca72c1fcc5",
   "metadata": {},
   "outputs": [],
   "source": [
    "X = dataset.drop(columns=[\"Label\"])\n",
    "y = dataset[\"Label\"]"
   ]
  },
  {
   "cell_type": "code",
   "execution_count": 6,
   "id": "595a4be4-39ae-4d84-859a-1c375cf96bdb",
   "metadata": {},
   "outputs": [],
   "source": [
    "# cv = RepeatedStratifiedKFold(n_splits=2, n_repeats=1, random_state=1)\n",
    "# model = DecisionTreeClassifier()\n",
    "# cross_val_score(model, X, y, scoring='precision', cv=cv, n_jobs=6)"
   ]
  },
  {
   "cell_type": "code",
   "execution_count": 7,
   "id": "473c84d0-260e-4771-9fc1-0345bd231777",
   "metadata": {},
   "outputs": [],
   "source": [
    "scaler = MinMaxScaler()\n",
    "X = pd.DataFrame(scaler.fit_transform(X), columns=X.columns)"
   ]
  },
  {
   "cell_type": "code",
   "execution_count": 8,
   "id": "48444d1c-b663-4a9f-a2ff-0057b57b5ecf",
   "metadata": {},
   "outputs": [],
   "source": [
    "lv = VarianceThreshold(threshold=0.003)\n",
    "lv.fit_transform(X)\n",
    "filtered_cols = X.drop(\n",
    "    columns=X.columns[lv.get_support()].array\n",
    ").columns.array\n",
    "newds = X.drop(columns=filtered_cols)\n",
    "newds[\"Label\"] = dataset[\"Label\"]\n",
    "cor = newds.corr()\n",
    "cor_target = abs(cor[\"Label\"])\n",
    "relevant_features = cor_target[cor_target > 0.3]\n",
    "all_feature = set(X.columns)\n",
    "relevant_features_idx = set(relevant_features.index)\n",
    "removed_feature = list(all_feature - relevant_features_idx)\n",
    "X.drop(columns=removed_feature, inplace=True)"
   ]
  },
  {
   "cell_type": "code",
   "execution_count": 9,
   "id": "26d92ee6-6e77-4fdf-a48b-6c523080804f",
   "metadata": {},
   "outputs": [
    {
     "data": {
      "text/plain": [
       "Protocol                  0.367517\n",
       "Flow Duration             0.336105\n",
       "Fwd Packet Length Max     0.328274\n",
       "Fwd Packet Length Mean    0.328239\n",
       "Bwd Packet Length Max     0.302911\n",
       "Bwd Packet Length Mean    0.327593\n",
       "Fwd IAT Total             0.328912\n",
       "Bwd IAT Total             0.322424\n",
       "Packet Length Max         0.373814\n",
       "Packet Length Mean        0.392885\n",
       "Packet Length Std         0.327140\n",
       "FIN Flag Count            0.434530\n",
       "SYN Flag Count            0.985020\n",
       "Average Packet Size       0.394235\n",
       "Fwd Segment Size Avg      0.328239\n",
       "Bwd Segment Size Avg      0.327593\n",
       "FWD Init Win Bytes        0.576701\n",
       "Fwd Seg Size Min          0.704290\n",
       "Idle Mean                 0.355265\n",
       "Idle Max                  0.360631\n",
       "Idle Min                  0.342896\n",
       "Label                     1.000000\n",
       "Name: Label, dtype: float64"
      ]
     },
     "execution_count": 9,
     "metadata": {},
     "output_type": "execute_result"
    }
   ],
   "source": [
    "cor_target[cor_target > 0.3]"
   ]
  },
  {
   "cell_type": "code",
   "execution_count": 10,
   "id": "a14aa52d-81ae-431c-99ff-8d88e5e9ffbd",
   "metadata": {},
   "outputs": [],
   "source": [
    "x_train, x_test, y_train, y_test = train_test_split(\n",
    "    X, y, test_size=1 / 7.0, random_state=1\n",
    ")"
   ]
  },
  {
   "cell_type": "code",
   "execution_count": 11,
   "id": "203da2c1-242e-49a0-99ba-a3cd91beb420",
   "metadata": {},
   "outputs": [
    {
     "data": {
      "text/plain": [
       "Index(['Protocol', 'Flow Duration', 'Fwd Packet Length Max',\n",
       "       'Fwd Packet Length Mean', 'Bwd Packet Length Max',\n",
       "       'Bwd Packet Length Mean', 'Fwd IAT Total', 'Bwd IAT Total',\n",
       "       'Packet Length Max', 'Packet Length Mean', 'Packet Length Std',\n",
       "       'FIN Flag Count', 'SYN Flag Count', 'Average Packet Size',\n",
       "       'Fwd Segment Size Avg', 'Bwd Segment Size Avg', 'FWD Init Win Bytes',\n",
       "       'Fwd Seg Size Min', 'Idle Mean', 'Idle Max', 'Idle Min'],\n",
       "      dtype='object')"
      ]
     },
     "execution_count": 11,
     "metadata": {},
     "output_type": "execute_result"
    }
   ],
   "source": [
    "x_train.columns"
   ]
  },
  {
   "cell_type": "code",
   "execution_count": 12,
   "id": "8314c0ad-c49e-4981-b24f-3dd92b77de72",
   "metadata": {},
   "outputs": [
    {
     "data": {
      "text/plain": [
       "LogisticRegression(solver='newton-cg')"
      ]
     },
     "execution_count": 12,
     "metadata": {},
     "output_type": "execute_result"
    }
   ],
   "source": [
    "clf = LogisticRegression(solver='newton-cg')\n",
    "clf.fit(x_train, y_train)"
   ]
  },
  {
   "cell_type": "code",
   "execution_count": 13,
   "id": "fc7c76f3-51d8-4d83-b297-816dd03cc773",
   "metadata": {},
   "outputs": [
    {
     "data": {
      "text/html": [
       "<div>\n",
       "<style scoped>\n",
       "    .dataframe tbody tr th:only-of-type {\n",
       "        vertical-align: middle;\n",
       "    }\n",
       "\n",
       "    .dataframe tbody tr th {\n",
       "        vertical-align: top;\n",
       "    }\n",
       "\n",
       "    .dataframe thead th {\n",
       "        text-align: right;\n",
       "    }\n",
       "</style>\n",
       "<table border=\"1\" class=\"dataframe\">\n",
       "  <thead>\n",
       "    <tr style=\"text-align: right;\">\n",
       "      <th></th>\n",
       "      <th>Protocol</th>\n",
       "      <th>Flow Duration</th>\n",
       "      <th>Fwd Packet Length Max</th>\n",
       "      <th>Fwd Packet Length Mean</th>\n",
       "      <th>Bwd Packet Length Max</th>\n",
       "      <th>Bwd Packet Length Mean</th>\n",
       "      <th>Fwd IAT Total</th>\n",
       "      <th>Bwd IAT Total</th>\n",
       "      <th>Packet Length Max</th>\n",
       "      <th>Packet Length Mean</th>\n",
       "      <th>...</th>\n",
       "      <th>FIN Flag Count</th>\n",
       "      <th>SYN Flag Count</th>\n",
       "      <th>Average Packet Size</th>\n",
       "      <th>Fwd Segment Size Avg</th>\n",
       "      <th>Bwd Segment Size Avg</th>\n",
       "      <th>FWD Init Win Bytes</th>\n",
       "      <th>Fwd Seg Size Min</th>\n",
       "      <th>Idle Mean</th>\n",
       "      <th>Idle Max</th>\n",
       "      <th>Idle Min</th>\n",
       "    </tr>\n",
       "  </thead>\n",
       "  <tbody>\n",
       "    <tr>\n",
       "      <th>1806398</th>\n",
       "      <td>1.000000</td>\n",
       "      <td>0.984720</td>\n",
       "      <td>0.040761</td>\n",
       "      <td>0.040761</td>\n",
       "      <td>0.000000</td>\n",
       "      <td>0.000000</td>\n",
       "      <td>0.984720</td>\n",
       "      <td>0.000000</td>\n",
       "      <td>0.020718</td>\n",
       "      <td>0.040761</td>\n",
       "      <td>...</td>\n",
       "      <td>0.0</td>\n",
       "      <td>0.000000</td>\n",
       "      <td>0.033967</td>\n",
       "      <td>0.040761</td>\n",
       "      <td>0.000000</td>\n",
       "      <td>0.000000</td>\n",
       "      <td>0.181818</td>\n",
       "      <td>0.328240</td>\n",
       "      <td>0.328252</td>\n",
       "      <td>0.328223</td>\n",
       "    </tr>\n",
       "    <tr>\n",
       "      <th>422849</th>\n",
       "      <td>0.352941</td>\n",
       "      <td>0.060089</td>\n",
       "      <td>0.000000</td>\n",
       "      <td>0.000000</td>\n",
       "      <td>0.000000</td>\n",
       "      <td>0.000000</td>\n",
       "      <td>0.060089</td>\n",
       "      <td>0.000000</td>\n",
       "      <td>0.000000</td>\n",
       "      <td>0.000000</td>\n",
       "      <td>...</td>\n",
       "      <td>0.0</td>\n",
       "      <td>0.571429</td>\n",
       "      <td>0.000000</td>\n",
       "      <td>0.000000</td>\n",
       "      <td>0.000000</td>\n",
       "      <td>0.445563</td>\n",
       "      <td>0.909091</td>\n",
       "      <td>0.000000</td>\n",
       "      <td>0.000000</td>\n",
       "      <td>0.000000</td>\n",
       "    </tr>\n",
       "    <tr>\n",
       "      <th>1772714</th>\n",
       "      <td>1.000000</td>\n",
       "      <td>0.984721</td>\n",
       "      <td>0.040761</td>\n",
       "      <td>0.040761</td>\n",
       "      <td>0.000000</td>\n",
       "      <td>0.000000</td>\n",
       "      <td>0.984721</td>\n",
       "      <td>0.000000</td>\n",
       "      <td>0.020718</td>\n",
       "      <td>0.040761</td>\n",
       "      <td>...</td>\n",
       "      <td>0.0</td>\n",
       "      <td>0.000000</td>\n",
       "      <td>0.033967</td>\n",
       "      <td>0.040761</td>\n",
       "      <td>0.000000</td>\n",
       "      <td>0.000000</td>\n",
       "      <td>0.181818</td>\n",
       "      <td>0.328240</td>\n",
       "      <td>0.328246</td>\n",
       "      <td>0.328233</td>\n",
       "    </tr>\n",
       "    <tr>\n",
       "      <th>828325</th>\n",
       "      <td>0.352941</td>\n",
       "      <td>0.060037</td>\n",
       "      <td>0.000000</td>\n",
       "      <td>0.000000</td>\n",
       "      <td>0.000000</td>\n",
       "      <td>0.000000</td>\n",
       "      <td>0.060037</td>\n",
       "      <td>0.000000</td>\n",
       "      <td>0.000000</td>\n",
       "      <td>0.000000</td>\n",
       "      <td>...</td>\n",
       "      <td>0.0</td>\n",
       "      <td>0.571429</td>\n",
       "      <td>0.000000</td>\n",
       "      <td>0.000000</td>\n",
       "      <td>0.000000</td>\n",
       "      <td>0.445563</td>\n",
       "      <td>0.909091</td>\n",
       "      <td>0.000000</td>\n",
       "      <td>0.000000</td>\n",
       "      <td>0.000000</td>\n",
       "    </tr>\n",
       "    <tr>\n",
       "      <th>659831</th>\n",
       "      <td>0.352941</td>\n",
       "      <td>0.059981</td>\n",
       "      <td>0.000000</td>\n",
       "      <td>0.000000</td>\n",
       "      <td>0.000000</td>\n",
       "      <td>0.000000</td>\n",
       "      <td>0.059981</td>\n",
       "      <td>0.000000</td>\n",
       "      <td>0.000000</td>\n",
       "      <td>0.000000</td>\n",
       "      <td>...</td>\n",
       "      <td>0.0</td>\n",
       "      <td>0.571429</td>\n",
       "      <td>0.000000</td>\n",
       "      <td>0.000000</td>\n",
       "      <td>0.000000</td>\n",
       "      <td>0.445563</td>\n",
       "      <td>0.909091</td>\n",
       "      <td>0.000000</td>\n",
       "      <td>0.000000</td>\n",
       "      <td>0.000000</td>\n",
       "    </tr>\n",
       "    <tr>\n",
       "      <th>...</th>\n",
       "      <td>...</td>\n",
       "      <td>...</td>\n",
       "      <td>...</td>\n",
       "      <td>...</td>\n",
       "      <td>...</td>\n",
       "      <td>...</td>\n",
       "      <td>...</td>\n",
       "      <td>...</td>\n",
       "      <td>...</td>\n",
       "      <td>...</td>\n",
       "      <td>...</td>\n",
       "      <td>...</td>\n",
       "      <td>...</td>\n",
       "      <td>...</td>\n",
       "      <td>...</td>\n",
       "      <td>...</td>\n",
       "      <td>...</td>\n",
       "      <td>...</td>\n",
       "      <td>...</td>\n",
       "      <td>...</td>\n",
       "      <td>...</td>\n",
       "    </tr>\n",
       "    <tr>\n",
       "      <th>1061856</th>\n",
       "      <td>0.352941</td>\n",
       "      <td>0.015646</td>\n",
       "      <td>0.351223</td>\n",
       "      <td>0.049932</td>\n",
       "      <td>0.489641</td>\n",
       "      <td>0.420700</td>\n",
       "      <td>0.015646</td>\n",
       "      <td>0.013514</td>\n",
       "      <td>0.489641</td>\n",
       "      <td>0.212738</td>\n",
       "      <td>...</td>\n",
       "      <td>0.0</td>\n",
       "      <td>0.142857</td>\n",
       "      <td>0.149290</td>\n",
       "      <td>0.049932</td>\n",
       "      <td>0.420700</td>\n",
       "      <td>0.066835</td>\n",
       "      <td>0.727273</td>\n",
       "      <td>0.000000</td>\n",
       "      <td>0.000000</td>\n",
       "      <td>0.000000</td>\n",
       "    </tr>\n",
       "    <tr>\n",
       "      <th>1577687</th>\n",
       "      <td>0.352941</td>\n",
       "      <td>0.995976</td>\n",
       "      <td>0.220109</td>\n",
       "      <td>0.077085</td>\n",
       "      <td>0.025552</td>\n",
       "      <td>0.001034</td>\n",
       "      <td>0.994172</td>\n",
       "      <td>0.994173</td>\n",
       "      <td>0.111878</td>\n",
       "      <td>0.039112</td>\n",
       "      <td>...</td>\n",
       "      <td>0.0</td>\n",
       "      <td>0.000000</td>\n",
       "      <td>0.026141</td>\n",
       "      <td>0.077085</td>\n",
       "      <td>0.001034</td>\n",
       "      <td>0.038895</td>\n",
       "      <td>0.727273</td>\n",
       "      <td>0.000000</td>\n",
       "      <td>0.000000</td>\n",
       "      <td>0.000000</td>\n",
       "    </tr>\n",
       "    <tr>\n",
       "      <th>1545258</th>\n",
       "      <td>1.000000</td>\n",
       "      <td>0.987139</td>\n",
       "      <td>0.040761</td>\n",
       "      <td>0.040761</td>\n",
       "      <td>0.020718</td>\n",
       "      <td>0.041096</td>\n",
       "      <td>0.984740</td>\n",
       "      <td>0.984589</td>\n",
       "      <td>0.020718</td>\n",
       "      <td>0.040761</td>\n",
       "      <td>...</td>\n",
       "      <td>0.0</td>\n",
       "      <td>0.000000</td>\n",
       "      <td>0.031056</td>\n",
       "      <td>0.040761</td>\n",
       "      <td>0.041096</td>\n",
       "      <td>0.000000</td>\n",
       "      <td>0.181818</td>\n",
       "      <td>0.326596</td>\n",
       "      <td>0.328246</td>\n",
       "      <td>0.325694</td>\n",
       "    </tr>\n",
       "    <tr>\n",
       "      <th>1444245</th>\n",
       "      <td>0.352941</td>\n",
       "      <td>0.000227</td>\n",
       "      <td>0.983696</td>\n",
       "      <td>0.351029</td>\n",
       "      <td>0.063191</td>\n",
       "      <td>0.062671</td>\n",
       "      <td>0.000227</td>\n",
       "      <td>0.000124</td>\n",
       "      <td>0.500000</td>\n",
       "      <td>0.258152</td>\n",
       "      <td>...</td>\n",
       "      <td>0.5</td>\n",
       "      <td>0.142857</td>\n",
       "      <td>0.191224</td>\n",
       "      <td>0.351029</td>\n",
       "      <td>0.062671</td>\n",
       "      <td>0.089113</td>\n",
       "      <td>0.727273</td>\n",
       "      <td>0.000000</td>\n",
       "      <td>0.000000</td>\n",
       "      <td>0.000000</td>\n",
       "    </tr>\n",
       "    <tr>\n",
       "      <th>736678</th>\n",
       "      <td>0.352941</td>\n",
       "      <td>0.060201</td>\n",
       "      <td>0.000000</td>\n",
       "      <td>0.000000</td>\n",
       "      <td>0.000000</td>\n",
       "      <td>0.000000</td>\n",
       "      <td>0.060201</td>\n",
       "      <td>0.000000</td>\n",
       "      <td>0.000000</td>\n",
       "      <td>0.000000</td>\n",
       "      <td>...</td>\n",
       "      <td>0.0</td>\n",
       "      <td>0.571429</td>\n",
       "      <td>0.000000</td>\n",
       "      <td>0.000000</td>\n",
       "      <td>0.000000</td>\n",
       "      <td>0.445563</td>\n",
       "      <td>0.909091</td>\n",
       "      <td>0.000000</td>\n",
       "      <td>0.000000</td>\n",
       "      <td>0.000000</td>\n",
       "    </tr>\n",
       "  </tbody>\n",
       "</table>\n",
       "<p>285715 rows × 21 columns</p>\n",
       "</div>"
      ],
      "text/plain": [
       "         Protocol  Flow Duration  Fwd Packet Length Max  \\\n",
       "1806398  1.000000       0.984720               0.040761   \n",
       "422849   0.352941       0.060089               0.000000   \n",
       "1772714  1.000000       0.984721               0.040761   \n",
       "828325   0.352941       0.060037               0.000000   \n",
       "659831   0.352941       0.059981               0.000000   \n",
       "...           ...            ...                    ...   \n",
       "1061856  0.352941       0.015646               0.351223   \n",
       "1577687  0.352941       0.995976               0.220109   \n",
       "1545258  1.000000       0.987139               0.040761   \n",
       "1444245  0.352941       0.000227               0.983696   \n",
       "736678   0.352941       0.060201               0.000000   \n",
       "\n",
       "         Fwd Packet Length Mean  Bwd Packet Length Max  \\\n",
       "1806398                0.040761               0.000000   \n",
       "422849                 0.000000               0.000000   \n",
       "1772714                0.040761               0.000000   \n",
       "828325                 0.000000               0.000000   \n",
       "659831                 0.000000               0.000000   \n",
       "...                         ...                    ...   \n",
       "1061856                0.049932               0.489641   \n",
       "1577687                0.077085               0.025552   \n",
       "1545258                0.040761               0.020718   \n",
       "1444245                0.351029               0.063191   \n",
       "736678                 0.000000               0.000000   \n",
       "\n",
       "         Bwd Packet Length Mean  Fwd IAT Total  Bwd IAT Total  \\\n",
       "1806398                0.000000       0.984720       0.000000   \n",
       "422849                 0.000000       0.060089       0.000000   \n",
       "1772714                0.000000       0.984721       0.000000   \n",
       "828325                 0.000000       0.060037       0.000000   \n",
       "659831                 0.000000       0.059981       0.000000   \n",
       "...                         ...            ...            ...   \n",
       "1061856                0.420700       0.015646       0.013514   \n",
       "1577687                0.001034       0.994172       0.994173   \n",
       "1545258                0.041096       0.984740       0.984589   \n",
       "1444245                0.062671       0.000227       0.000124   \n",
       "736678                 0.000000       0.060201       0.000000   \n",
       "\n",
       "         Packet Length Max  Packet Length Mean  ...  FIN Flag Count  \\\n",
       "1806398           0.020718            0.040761  ...             0.0   \n",
       "422849            0.000000            0.000000  ...             0.0   \n",
       "1772714           0.020718            0.040761  ...             0.0   \n",
       "828325            0.000000            0.000000  ...             0.0   \n",
       "659831            0.000000            0.000000  ...             0.0   \n",
       "...                    ...                 ...  ...             ...   \n",
       "1061856           0.489641            0.212738  ...             0.0   \n",
       "1577687           0.111878            0.039112  ...             0.0   \n",
       "1545258           0.020718            0.040761  ...             0.0   \n",
       "1444245           0.500000            0.258152  ...             0.5   \n",
       "736678            0.000000            0.000000  ...             0.0   \n",
       "\n",
       "         SYN Flag Count  Average Packet Size  Fwd Segment Size Avg  \\\n",
       "1806398        0.000000             0.033967              0.040761   \n",
       "422849         0.571429             0.000000              0.000000   \n",
       "1772714        0.000000             0.033967              0.040761   \n",
       "828325         0.571429             0.000000              0.000000   \n",
       "659831         0.571429             0.000000              0.000000   \n",
       "...                 ...                  ...                   ...   \n",
       "1061856        0.142857             0.149290              0.049932   \n",
       "1577687        0.000000             0.026141              0.077085   \n",
       "1545258        0.000000             0.031056              0.040761   \n",
       "1444245        0.142857             0.191224              0.351029   \n",
       "736678         0.571429             0.000000              0.000000   \n",
       "\n",
       "         Bwd Segment Size Avg  FWD Init Win Bytes  Fwd Seg Size Min  \\\n",
       "1806398              0.000000            0.000000          0.181818   \n",
       "422849               0.000000            0.445563          0.909091   \n",
       "1772714              0.000000            0.000000          0.181818   \n",
       "828325               0.000000            0.445563          0.909091   \n",
       "659831               0.000000            0.445563          0.909091   \n",
       "...                       ...                 ...               ...   \n",
       "1061856              0.420700            0.066835          0.727273   \n",
       "1577687              0.001034            0.038895          0.727273   \n",
       "1545258              0.041096            0.000000          0.181818   \n",
       "1444245              0.062671            0.089113          0.727273   \n",
       "736678               0.000000            0.445563          0.909091   \n",
       "\n",
       "         Idle Mean  Idle Max  Idle Min  \n",
       "1806398   0.328240  0.328252  0.328223  \n",
       "422849    0.000000  0.000000  0.000000  \n",
       "1772714   0.328240  0.328246  0.328233  \n",
       "828325    0.000000  0.000000  0.000000  \n",
       "659831    0.000000  0.000000  0.000000  \n",
       "...            ...       ...       ...  \n",
       "1061856   0.000000  0.000000  0.000000  \n",
       "1577687   0.000000  0.000000  0.000000  \n",
       "1545258   0.326596  0.328246  0.325694  \n",
       "1444245   0.000000  0.000000  0.000000  \n",
       "736678    0.000000  0.000000  0.000000  \n",
       "\n",
       "[285715 rows x 21 columns]"
      ]
     },
     "execution_count": 13,
     "metadata": {},
     "output_type": "execute_result"
    }
   ],
   "source": [
    "x_test"
   ]
  },
  {
   "cell_type": "code",
   "execution_count": 14,
   "id": "097992a0-04de-4947-8d03-cfc708b1c48d",
   "metadata": {},
   "outputs": [],
   "source": [
    "y_pred = clf.predict(x_test)"
   ]
  },
  {
   "cell_type": "code",
   "execution_count": 15,
   "id": "0be26309-f629-40e9-8510-446fe89b4a9e",
   "metadata": {},
   "outputs": [
    {
     "data": {
      "text/plain": [
       "0.9980015049962375"
      ]
     },
     "execution_count": 15,
     "metadata": {},
     "output_type": "execute_result"
    }
   ],
   "source": [
    "accuracy_score(y_test, y_pred)"
   ]
  },
  {
   "cell_type": "code",
   "execution_count": 16,
   "id": "5137cba3-23ff-4b62-a2ac-764d2ddd9cd3",
   "metadata": {},
   "outputs": [
    {
     "data": {
      "text/plain": [
       "array([142863,     93,    478, 142281])"
      ]
     },
     "execution_count": 16,
     "metadata": {},
     "output_type": "execute_result"
    }
   ],
   "source": [
    "confusion_matrix(y_test, y_pred).ravel()"
   ]
  },
  {
   "cell_type": "code",
   "execution_count": 17,
   "id": "64949505-12bc-47a6-a169-4039f50c3116",
   "metadata": {},
   "outputs": [
    {
     "data": {
      "text/plain": [
       "0.9966516997177061"
      ]
     },
     "execution_count": 17,
     "metadata": {},
     "output_type": "execute_result"
    }
   ],
   "source": [
    "recall_score(y_test, y_pred)"
   ]
  },
  {
   "cell_type": "code",
   "execution_count": 18,
   "id": "617c2cdb-8cae-44fe-9972-b5b24c6e3d85",
   "metadata": {},
   "outputs": [
    {
     "data": {
      "text/plain": [
       "0.9979974257627143"
      ]
     },
     "execution_count": 18,
     "metadata": {},
     "output_type": "execute_result"
    }
   ],
   "source": [
    "f1_score(y_test, y_pred)"
   ]
  },
  {
   "cell_type": "code",
   "execution_count": 19,
   "id": "33cd3bac-d906-4cbb-9258-cb93b7f88fb1",
   "metadata": {},
   "outputs": [
    {
     "data": {
      "text/plain": [
       "0.9993467908466434"
      ]
     },
     "execution_count": 19,
     "metadata": {},
     "output_type": "execute_result"
    }
   ],
   "source": [
    "precision_score(y_test, y_pred)"
   ]
  },
  {
   "cell_type": "code",
   "execution_count": 20,
   "id": "9afb0bf9-880a-4184-b3e5-d17050d6c47b",
   "metadata": {},
   "outputs": [
    {
     "data": {
      "text/plain": [
       "0.9980005749490906"
      ]
     },
     "execution_count": 20,
     "metadata": {},
     "output_type": "execute_result"
    }
   ],
   "source": [
    "roc_auc_score(y_test, y_pred)"
   ]
  },
  {
   "cell_type": "code",
   "execution_count": 22,
   "id": "4a819a6d-93a0-4a3a-b74e-1b0dd4018ab1",
   "metadata": {},
   "outputs": [
    {
     "data": {
      "text/plain": [
       "['/media/kmdr7/Seagate/TA/MODELS/LogisticRegression.joblib']"
      ]
     },
     "execution_count": 22,
     "metadata": {},
     "output_type": "execute_result"
    }
   ],
   "source": [
    "dump(clf, \"/media/kmdr7/Seagate/TA/MODELS/LogisticRegression.joblib\")"
   ]
  },
  {
   "cell_type": "code",
   "execution_count": 23,
   "id": "32141f74-7bcf-4665-8dbc-cf4f059fddc7",
   "metadata": {},
   "outputs": [
    {
     "name": "stdout",
     "output_type": "stream",
     "text": [
      "\n"
     ]
    }
   ],
   "source": [
    "print()"
   ]
  },
  {
   "cell_type": "code",
   "execution_count": null,
   "id": "15e5cab0-d7f5-4058-a7f6-95448ca0863d",
   "metadata": {},
   "outputs": [],
   "source": [
    "model = LogisticRegression()\n",
    "solvers = ['newton-cg', 'lbfgs', 'liblinear']\n",
    "penalty = ['l2']\n",
    "c_values = [100, 10, 1.0, 0.1, 0.01]\n",
    "\n",
    "# define grid search\n",
    "grid = dict(solver=solvers,penalty=penalty,C=c_values)\n",
    "cv = RepeatedStratifiedKFold(n_splits=2, n_repeats=1, random_state=1)\n",
    "\n",
    "grid_search = GridSearchCV(estimator=model, param_grid=grid, n_jobs=6, cv=cv, scoring='accuracy',error_score=0)\n",
    "grid_result = grid_search.fit(X, y)\n",
    "\n",
    "# summarize results\n",
    "print(\"Best: %f using %s\" % (grid_result.best_score_, grid_result.best_params_))\n",
    "\n",
    "means = grid_result.cv_results_['mean_test_score']\n",
    "stds = grid_result.cv_results_['std_test_score']\n",
    "params = grid_result.cv_results_['params']\n",
    "\n",
    "for mean, stdev, param in zip(means, stds, params):\n",
    "    print(\"%f (%f) with: %r\" % (mean, stdev, param))\n"
   ]
  }
 ],
 "metadata": {
  "kernelspec": {
   "display_name": "Python 3",
   "language": "python",
   "name": "python3"
  },
  "language_info": {
   "codemirror_mode": {
    "name": "ipython",
    "version": 3
   },
   "file_extension": ".py",
   "mimetype": "text/x-python",
   "name": "python",
   "nbconvert_exporter": "python",
   "pygments_lexer": "ipython3",
   "version": "3.8.5"
  }
 },
 "nbformat": 4,
 "nbformat_minor": 5
}
